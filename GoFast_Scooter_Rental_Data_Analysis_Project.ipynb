{
 "cells": [
  {
   "cell_type": "markdown",
   "id": "de156ef2",
   "metadata": {},
   "source": [
    "# Исследование данных сервиса аренды самокатов"
   ]
  },
  {
   "cell_type": "markdown",
   "id": "d4d2a2a6",
   "metadata": {},
   "source": [
    "Данный проект направлен на изучение данных о пользователях и их поездках в популярном сервисе аренды самокатов GoFast.\n",
    "\n",
    "Целью проекта является выявление факторов, которые могут способствовать росту бизнеса аренды самокатов GoFast и оптимизации его деятельности.\n",
    "\n"
   ]
  },
  {
   "cell_type": "markdown",
   "id": "d1cff924",
   "metadata": {},
   "source": [
    "\n",
    "Чтобы совершать поездки по городу, пользователи сервиса GoFast пользуются мобильным приложением. Сервисом можно пользоваться:\n",
    "\n",
    "* без подписки:  \n",
    "    * абонентская плата отсутствует;  \n",
    "    * стоимость одной минуты поездки — 8 рублей;  \n",
    "    * стоимость старта (начала поездки) — 50 рублей;  \n",
    "\n",
    "\n",
    "* с подпиской Ultra:  \n",
    "    * абонентская плата — 199 рублей в месяц;  \n",
    "    * стоимость одной минуты поездки — 6 рублей;  \n",
    "    * стоимость старта — бесплатно.\n",
    "    \n"
   ]
  },
  {
   "cell_type": "markdown",
   "id": "4bc38c19",
   "metadata": {},
   "source": [
    "\n",
    "\n",
    "Данные, предоставленные на анализ, состоят из трех наборов:\n",
    "\n",
    "* Пользователи (`users_go.csv`):\n",
    "\n",
    "     `user_id`            - уникальный идентификатор пользователя    \n",
    "     `name`\t            - имя пользователя    \n",
    "     `age`\t            - возраст    \n",
    "     `city`\t            - город    \n",
    "     `subscription_type`  - тип подписки (free - без подписки, ultra - с подпиской)\n",
    "    \n",
    "\n",
    "* Поездки (`rides_go.csv`): \n",
    "\n",
    "    `user_id`\t - уникальный идентификатор пользователя    \n",
    "    `distance` - расстояние, которое пользователь проехал в текущей сессии (в метрах)    \n",
    "    `duration` - продолжительность сессии (в минутах) (время с того момента, как пользователь нажал кнопку «Начать                  поездку» до момента, как он нажал кнопку «Завершить поездку»)    \n",
    "    `date`\t - дата совершения поездки\n",
    "\n",
    "\n",
    "* Подписки (`subscriptions_go.csv`): \n",
    "\n",
    "    `subscription_type` -\tтип подписки    \n",
    "    `minute_price`      -\tстоимость одной минуты поездки по данной подписке    \n",
    "    `start_ride_price`  -\tстоимость начала поездки    \n",
    "    `subscription_fee`  -\tстоимость ежемесячного платежа\n",
    "\n",
    "\n"
   ]
  },
  {
   "cell_type": "markdown",
   "id": "8d72dfed",
   "metadata": {},
   "source": [
    "\n",
    "Основные этапы работы:\n",
    "*\tСбор и предварительная обработка данных.\n",
    "*\tИсследование общей информации о пользователях и поездках.\n",
    "*\tРасчет выручки сервиса GoFast за исследуемый период.\n",
    "*\tПроверка гипотез для определения целесообразности увеличения количества подписок. \n",
    "*\tОптимизация маркетинговых акций по привлечению пользователей с подпиской.\n",
    "*\tВыводы и рекомендации по оптимизации деятельности и увеличению выручки сервиса GoFast.\n",
    "\n",
    "Данное исследование позволит руководству компании принять информированные решения и разработать стратегии роста бизнеса. "
   ]
  },
  {
   "cell_type": "markdown",
   "id": "c42cbe00",
   "metadata": {},
   "source": [
    "## Открытие файлов с данными"
   ]
  },
  {
   "cell_type": "markdown",
   "id": "5e8b9b69",
   "metadata": {},
   "source": [
    "С целью изучения информации о пользователях, их поездках и подписках, откроем три представленные на анализ файла и  выведем на экран первые 10 строк, а также сводную информацию о структуре данных каждой таблицы. "
   ]
  },
  {
   "cell_type": "code",
   "execution_count": 1,
   "id": "ac8f6253",
   "metadata": {},
   "outputs": [],
   "source": [
    "import pandas as pd\n",
    "import matplotlib.pyplot as plt\n",
    "import numpy as np\n",
    "from scipy import stats as st"
   ]
  },
  {
   "cell_type": "code",
   "execution_count": 2,
   "id": "eff9f206",
   "metadata": {},
   "outputs": [],
   "source": [
    "pd.set_option('display.max_columns', None)\n",
    "pd.options.display.float_format = '{:,.2f}'.format"
   ]
  },
  {
   "cell_type": "code",
   "execution_count": 3,
   "id": "8c191518",
   "metadata": {},
   "outputs": [
    {
     "data": {
      "text/html": [
       "<div>\n",
       "<style scoped>\n",
       "    .dataframe tbody tr th:only-of-type {\n",
       "        vertical-align: middle;\n",
       "    }\n",
       "\n",
       "    .dataframe tbody tr th {\n",
       "        vertical-align: top;\n",
       "    }\n",
       "\n",
       "    .dataframe thead th {\n",
       "        text-align: right;\n",
       "    }\n",
       "</style>\n",
       "<table border=\"1\" class=\"dataframe\">\n",
       "  <thead>\n",
       "    <tr style=\"text-align: right;\">\n",
       "      <th></th>\n",
       "      <th>user_id</th>\n",
       "      <th>name</th>\n",
       "      <th>age</th>\n",
       "      <th>city</th>\n",
       "      <th>subscription_type</th>\n",
       "    </tr>\n",
       "  </thead>\n",
       "  <tbody>\n",
       "    <tr>\n",
       "      <th>0</th>\n",
       "      <td>1</td>\n",
       "      <td>Кира</td>\n",
       "      <td>22</td>\n",
       "      <td>Тюмень</td>\n",
       "      <td>ultra</td>\n",
       "    </tr>\n",
       "    <tr>\n",
       "      <th>1</th>\n",
       "      <td>2</td>\n",
       "      <td>Станислав</td>\n",
       "      <td>31</td>\n",
       "      <td>Омск</td>\n",
       "      <td>ultra</td>\n",
       "    </tr>\n",
       "    <tr>\n",
       "      <th>2</th>\n",
       "      <td>3</td>\n",
       "      <td>Алексей</td>\n",
       "      <td>20</td>\n",
       "      <td>Москва</td>\n",
       "      <td>ultra</td>\n",
       "    </tr>\n",
       "    <tr>\n",
       "      <th>3</th>\n",
       "      <td>4</td>\n",
       "      <td>Константин</td>\n",
       "      <td>26</td>\n",
       "      <td>Ростов-на-Дону</td>\n",
       "      <td>ultra</td>\n",
       "    </tr>\n",
       "    <tr>\n",
       "      <th>4</th>\n",
       "      <td>5</td>\n",
       "      <td>Адель</td>\n",
       "      <td>28</td>\n",
       "      <td>Омск</td>\n",
       "      <td>ultra</td>\n",
       "    </tr>\n",
       "    <tr>\n",
       "      <th>5</th>\n",
       "      <td>6</td>\n",
       "      <td>Регина</td>\n",
       "      <td>25</td>\n",
       "      <td>Краснодар</td>\n",
       "      <td>ultra</td>\n",
       "    </tr>\n",
       "    <tr>\n",
       "      <th>6</th>\n",
       "      <td>7</td>\n",
       "      <td>Игорь</td>\n",
       "      <td>23</td>\n",
       "      <td>Омск</td>\n",
       "      <td>ultra</td>\n",
       "    </tr>\n",
       "    <tr>\n",
       "      <th>7</th>\n",
       "      <td>8</td>\n",
       "      <td>Юрий</td>\n",
       "      <td>23</td>\n",
       "      <td>Краснодар</td>\n",
       "      <td>ultra</td>\n",
       "    </tr>\n",
       "    <tr>\n",
       "      <th>8</th>\n",
       "      <td>9</td>\n",
       "      <td>Ян</td>\n",
       "      <td>21</td>\n",
       "      <td>Пятигорск</td>\n",
       "      <td>ultra</td>\n",
       "    </tr>\n",
       "    <tr>\n",
       "      <th>9</th>\n",
       "      <td>10</td>\n",
       "      <td>Валерий</td>\n",
       "      <td>18</td>\n",
       "      <td>Екатеринбург</td>\n",
       "      <td>ultra</td>\n",
       "    </tr>\n",
       "  </tbody>\n",
       "</table>\n",
       "</div>"
      ],
      "text/plain": [
       "   user_id        name  age            city subscription_type\n",
       "0        1        Кира   22          Тюмень             ultra\n",
       "1        2   Станислав   31            Омск             ultra\n",
       "2        3     Алексей   20          Москва             ultra\n",
       "3        4  Константин   26  Ростов-на-Дону             ultra\n",
       "4        5       Адель   28            Омск             ultra\n",
       "5        6      Регина   25       Краснодар             ultra\n",
       "6        7       Игорь   23            Омск             ultra\n",
       "7        8        Юрий   23       Краснодар             ultra\n",
       "8        9          Ян   21       Пятигорск             ultra\n",
       "9       10     Валерий   18    Екатеринбург             ultra"
      ]
     },
     "execution_count": 3,
     "metadata": {},
     "output_type": "execute_result"
    }
   ],
   "source": [
    "users = pd.read_csv('/datasets/users_go.csv')\n",
    "users.head(10)"
   ]
  },
  {
   "cell_type": "code",
   "execution_count": 4,
   "id": "f43a1c3a",
   "metadata": {},
   "outputs": [
    {
     "name": "stdout",
     "output_type": "stream",
     "text": [
      "<class 'pandas.core.frame.DataFrame'>\n",
      "RangeIndex: 1565 entries, 0 to 1564\n",
      "Data columns (total 5 columns):\n",
      " #   Column             Non-Null Count  Dtype \n",
      "---  ------             --------------  ----- \n",
      " 0   user_id            1565 non-null   int64 \n",
      " 1   name               1565 non-null   object\n",
      " 2   age                1565 non-null   int64 \n",
      " 3   city               1565 non-null   object\n",
      " 4   subscription_type  1565 non-null   object\n",
      "dtypes: int64(2), object(3)\n",
      "memory usage: 61.3+ KB\n"
     ]
    }
   ],
   "source": [
    "users.info()"
   ]
  },
  {
   "cell_type": "code",
   "execution_count": 5,
   "id": "e8445194",
   "metadata": {},
   "outputs": [
    {
     "data": {
      "text/html": [
       "<div>\n",
       "<style scoped>\n",
       "    .dataframe tbody tr th:only-of-type {\n",
       "        vertical-align: middle;\n",
       "    }\n",
       "\n",
       "    .dataframe tbody tr th {\n",
       "        vertical-align: top;\n",
       "    }\n",
       "\n",
       "    .dataframe thead th {\n",
       "        text-align: right;\n",
       "    }\n",
       "</style>\n",
       "<table border=\"1\" class=\"dataframe\">\n",
       "  <thead>\n",
       "    <tr style=\"text-align: right;\">\n",
       "      <th></th>\n",
       "      <th>user_id</th>\n",
       "      <th>distance</th>\n",
       "      <th>duration</th>\n",
       "      <th>date</th>\n",
       "    </tr>\n",
       "  </thead>\n",
       "  <tbody>\n",
       "    <tr>\n",
       "      <th>0</th>\n",
       "      <td>1</td>\n",
       "      <td>4,409.92</td>\n",
       "      <td>25.60</td>\n",
       "      <td>2021-01-01</td>\n",
       "    </tr>\n",
       "    <tr>\n",
       "      <th>1</th>\n",
       "      <td>1</td>\n",
       "      <td>2,617.59</td>\n",
       "      <td>15.82</td>\n",
       "      <td>2021-01-18</td>\n",
       "    </tr>\n",
       "    <tr>\n",
       "      <th>2</th>\n",
       "      <td>1</td>\n",
       "      <td>754.16</td>\n",
       "      <td>6.23</td>\n",
       "      <td>2021-04-20</td>\n",
       "    </tr>\n",
       "    <tr>\n",
       "      <th>3</th>\n",
       "      <td>1</td>\n",
       "      <td>2,694.78</td>\n",
       "      <td>18.51</td>\n",
       "      <td>2021-08-11</td>\n",
       "    </tr>\n",
       "    <tr>\n",
       "      <th>4</th>\n",
       "      <td>1</td>\n",
       "      <td>4,028.69</td>\n",
       "      <td>26.27</td>\n",
       "      <td>2021-08-28</td>\n",
       "    </tr>\n",
       "    <tr>\n",
       "      <th>5</th>\n",
       "      <td>1</td>\n",
       "      <td>2,770.89</td>\n",
       "      <td>16.65</td>\n",
       "      <td>2021-10-09</td>\n",
       "    </tr>\n",
       "    <tr>\n",
       "      <th>6</th>\n",
       "      <td>1</td>\n",
       "      <td>3,039.02</td>\n",
       "      <td>14.93</td>\n",
       "      <td>2021-10-19</td>\n",
       "    </tr>\n",
       "    <tr>\n",
       "      <th>7</th>\n",
       "      <td>1</td>\n",
       "      <td>2,842.12</td>\n",
       "      <td>23.12</td>\n",
       "      <td>2021-11-06</td>\n",
       "    </tr>\n",
       "    <tr>\n",
       "      <th>8</th>\n",
       "      <td>1</td>\n",
       "      <td>3,412.69</td>\n",
       "      <td>15.24</td>\n",
       "      <td>2021-11-14</td>\n",
       "    </tr>\n",
       "    <tr>\n",
       "      <th>9</th>\n",
       "      <td>1</td>\n",
       "      <td>748.69</td>\n",
       "      <td>15.04</td>\n",
       "      <td>2021-11-22</td>\n",
       "    </tr>\n",
       "  </tbody>\n",
       "</table>\n",
       "</div>"
      ],
      "text/plain": [
       "   user_id  distance  duration        date\n",
       "0        1  4,409.92     25.60  2021-01-01\n",
       "1        1  2,617.59     15.82  2021-01-18\n",
       "2        1    754.16      6.23  2021-04-20\n",
       "3        1  2,694.78     18.51  2021-08-11\n",
       "4        1  4,028.69     26.27  2021-08-28\n",
       "5        1  2,770.89     16.65  2021-10-09\n",
       "6        1  3,039.02     14.93  2021-10-19\n",
       "7        1  2,842.12     23.12  2021-11-06\n",
       "8        1  3,412.69     15.24  2021-11-14\n",
       "9        1    748.69     15.04  2021-11-22"
      ]
     },
     "execution_count": 5,
     "metadata": {},
     "output_type": "execute_result"
    }
   ],
   "source": [
    "rides = pd.read_csv('/datasets/rides_go.csv')\n",
    "rides.head(10)"
   ]
  },
  {
   "cell_type": "code",
   "execution_count": 6,
   "id": "3d42a0b1",
   "metadata": {},
   "outputs": [
    {
     "name": "stdout",
     "output_type": "stream",
     "text": [
      "<class 'pandas.core.frame.DataFrame'>\n",
      "RangeIndex: 18068 entries, 0 to 18067\n",
      "Data columns (total 4 columns):\n",
      " #   Column    Non-Null Count  Dtype  \n",
      "---  ------    --------------  -----  \n",
      " 0   user_id   18068 non-null  int64  \n",
      " 1   distance  18068 non-null  float64\n",
      " 2   duration  18068 non-null  float64\n",
      " 3   date      18068 non-null  object \n",
      "dtypes: float64(2), int64(1), object(1)\n",
      "memory usage: 564.8+ KB\n"
     ]
    }
   ],
   "source": [
    "rides.info()"
   ]
  },
  {
   "cell_type": "code",
   "execution_count": 7,
   "id": "224fe26a",
   "metadata": {},
   "outputs": [
    {
     "data": {
      "text/html": [
       "<div>\n",
       "<style scoped>\n",
       "    .dataframe tbody tr th:only-of-type {\n",
       "        vertical-align: middle;\n",
       "    }\n",
       "\n",
       "    .dataframe tbody tr th {\n",
       "        vertical-align: top;\n",
       "    }\n",
       "\n",
       "    .dataframe thead th {\n",
       "        text-align: right;\n",
       "    }\n",
       "</style>\n",
       "<table border=\"1\" class=\"dataframe\">\n",
       "  <thead>\n",
       "    <tr style=\"text-align: right;\">\n",
       "      <th></th>\n",
       "      <th>subscription_type</th>\n",
       "      <th>minute_price</th>\n",
       "      <th>start_ride_price</th>\n",
       "      <th>subscription_fee</th>\n",
       "    </tr>\n",
       "  </thead>\n",
       "  <tbody>\n",
       "    <tr>\n",
       "      <th>0</th>\n",
       "      <td>free</td>\n",
       "      <td>8</td>\n",
       "      <td>50</td>\n",
       "      <td>0</td>\n",
       "    </tr>\n",
       "    <tr>\n",
       "      <th>1</th>\n",
       "      <td>ultra</td>\n",
       "      <td>6</td>\n",
       "      <td>0</td>\n",
       "      <td>199</td>\n",
       "    </tr>\n",
       "  </tbody>\n",
       "</table>\n",
       "</div>"
      ],
      "text/plain": [
       "  subscription_type  minute_price  start_ride_price  subscription_fee\n",
       "0              free             8                50                 0\n",
       "1             ultra             6                 0               199"
      ]
     },
     "execution_count": 7,
     "metadata": {},
     "output_type": "execute_result"
    }
   ],
   "source": [
    "subscr = pd.read_csv('/datasets/subscriptions_go.csv')\n",
    "subscr.head()"
   ]
  },
  {
   "cell_type": "code",
   "execution_count": 8,
   "id": "49537a39",
   "metadata": {},
   "outputs": [
    {
     "name": "stdout",
     "output_type": "stream",
     "text": [
      "<class 'pandas.core.frame.DataFrame'>\n",
      "RangeIndex: 2 entries, 0 to 1\n",
      "Data columns (total 4 columns):\n",
      " #   Column             Non-Null Count  Dtype \n",
      "---  ------             --------------  ----- \n",
      " 0   subscription_type  2 non-null      object\n",
      " 1   minute_price       2 non-null      int64 \n",
      " 2   start_ride_price   2 non-null      int64 \n",
      " 3   subscription_fee   2 non-null      int64 \n",
      "dtypes: int64(3), object(1)\n",
      "memory usage: 192.0+ bytes\n"
     ]
    }
   ],
   "source": [
    "subscr.info()"
   ]
  },
  {
   "cell_type": "markdown",
   "id": "c4619fe3",
   "metadata": {},
   "source": [
    "**Выводы:**\n",
    "\n",
    "* Предоставленные на анализ данные состоят из трех наборов: информация о пользователях, о поездках и подписках. Предварительно можно утверждать, что для проведения исследования данных достаточно.\n",
    "\n",
    "* В каждой из таблиц количество значений в столбцах одинаково, что говорит об отсутствии пропусков.\n",
    "\n",
    "* Тип данных в столбце `date` таблицы `rides` следует привести к типу даты pandas.\n"
   ]
  },
  {
   "cell_type": "markdown",
   "id": "e95ebca7",
   "metadata": {},
   "source": [
    "## Предобработка данных"
   ]
  },
  {
   "cell_type": "markdown",
   "id": "f41e6bc0",
   "metadata": {},
   "source": [
    "Изменим тип данных в столбце с датой в таблице, содержащей информацию о поездках пользователей, и добавим в нее столбец с номером месяца."
   ]
  },
  {
   "cell_type": "code",
   "execution_count": 9,
   "id": "af6d202c",
   "metadata": {
    "scrolled": true
   },
   "outputs": [
    {
     "name": "stdout",
     "output_type": "stream",
     "text": [
      "<class 'pandas.core.frame.DataFrame'>\n",
      "RangeIndex: 18068 entries, 0 to 18067\n",
      "Data columns (total 4 columns):\n",
      " #   Column    Non-Null Count  Dtype         \n",
      "---  ------    --------------  -----         \n",
      " 0   user_id   18068 non-null  int64         \n",
      " 1   distance  18068 non-null  float64       \n",
      " 2   duration  18068 non-null  float64       \n",
      " 3   date      18068 non-null  datetime64[ns]\n",
      "dtypes: datetime64[ns](1), float64(2), int64(1)\n",
      "memory usage: 564.8 KB\n"
     ]
    }
   ],
   "source": [
    "rides['date'] = pd.to_datetime(rides['date'], format='%Y-%m-%d')\n",
    "rides.info()"
   ]
  },
  {
   "cell_type": "code",
   "execution_count": 10,
   "id": "8fd501f1",
   "metadata": {
    "scrolled": true
   },
   "outputs": [
    {
     "data": {
      "text/html": [
       "<div>\n",
       "<style scoped>\n",
       "    .dataframe tbody tr th:only-of-type {\n",
       "        vertical-align: middle;\n",
       "    }\n",
       "\n",
       "    .dataframe tbody tr th {\n",
       "        vertical-align: top;\n",
       "    }\n",
       "\n",
       "    .dataframe thead th {\n",
       "        text-align: right;\n",
       "    }\n",
       "</style>\n",
       "<table border=\"1\" class=\"dataframe\">\n",
       "  <thead>\n",
       "    <tr style=\"text-align: right;\">\n",
       "      <th></th>\n",
       "      <th>user_id</th>\n",
       "      <th>distance</th>\n",
       "      <th>duration</th>\n",
       "      <th>date</th>\n",
       "      <th>month</th>\n",
       "    </tr>\n",
       "  </thead>\n",
       "  <tbody>\n",
       "    <tr>\n",
       "      <th>0</th>\n",
       "      <td>1</td>\n",
       "      <td>4,409.92</td>\n",
       "      <td>25.60</td>\n",
       "      <td>2021-01-01</td>\n",
       "      <td>1</td>\n",
       "    </tr>\n",
       "    <tr>\n",
       "      <th>1</th>\n",
       "      <td>1</td>\n",
       "      <td>2,617.59</td>\n",
       "      <td>15.82</td>\n",
       "      <td>2021-01-18</td>\n",
       "      <td>1</td>\n",
       "    </tr>\n",
       "    <tr>\n",
       "      <th>2</th>\n",
       "      <td>1</td>\n",
       "      <td>754.16</td>\n",
       "      <td>6.23</td>\n",
       "      <td>2021-04-20</td>\n",
       "      <td>4</td>\n",
       "    </tr>\n",
       "    <tr>\n",
       "      <th>3</th>\n",
       "      <td>1</td>\n",
       "      <td>2,694.78</td>\n",
       "      <td>18.51</td>\n",
       "      <td>2021-08-11</td>\n",
       "      <td>8</td>\n",
       "    </tr>\n",
       "    <tr>\n",
       "      <th>4</th>\n",
       "      <td>1</td>\n",
       "      <td>4,028.69</td>\n",
       "      <td>26.27</td>\n",
       "      <td>2021-08-28</td>\n",
       "      <td>8</td>\n",
       "    </tr>\n",
       "  </tbody>\n",
       "</table>\n",
       "</div>"
      ],
      "text/plain": [
       "   user_id  distance  duration       date  month\n",
       "0        1  4,409.92     25.60 2021-01-01      1\n",
       "1        1  2,617.59     15.82 2021-01-18      1\n",
       "2        1    754.16      6.23 2021-04-20      4\n",
       "3        1  2,694.78     18.51 2021-08-11      8\n",
       "4        1  4,028.69     26.27 2021-08-28      8"
      ]
     },
     "execution_count": 10,
     "metadata": {},
     "output_type": "execute_result"
    }
   ],
   "source": [
    "rides['month'] = rides['date'].dt.month\n",
    "rides.head()"
   ]
  },
  {
   "cell_type": "markdown",
   "id": "88e5ac34",
   "metadata": {},
   "source": [
    "Проверим наличие явных дубликатов в первом датафрейме."
   ]
  },
  {
   "cell_type": "code",
   "execution_count": 11,
   "id": "0c0994bf",
   "metadata": {},
   "outputs": [
    {
     "data": {
      "text/plain": [
       "31"
      ]
     },
     "execution_count": 11,
     "metadata": {},
     "output_type": "execute_result"
    }
   ],
   "source": [
    "users.duplicated().sum()"
   ]
  },
  {
   "cell_type": "markdown",
   "id": "e5a95d2e",
   "metadata": {},
   "source": [
    "В данных обнаружен 31 дубликат. Их следует удалить."
   ]
  },
  {
   "cell_type": "code",
   "execution_count": 12,
   "id": "19e1bf52",
   "metadata": {},
   "outputs": [],
   "source": [
    "users = users.drop_duplicates().reset_index(drop = True)"
   ]
  },
  {
   "cell_type": "code",
   "execution_count": 13,
   "id": "da8de189",
   "metadata": {},
   "outputs": [
    {
     "data": {
      "text/plain": [
       "0"
      ]
     },
     "execution_count": 13,
     "metadata": {},
     "output_type": "execute_result"
    }
   ],
   "source": [
    "users.duplicated().sum()"
   ]
  },
  {
   "cell_type": "markdown",
   "id": "c4538d7d",
   "metadata": {},
   "source": [
    "Проверим наличие дубликатов во втором датафрейме."
   ]
  },
  {
   "cell_type": "code",
   "execution_count": 14,
   "id": "6f18b627",
   "metadata": {
    "scrolled": true
   },
   "outputs": [
    {
     "data": {
      "text/plain": [
       "0"
      ]
     },
     "execution_count": 14,
     "metadata": {},
     "output_type": "execute_result"
    }
   ],
   "source": [
    "rides.duplicated().sum()"
   ]
  },
  {
   "cell_type": "markdown",
   "id": "0d1c3186",
   "metadata": {},
   "source": [
    "Во второй таблице повторяющихся строк не обнаружено. Третья таблица содержит только 2 строки, и они различны."
   ]
  },
  {
   "cell_type": "markdown",
   "id": "cfe0829b",
   "metadata": {},
   "source": [
    "**Выводы:**\n",
    "\n",
    "* В одном из столбцов датафрейма `rides` был изменен тип данных согласно его смысловому содержанию.\n",
    "\n",
    "* В таблицу `rides` был добавлен столбец, отражающий информацию о месяце совершения поездки.\n",
    "\n",
    "* В наборе данных о пользователях были обнаружены и удалены дубликаты.\n",
    "\n",
    "* Аномалий в исходных данных не обнаружено.\n"
   ]
  },
  {
   "cell_type": "markdown",
   "id": "212593c7",
   "metadata": {},
   "source": [
    "## Анализ данных о пользователях и поездках."
   ]
  },
  {
   "cell_type": "markdown",
   "id": "d5e41a7f",
   "metadata": {},
   "source": [
    "Исследуем общую информацию о пользователях сервиса аренды самокатов GoFast и их поездках."
   ]
  },
  {
   "cell_type": "markdown",
   "id": "b1356d44",
   "metadata": {},
   "source": [
    "### Частота встречаемости городов."
   ]
  },
  {
   "cell_type": "markdown",
   "id": "4fdfa676",
   "metadata": {},
   "source": [
    "Исследуем распределение пользователей сервиса по городам."
   ]
  },
  {
   "cell_type": "code",
   "execution_count": 15,
   "id": "e3a4274c",
   "metadata": {},
   "outputs": [
    {
     "data": {
      "text/plain": [
       "city\n",
       "Пятигорск         219\n",
       "Екатеринбург      204\n",
       "Ростов-на-Дону    198\n",
       "Краснодар         193\n",
       "Сочи              189\n",
       "Омск              183\n",
       "Тюмень            180\n",
       "Москва            168\n",
       "Name: name, dtype: int64"
      ]
     },
     "execution_count": 15,
     "metadata": {},
     "output_type": "execute_result"
    }
   ],
   "source": [
    "cities = users.groupby(by= 'city')['name'].count().sort_values(ascending=False)\n",
    "cities"
   ]
  },
  {
   "cell_type": "code",
   "execution_count": 16,
   "id": "d31d9719",
   "metadata": {},
   "outputs": [
    {
     "data": {
      "image/png": "[encoded data removed]",
      "text/plain": [
       "<Figure size 432x288 with 1 Axes>"
      ]
     },
     "metadata": {
      "needs_background": "light"
     },
     "output_type": "display_data"
    }
   ],
   "source": [
    "plt.bar(cities.index, cities)\n",
    "plt.xticks(rotation=70)\n",
    "plt.xlabel('Города')\n",
    "plt.ylabel('Количество пользователей, чел.')\n",
    "plt.title('Распределение пользователей по городам')\n",
    "plt.grid(True)\n",
    "plt.show()"
   ]
  },
  {
   "cell_type": "markdown",
   "id": "ded9ff6d",
   "metadata": {},
   "source": [
    "Больше всего пользователей в Пятигорске, меньше всего - в Москве."
   ]
  },
  {
   "cell_type": "markdown",
   "id": "fe8c57cb",
   "metadata": {},
   "source": [
    "### Cоотношение пользователей с подпиской и без подписки"
   ]
  },
  {
   "cell_type": "markdown",
   "id": "8ae0d718",
   "metadata": {},
   "source": [
    "Исследуем распределение пользователь сервиса по типу подписки."
   ]
  },
  {
   "cell_type": "code",
   "execution_count": 17,
   "id": "9501fb59",
   "metadata": {},
   "outputs": [
    {
     "data": {
      "text/plain": [
       "subscription_type\n",
       "free     835\n",
       "ultra    699\n",
       "Name: name, dtype: int64"
      ]
     },
     "execution_count": 17,
     "metadata": {},
     "output_type": "execute_result"
    }
   ],
   "source": [
    "sub_type = users.groupby(by= 'subscription_type')['name'].count().sort_values(ascending=False)\n",
    "sub_type"
   ]
  },
  {
   "cell_type": "code",
   "execution_count": 18,
   "id": "dd7b4bb9",
   "metadata": {},
   "outputs": [
    {
     "data": {
      "image/png": "[encoded data removed]",
      "text/plain": [
       "<Figure size 432x288 with 1 Axes>"
      ]
     },
     "metadata": {},
     "output_type": "display_data"
    }
   ],
   "source": [
    "plt.pie(sub_type, labels = ['free', 'ultra'], autopct='%1.1f%%')\n",
    "plt.title('Распределение пользователей по типу подписки')\n",
    "plt.show()"
   ]
  },
  {
   "cell_type": "markdown",
   "id": "19a9a2e2",
   "metadata": {},
   "source": [
    "Больше половины пользователей не имеют платной подписки."
   ]
  },
  {
   "cell_type": "markdown",
   "id": "ec95b9ad",
   "metadata": {},
   "source": [
    "### Возраст пользователей"
   ]
  },
  {
   "cell_type": "markdown",
   "id": "180186e0",
   "metadata": {},
   "source": [
    "Исследуем распределение пользователей сервиса по возрасту."
   ]
  },
  {
   "cell_type": "code",
   "execution_count": 19,
   "id": "65ca6d15",
   "metadata": {},
   "outputs": [
    {
     "data": {
      "text/plain": [
       "count   1,534.00\n",
       "mean       24.90\n",
       "std         4.57\n",
       "min        12.00\n",
       "25%        22.00\n",
       "50%        25.00\n",
       "75%        28.00\n",
       "max        43.00\n",
       "Name: age, dtype: float64"
      ]
     },
     "execution_count": 19,
     "metadata": {},
     "output_type": "execute_result"
    }
   ],
   "source": [
    "users.age.describe()"
   ]
  },
  {
   "cell_type": "code",
   "execution_count": 20,
   "id": "849ce24d",
   "metadata": {},
   "outputs": [
    {
     "data": {
      "image/png": "[encoded data removed]",
      "text/plain": [
       "<Figure size 432x288 with 1 Axes>"
      ]
     },
     "metadata": {
      "needs_background": "light"
     },
     "output_type": "display_data"
    }
   ],
   "source": [
    "plt.hist(users.age, bins=11, edgecolor='black')\n",
    "plt.xlabel('Возраст пользователей, лет')\n",
    "plt.ylabel('Количество пользователей, чел.')\n",
    "plt.title('Распределение пользователей по возрасту')\n",
    "plt.grid(True)\n",
    "plt.show()"
   ]
  },
  {
   "cell_type": "markdown",
   "id": "111743c2",
   "metadata": {},
   "source": [
    "В основном сервисом пользуются люди от 22 до 28 лет. Средний возраст пользователей 25 лет. Самому младшему пользователю 12 лет, самому старшему - 43 года."
   ]
  },
  {
   "cell_type": "markdown",
   "id": "93c1ea8c",
   "metadata": {},
   "source": [
    "### Протяженность поездок"
   ]
  },
  {
   "cell_type": "markdown",
   "id": "8b5583b3",
   "metadata": {},
   "source": [
    "Исследуем расстояние, преодолеваемое пользователем в рамках одной поездки."
   ]
  },
  {
   "cell_type": "code",
   "execution_count": 21,
   "id": "18158c68",
   "metadata": {},
   "outputs": [
    {
     "data": {
      "text/plain": [
       "count   18,068.00\n",
       "mean     3,070.66\n",
       "std      1,116.83\n",
       "min          0.86\n",
       "25%      2,543.23\n",
       "50%      3,133.61\n",
       "75%      3,776.22\n",
       "max      7,211.01\n",
       "Name: distance, dtype: float64"
      ]
     },
     "execution_count": 21,
     "metadata": {},
     "output_type": "execute_result"
    }
   ],
   "source": [
    "rides.distance.describe()"
   ]
  },
  {
   "cell_type": "code",
   "execution_count": 22,
   "id": "280ae088",
   "metadata": {},
   "outputs": [
    {
     "data": {
      "image/png": "[encoded data removed]",
      "text/plain": [
       "<Figure size 432x288 with 1 Axes>"
      ]
     },
     "metadata": {
      "needs_background": "light"
     },
     "output_type": "display_data"
    }
   ],
   "source": [
    "plt.hist(rides.distance, bins=20, edgecolor='black')\n",
    "plt.xlabel('Протяженность поездки, метр')\n",
    "plt.ylabel('Количество поездок, шт.')\n",
    "plt.title('Распределение поездок по протяженности')\n",
    "plt.grid(True)\n",
    "plt.show()"
   ]
  },
  {
   "cell_type": "markdown",
   "id": "482dd1cb",
   "metadata": {},
   "source": [
    "Средняя протяженность поездки составляет чуть более 3 км. Большинство поездок совершаются на расстояние от 2,5 до 3,8 км, самая короткая дистанция равна 860 м, а самая длинная - чуть более 7 км. Среднее арифметическое исследуемого показателя близко медианному значению, что свидетельствует об отсутствии существенных выбросов."
   ]
  },
  {
   "cell_type": "markdown",
   "id": "d3a072a1",
   "metadata": {},
   "source": [
    "### Продолжительность поездок"
   ]
  },
  {
   "cell_type": "markdown",
   "id": "e9ec7e5a",
   "metadata": {},
   "source": [
    "Исследуем продолжительность поездок."
   ]
  },
  {
   "cell_type": "code",
   "execution_count": 23,
   "id": "67768d3e",
   "metadata": {},
   "outputs": [
    {
     "data": {
      "text/plain": [
       "count   18,068.00\n",
       "mean        17.81\n",
       "std          6.09\n",
       "min          0.50\n",
       "25%         13.60\n",
       "50%         17.68\n",
       "75%         21.72\n",
       "max         40.82\n",
       "Name: duration, dtype: float64"
      ]
     },
     "execution_count": 23,
     "metadata": {},
     "output_type": "execute_result"
    }
   ],
   "source": [
    "rides.duration.describe()"
   ]
  },
  {
   "cell_type": "code",
   "execution_count": 24,
   "id": "3bb1f262",
   "metadata": {},
   "outputs": [
    {
     "data": {
      "image/png": "[encoded data removed]",
      "text/plain": [
       "<Figure size 432x288 with 1 Axes>"
      ]
     },
     "metadata": {
      "needs_background": "light"
     },
     "output_type": "display_data"
    }
   ],
   "source": [
    "plt.hist(rides.duration, bins=20, edgecolor='black')\n",
    "plt.xlabel('Продолжительность поездки, мин.')\n",
    "plt.ylabel('Количество поездок, шт.')\n",
    "plt.title('Распределение поездок по продолжительности')\n",
    "plt.grid(True)\n",
    "plt.show()"
   ]
  },
  {
   "cell_type": "markdown",
   "id": "02f0a57d",
   "metadata": {},
   "source": [
    "Средняя продолжительность поездки составляет около 18 минут. Максимальное время поездки - почти 41 минута. Минимальное зафиксированное время поездки - полминуты. Столь малое значение кажется аномалией, оно может быть вызвано технической ошибкой или желанием пользователя сменить самокат до начала реального передвижения. Но поскольку, судя по гистограмме, это значение не является выбросом, распределение нормальное, и среднее арифметическое исследуемого показателя близко медианному значению, задавать левый порог не имеет смысла."
   ]
  },
  {
   "cell_type": "markdown",
   "id": "2d68604a",
   "metadata": {},
   "source": [
    "**Выводы:**\n",
    "\n",
    "* Сервис аренды самокатов GoFast предоставляет свои услуги в 8 городах России, с наибольшим количеством пользователей в Пятигорске и наименьшим в Москве.\n",
    "\n",
    "* Большинство пользователей (54,4%) не имеют платной подписки.\n",
    "\n",
    "* Основная группа получателей услуги – это люди в возрасте от 22 до 28 лет. Средний возраст пользователей 25 лет, самому младшему пользователю 12 лет, а самому старшему - 43 года.\n",
    "\n",
    "* Средняя протяженность поездки - чуть более 3 км. Большинство поездок совершаются на расстояние от 2,5 до 3,8 км, при этом самая короткая дистанция равна 860 м, а самая длинная - чуть более 7 км. \n",
    "\n",
    "* Средняя продолжительность поездки составляет около 18 минут, максимальное время поездки - почти 41 минута.\n"
   ]
  },
  {
   "cell_type": "markdown",
   "id": "4ef51331",
   "metadata": {},
   "source": [
    "## Объединение данных"
   ]
  },
  {
   "cell_type": "markdown",
   "id": "ffaf00ce",
   "metadata": {},
   "source": [
    "### Объединение данных о пользователях, поездках и подписках в один датафрейм"
   ]
  },
  {
   "cell_type": "markdown",
   "id": "095efac1",
   "metadata": {},
   "source": [
    "Объединим данные о пользователях и поездках в одну таблицу."
   ]
  },
  {
   "cell_type": "code",
   "execution_count": 25,
   "id": "6ed4fde5",
   "metadata": {},
   "outputs": [
    {
     "name": "stdout",
     "output_type": "stream",
     "text": [
      "<class 'pandas.core.frame.DataFrame'>\n",
      "Int64Index: 18068 entries, 0 to 18067\n",
      "Data columns (total 9 columns):\n",
      " #   Column             Non-Null Count  Dtype         \n",
      "---  ------             --------------  -----         \n",
      " 0   user_id            18068 non-null  int64         \n",
      " 1   distance           18068 non-null  float64       \n",
      " 2   duration           18068 non-null  float64       \n",
      " 3   date               18068 non-null  datetime64[ns]\n",
      " 4   month              18068 non-null  int64         \n",
      " 5   name               18068 non-null  object        \n",
      " 6   age                18068 non-null  int64         \n",
      " 7   city               18068 non-null  object        \n",
      " 8   subscription_type  18068 non-null  object        \n",
      "dtypes: datetime64[ns](1), float64(2), int64(3), object(3)\n",
      "memory usage: 1.4+ MB\n"
     ]
    }
   ],
   "source": [
    "df = rides.merge(users, how='left', on='user_id')\n",
    "df.info()"
   ]
  },
  {
   "cell_type": "markdown",
   "id": "881b6806",
   "metadata": {},
   "source": [
    "В получившейся таблице 9 столбцов и 18068 строк, пропусков нет, типы данных соответствуют содержанию. Объединение прошло успешно."
   ]
  },
  {
   "cell_type": "markdown",
   "id": "28883e86",
   "metadata": {},
   "source": [
    "Добавим в полученную таблицу информацию о подписках."
   ]
  },
  {
   "cell_type": "code",
   "execution_count": 26,
   "id": "e5b53085",
   "metadata": {
    "scrolled": false
   },
   "outputs": [
    {
     "name": "stdout",
     "output_type": "stream",
     "text": [
      "<class 'pandas.core.frame.DataFrame'>\n",
      "Int64Index: 18068 entries, 0 to 18067\n",
      "Data columns (total 12 columns):\n",
      " #   Column             Non-Null Count  Dtype         \n",
      "---  ------             --------------  -----         \n",
      " 0   user_id            18068 non-null  int64         \n",
      " 1   distance           18068 non-null  float64       \n",
      " 2   duration           18068 non-null  float64       \n",
      " 3   date               18068 non-null  datetime64[ns]\n",
      " 4   month              18068 non-null  int64         \n",
      " 5   name               18068 non-null  object        \n",
      " 6   age                18068 non-null  int64         \n",
      " 7   city               18068 non-null  object        \n",
      " 8   subscription_type  18068 non-null  object        \n",
      " 9   minute_price       18068 non-null  int64         \n",
      " 10  start_ride_price   18068 non-null  int64         \n",
      " 11  subscription_fee   18068 non-null  int64         \n",
      "dtypes: datetime64[ns](1), float64(2), int64(6), object(3)\n",
      "memory usage: 1.8+ MB\n"
     ]
    }
   ],
   "source": [
    "data = df.merge(subscr, how='left', on='subscription_type')\n",
    "data.info()"
   ]
  },
  {
   "cell_type": "markdown",
   "id": "09140c20",
   "metadata": {},
   "source": [
    "В получившейся таблице 12 столбцов и 18068 строк, пропусков нет, типы данных соответствуют содержанию. Объединение прошло успешно."
   ]
  },
  {
   "cell_type": "markdown",
   "id": "a70c93d9",
   "metadata": {},
   "source": [
    "### Создание датафреймов с информацией о пользователях с подпиской и без нее."
   ]
  },
  {
   "cell_type": "markdown",
   "id": "30b08a19",
   "metadata": {},
   "source": [
    "Создадим таблицу, содержащую информаицю о пользователях не имеющих подписки."
   ]
  },
  {
   "cell_type": "code",
   "execution_count": 27,
   "id": "dd5b7db3",
   "metadata": {},
   "outputs": [
    {
     "data": {
      "text/html": [
       "<div>\n",
       "<style scoped>\n",
       "    .dataframe tbody tr th:only-of-type {\n",
       "        vertical-align: middle;\n",
       "    }\n",
       "\n",
       "    .dataframe tbody tr th {\n",
       "        vertical-align: top;\n",
       "    }\n",
       "\n",
       "    .dataframe thead th {\n",
       "        text-align: right;\n",
       "    }\n",
       "</style>\n",
       "<table border=\"1\" class=\"dataframe\">\n",
       "  <thead>\n",
       "    <tr style=\"text-align: right;\">\n",
       "      <th></th>\n",
       "      <th>user_id</th>\n",
       "      <th>distance</th>\n",
       "      <th>duration</th>\n",
       "      <th>date</th>\n",
       "      <th>month</th>\n",
       "      <th>name</th>\n",
       "      <th>age</th>\n",
       "      <th>city</th>\n",
       "      <th>subscription_type</th>\n",
       "      <th>minute_price</th>\n",
       "      <th>start_ride_price</th>\n",
       "      <th>subscription_fee</th>\n",
       "    </tr>\n",
       "  </thead>\n",
       "  <tbody>\n",
       "    <tr>\n",
       "      <th>0</th>\n",
       "      <td>700</td>\n",
       "      <td>2,515.69</td>\n",
       "      <td>14.94</td>\n",
       "      <td>2021-01-02</td>\n",
       "      <td>1</td>\n",
       "      <td>Айдар</td>\n",
       "      <td>22</td>\n",
       "      <td>Омск</td>\n",
       "      <td>free</td>\n",
       "      <td>8</td>\n",
       "      <td>50</td>\n",
       "      <td>0</td>\n",
       "    </tr>\n",
       "    <tr>\n",
       "      <th>1</th>\n",
       "      <td>700</td>\n",
       "      <td>846.93</td>\n",
       "      <td>16.23</td>\n",
       "      <td>2021-02-01</td>\n",
       "      <td>2</td>\n",
       "      <td>Айдар</td>\n",
       "      <td>22</td>\n",
       "      <td>Омск</td>\n",
       "      <td>free</td>\n",
       "      <td>8</td>\n",
       "      <td>50</td>\n",
       "      <td>0</td>\n",
       "    </tr>\n",
       "    <tr>\n",
       "      <th>2</th>\n",
       "      <td>700</td>\n",
       "      <td>4,004.43</td>\n",
       "      <td>20.02</td>\n",
       "      <td>2021-02-04</td>\n",
       "      <td>2</td>\n",
       "      <td>Айдар</td>\n",
       "      <td>22</td>\n",
       "      <td>Омск</td>\n",
       "      <td>free</td>\n",
       "      <td>8</td>\n",
       "      <td>50</td>\n",
       "      <td>0</td>\n",
       "    </tr>\n",
       "    <tr>\n",
       "      <th>3</th>\n",
       "      <td>700</td>\n",
       "      <td>1,205.91</td>\n",
       "      <td>9.78</td>\n",
       "      <td>2021-02-10</td>\n",
       "      <td>2</td>\n",
       "      <td>Айдар</td>\n",
       "      <td>22</td>\n",
       "      <td>Омск</td>\n",
       "      <td>free</td>\n",
       "      <td>8</td>\n",
       "      <td>50</td>\n",
       "      <td>0</td>\n",
       "    </tr>\n",
       "    <tr>\n",
       "      <th>4</th>\n",
       "      <td>700</td>\n",
       "      <td>3,047.38</td>\n",
       "      <td>17.43</td>\n",
       "      <td>2021-02-14</td>\n",
       "      <td>2</td>\n",
       "      <td>Айдар</td>\n",
       "      <td>22</td>\n",
       "      <td>Омск</td>\n",
       "      <td>free</td>\n",
       "      <td>8</td>\n",
       "      <td>50</td>\n",
       "      <td>0</td>\n",
       "    </tr>\n",
       "  </tbody>\n",
       "</table>\n",
       "</div>"
      ],
      "text/plain": [
       "   user_id  distance  duration       date  month   name  age  city  \\\n",
       "0      700  2,515.69     14.94 2021-01-02      1  Айдар   22  Омск   \n",
       "1      700    846.93     16.23 2021-02-01      2  Айдар   22  Омск   \n",
       "2      700  4,004.43     20.02 2021-02-04      2  Айдар   22  Омск   \n",
       "3      700  1,205.91      9.78 2021-02-10      2  Айдар   22  Омск   \n",
       "4      700  3,047.38     17.43 2021-02-14      2  Айдар   22  Омск   \n",
       "\n",
       "  subscription_type  minute_price  start_ride_price  subscription_fee  \n",
       "0              free             8                50                 0  \n",
       "1              free             8                50                 0  \n",
       "2              free             8                50                 0  \n",
       "3              free             8                50                 0  \n",
       "4              free             8                50                 0  "
      ]
     },
     "execution_count": 27,
     "metadata": {},
     "output_type": "execute_result"
    }
   ],
   "source": [
    "users_free = data.loc[data['subscription_type'] == 'free'].copy().reset_index(drop=True)\n",
    "users_free.head()"
   ]
  },
  {
   "cell_type": "markdown",
   "id": "8a307b14",
   "metadata": {},
   "source": [
    "Создадим таблицу, содержащую информаицю о пользователях с подпиской."
   ]
  },
  {
   "cell_type": "code",
   "execution_count": 28,
   "id": "fa22ae9d",
   "metadata": {
    "scrolled": false
   },
   "outputs": [
    {
     "data": {
      "text/html": [
       "<div>\n",
       "<style scoped>\n",
       "    .dataframe tbody tr th:only-of-type {\n",
       "        vertical-align: middle;\n",
       "    }\n",
       "\n",
       "    .dataframe tbody tr th {\n",
       "        vertical-align: top;\n",
       "    }\n",
       "\n",
       "    .dataframe thead th {\n",
       "        text-align: right;\n",
       "    }\n",
       "</style>\n",
       "<table border=\"1\" class=\"dataframe\">\n",
       "  <thead>\n",
       "    <tr style=\"text-align: right;\">\n",
       "      <th></th>\n",
       "      <th>user_id</th>\n",
       "      <th>distance</th>\n",
       "      <th>duration</th>\n",
       "      <th>date</th>\n",
       "      <th>month</th>\n",
       "      <th>name</th>\n",
       "      <th>age</th>\n",
       "      <th>city</th>\n",
       "      <th>subscription_type</th>\n",
       "      <th>minute_price</th>\n",
       "      <th>start_ride_price</th>\n",
       "      <th>subscription_fee</th>\n",
       "    </tr>\n",
       "  </thead>\n",
       "  <tbody>\n",
       "    <tr>\n",
       "      <th>0</th>\n",
       "      <td>1</td>\n",
       "      <td>4,409.92</td>\n",
       "      <td>25.60</td>\n",
       "      <td>2021-01-01</td>\n",
       "      <td>1</td>\n",
       "      <td>Кира</td>\n",
       "      <td>22</td>\n",
       "      <td>Тюмень</td>\n",
       "      <td>ultra</td>\n",
       "      <td>6</td>\n",
       "      <td>0</td>\n",
       "      <td>199</td>\n",
       "    </tr>\n",
       "    <tr>\n",
       "      <th>1</th>\n",
       "      <td>1</td>\n",
       "      <td>2,617.59</td>\n",
       "      <td>15.82</td>\n",
       "      <td>2021-01-18</td>\n",
       "      <td>1</td>\n",
       "      <td>Кира</td>\n",
       "      <td>22</td>\n",
       "      <td>Тюмень</td>\n",
       "      <td>ultra</td>\n",
       "      <td>6</td>\n",
       "      <td>0</td>\n",
       "      <td>199</td>\n",
       "    </tr>\n",
       "    <tr>\n",
       "      <th>2</th>\n",
       "      <td>1</td>\n",
       "      <td>754.16</td>\n",
       "      <td>6.23</td>\n",
       "      <td>2021-04-20</td>\n",
       "      <td>4</td>\n",
       "      <td>Кира</td>\n",
       "      <td>22</td>\n",
       "      <td>Тюмень</td>\n",
       "      <td>ultra</td>\n",
       "      <td>6</td>\n",
       "      <td>0</td>\n",
       "      <td>199</td>\n",
       "    </tr>\n",
       "    <tr>\n",
       "      <th>3</th>\n",
       "      <td>1</td>\n",
       "      <td>2,694.78</td>\n",
       "      <td>18.51</td>\n",
       "      <td>2021-08-11</td>\n",
       "      <td>8</td>\n",
       "      <td>Кира</td>\n",
       "      <td>22</td>\n",
       "      <td>Тюмень</td>\n",
       "      <td>ultra</td>\n",
       "      <td>6</td>\n",
       "      <td>0</td>\n",
       "      <td>199</td>\n",
       "    </tr>\n",
       "    <tr>\n",
       "      <th>4</th>\n",
       "      <td>1</td>\n",
       "      <td>4,028.69</td>\n",
       "      <td>26.27</td>\n",
       "      <td>2021-08-28</td>\n",
       "      <td>8</td>\n",
       "      <td>Кира</td>\n",
       "      <td>22</td>\n",
       "      <td>Тюмень</td>\n",
       "      <td>ultra</td>\n",
       "      <td>6</td>\n",
       "      <td>0</td>\n",
       "      <td>199</td>\n",
       "    </tr>\n",
       "  </tbody>\n",
       "</table>\n",
       "</div>"
      ],
      "text/plain": [
       "   user_id  distance  duration       date  month  name  age    city  \\\n",
       "0        1  4,409.92     25.60 2021-01-01      1  Кира   22  Тюмень   \n",
       "1        1  2,617.59     15.82 2021-01-18      1  Кира   22  Тюмень   \n",
       "2        1    754.16      6.23 2021-04-20      4  Кира   22  Тюмень   \n",
       "3        1  2,694.78     18.51 2021-08-11      8  Кира   22  Тюмень   \n",
       "4        1  4,028.69     26.27 2021-08-28      8  Кира   22  Тюмень   \n",
       "\n",
       "  subscription_type  minute_price  start_ride_price  subscription_fee  \n",
       "0             ultra             6                 0               199  \n",
       "1             ultra             6                 0               199  \n",
       "2             ultra             6                 0               199  \n",
       "3             ultra             6                 0               199  \n",
       "4             ultra             6                 0               199  "
      ]
     },
     "execution_count": 28,
     "metadata": {},
     "output_type": "execute_result"
    }
   ],
   "source": [
    "users_ultra = data.loc[data['subscription_type'] == 'ultra'].copy().reset_index(drop=True)\n",
    "users_ultra.head()"
   ]
  },
  {
   "cell_type": "markdown",
   "id": "35ed6ee2",
   "metadata": {},
   "source": [
    "### Визуализация данных о протяженности и продолжительности поездок пользователей в зависимости от типа подписки."
   ]
  },
  {
   "cell_type": "markdown",
   "id": "4cecd91c",
   "metadata": {},
   "source": [
    "Исследуем данные о протяженности поездок пользователей."
   ]
  },
  {
   "cell_type": "code",
   "execution_count": 29,
   "id": "bddbf322",
   "metadata": {},
   "outputs": [
    {
     "data": {
      "image/png": "[encoded data removed]",
      "text/plain": [
       "<Figure size 432x288 with 1 Axes>"
      ]
     },
     "metadata": {
      "needs_background": "light"
     },
     "output_type": "display_data"
    }
   ],
   "source": [
    "_, ax = plt.subplots()\n",
    "\n",
    "ax.hist(users_free.distance, bins=30, range=(0, 7250), edgecolor='black', label='Пользователи без подписки')\n",
    "ax.set_xlabel('Протяженность поездки, метр')\n",
    "ax.set_ylabel('Количество поездок, шт.')\n",
    "ax.set_ylim(0, 1200)\n",
    "\n",
    "ax.hist(users_ultra.distance, bins=30, range=(0, 7250), edgecolor='black', label='Пользователи с подпиской', alpha=0.7)\n",
    "ax.set_xlabel('Протяженность поездки, метр')\n",
    "ax.set_ylabel('Количество поездок, шт.')\n",
    "ax.set_ylim(0, 1200)\n",
    "\n",
    "plt.title('Распределение поездок по протяженности')\n",
    "plt.legend(loc='best')\n",
    "plt.tight_layout()\n",
    "plt.show()"
   ]
  },
  {
   "cell_type": "markdown",
   "id": "74bebfc8",
   "metadata": {},
   "source": [
    "Согласно гистограммам, пользователи без подписки склонны проезжать большее расстояние за одну поездку, чем пользователи с подпиской, об этом свидетельствует величина разброса данных. Тем не менее, наиболее часто встречающаяся дистанция для пользователей без подписки - около 2,5 км, а для пользователей с подпиской - около 3 км."
   ]
  },
  {
   "cell_type": "markdown",
   "id": "b6727335",
   "metadata": {},
   "source": [
    "Исследуем данные о продолжительности поездок пользователей."
   ]
  },
  {
   "cell_type": "code",
   "execution_count": 30,
   "id": "cf528f78",
   "metadata": {},
   "outputs": [
    {
     "data": {
      "image/png": "[encoded data removed]",
      "text/plain": [
       "<Figure size 504x504 with 3 Axes>"
      ]
     },
     "metadata": {
      "needs_background": "light"
     },
     "output_type": "display_data"
    }
   ],
   "source": [
    "_, (ax_box1, ax_hist, ax_box2) = plt.subplots(3, figsize=(7,7))\n",
    "\n",
    "ax_hist.hist(users_free.duration, bins=21, range=(0, 42), edgecolor='black', label='Пользователи без подписки')\n",
    "ax_hist.set_xlabel('Продолжительность поездки, мин.')\n",
    "ax_hist.set_ylabel('Количество поездок, шт.')\n",
    "ax_hist.set_ylim(0, 1600)\n",
    "ax_hist.set_xlim(-1, 45)\n",
    "\n",
    "ax_hist.hist(users_ultra.duration, bins=21, range=(0, 42), edgecolor='black', label='Пользователи с подпиской')\n",
    "ax_hist.set_xlabel('Продолжительность поездки, мин.')\n",
    "ax_hist.set_ylabel('Количество поездок, шт.')\n",
    "ax_hist.set_ylim(-1, 1600)\n",
    "ax_hist.legend(loc='best')\n",
    "\n",
    "color1 = {'color': '#1f77b4'}\n",
    "color2 = {'color': '#ff7f0e'}\n",
    "\n",
    "ax_box1.boxplot(users_free.duration, vert=False, boxprops=color1, whiskerprops=color1, capprops=color1, flierprops={'markeredgecolor': '#1f77b4'}, medianprops=color1)\n",
    "ax_box1.set_xlabel('Продолжительность поездки, мин.')\n",
    "ax_box1.set_title('Пользователи без подписки', color='#1f77b4', fontweight='bold')\n",
    "ax_box1.set_xlim(-1, 45)\n",
    "\n",
    "ax_box2.boxplot(users_ultra.duration, vert=False, boxprops=color2, whiskerprops=color2, capprops=color2, flierprops={'markeredgecolor': '#ff7f0e'})\n",
    "ax_box2.set_xlabel('Продолжительность поездки, мин.')\n",
    "ax_box2.set_title('Пользователи с подпиской', color='#ff7f0e', fontweight='bold')\n",
    "ax_box2.set_xlim(-1, 45)\n",
    "\n",
    "plt.suptitle('Распределение поездок по продолжительности', fontsize=16, fontweight='bold')\n",
    "\n",
    "plt.tight_layout()\n",
    "plt.show()"
   ]
  },
  {
   "cell_type": "markdown",
   "id": "17f2ec95",
   "metadata": {},
   "source": [
    "Как видно из диаграмм, большинство пользователей совершает поездки длительностью 15-20 минут, как с подпиской так и без. Так же можно наблюдать, что максимальное время поездки в группе пользователей с подпиской выше, чем в группе пользователей без подписки."
   ]
  },
  {
   "cell_type": "markdown",
   "id": "142db9c6",
   "metadata": {},
   "source": [
    "**Выводы:**\n",
    "\n",
    "* Предварительно обработанные исходные данные были объединены в одну таблицу, а затем разбиты на 2 датафрейма согласно типу подписки.\n",
    "\n",
    "* Визуальный анализ данных о протяженности поездок показал, что пользователи с подпиской за одну поездку чаще всего проезжают около 3 км, а пользователи без подписки – на 500 метров меньше. \n",
    "\n",
    "* Согласно гистограммам распределения продолжительности поездок, наиболее часто пользователи арендуют самокат на 15–20 минут, не зависимо от подписки.\n"
   ]
  },
  {
   "cell_type": "markdown",
   "id": "402d620f",
   "metadata": {},
   "source": [
    "## Рассчёт выручки за исследуемый период"
   ]
  },
  {
   "cell_type": "markdown",
   "id": "440c150a",
   "metadata": {},
   "source": [
    "Для рассчета выручки создадим датафрейм с агрегированными данными о количестве, продолжительности и протяженности поездкок каждого пользователя за каждый месяц."
   ]
  },
  {
   "cell_type": "code",
   "execution_count": 31,
   "id": "53049e0a",
   "metadata": {},
   "outputs": [
    {
     "data": {
      "text/html": [
       "<div>\n",
       "<style scoped>\n",
       "    .dataframe tbody tr th:only-of-type {\n",
       "        vertical-align: middle;\n",
       "    }\n",
       "\n",
       "    .dataframe tbody tr th {\n",
       "        vertical-align: top;\n",
       "    }\n",
       "\n",
       "    .dataframe thead th {\n",
       "        text-align: right;\n",
       "    }\n",
       "</style>\n",
       "<table border=\"1\" class=\"dataframe\">\n",
       "  <thead>\n",
       "    <tr style=\"text-align: right;\">\n",
       "      <th></th>\n",
       "      <th>user_id</th>\n",
       "      <th>subscription_type</th>\n",
       "      <th>month</th>\n",
       "      <th>rides</th>\n",
       "      <th>distance</th>\n",
       "      <th>duration</th>\n",
       "    </tr>\n",
       "  </thead>\n",
       "  <tbody>\n",
       "    <tr>\n",
       "      <th>0</th>\n",
       "      <td>1</td>\n",
       "      <td>ultra</td>\n",
       "      <td>1</td>\n",
       "      <td>2</td>\n",
       "      <td>7,027.51</td>\n",
       "      <td>41.42</td>\n",
       "    </tr>\n",
       "    <tr>\n",
       "      <th>1</th>\n",
       "      <td>1</td>\n",
       "      <td>ultra</td>\n",
       "      <td>4</td>\n",
       "      <td>1</td>\n",
       "      <td>754.16</td>\n",
       "      <td>6.23</td>\n",
       "    </tr>\n",
       "    <tr>\n",
       "      <th>2</th>\n",
       "      <td>1</td>\n",
       "      <td>ultra</td>\n",
       "      <td>8</td>\n",
       "      <td>2</td>\n",
       "      <td>6,723.47</td>\n",
       "      <td>44.78</td>\n",
       "    </tr>\n",
       "    <tr>\n",
       "      <th>3</th>\n",
       "      <td>1</td>\n",
       "      <td>ultra</td>\n",
       "      <td>10</td>\n",
       "      <td>2</td>\n",
       "      <td>5,809.91</td>\n",
       "      <td>31.58</td>\n",
       "    </tr>\n",
       "    <tr>\n",
       "      <th>4</th>\n",
       "      <td>1</td>\n",
       "      <td>ultra</td>\n",
       "      <td>11</td>\n",
       "      <td>3</td>\n",
       "      <td>7,003.50</td>\n",
       "      <td>53.40</td>\n",
       "    </tr>\n",
       "    <tr>\n",
       "      <th>5</th>\n",
       "      <td>1</td>\n",
       "      <td>ultra</td>\n",
       "      <td>12</td>\n",
       "      <td>2</td>\n",
       "      <td>6,751.63</td>\n",
       "      <td>27.20</td>\n",
       "    </tr>\n",
       "    <tr>\n",
       "      <th>6</th>\n",
       "      <td>2</td>\n",
       "      <td>ultra</td>\n",
       "      <td>3</td>\n",
       "      <td>3</td>\n",
       "      <td>10,187.72</td>\n",
       "      <td>60.96</td>\n",
       "    </tr>\n",
       "    <tr>\n",
       "      <th>7</th>\n",
       "      <td>2</td>\n",
       "      <td>ultra</td>\n",
       "      <td>4</td>\n",
       "      <td>2</td>\n",
       "      <td>6,164.38</td>\n",
       "      <td>39.05</td>\n",
       "    </tr>\n",
       "    <tr>\n",
       "      <th>8</th>\n",
       "      <td>2</td>\n",
       "      <td>ultra</td>\n",
       "      <td>6</td>\n",
       "      <td>1</td>\n",
       "      <td>3,255.34</td>\n",
       "      <td>13.85</td>\n",
       "    </tr>\n",
       "    <tr>\n",
       "      <th>9</th>\n",
       "      <td>2</td>\n",
       "      <td>ultra</td>\n",
       "      <td>7</td>\n",
       "      <td>2</td>\n",
       "      <td>6,780.72</td>\n",
       "      <td>46.17</td>\n",
       "    </tr>\n",
       "  </tbody>\n",
       "</table>\n",
       "</div>"
      ],
      "text/plain": [
       "   user_id subscription_type  month  rides  distance  duration\n",
       "0        1             ultra      1      2  7,027.51     41.42\n",
       "1        1             ultra      4      1    754.16      6.23\n",
       "2        1             ultra      8      2  6,723.47     44.78\n",
       "3        1             ultra     10      2  5,809.91     31.58\n",
       "4        1             ultra     11      3  7,003.50     53.40\n",
       "5        1             ultra     12      2  6,751.63     27.20\n",
       "6        2             ultra      3      3 10,187.72     60.96\n",
       "7        2             ultra      4      2  6,164.38     39.05\n",
       "8        2             ultra      6      1  3,255.34     13.85\n",
       "9        2             ultra      7      2  6,780.72     46.17"
      ]
     },
     "execution_count": 31,
     "metadata": {},
     "output_type": "execute_result"
    }
   ],
   "source": [
    "pivot_data = data.pivot_table(\n",
    "    index = ['user_id', 'subscription_type', 'month'],\n",
    "    values = ['distance', 'duration'],\n",
    "    aggfunc = {'distance': ['sum', 'count'], 'duration': 'sum'}\n",
    ")\n",
    "\n",
    "pivot_data = pivot_data.reset_index()\n",
    "pivot_data.columns = ['user_id', 'subscription_type', 'month', 'rides', 'distance', 'duration']\n",
    "pivot_data.head(10)"
   ]
  },
  {
   "cell_type": "markdown",
   "id": "b6e0cec7",
   "metadata": {},
   "source": [
    "Стоимость поездки определяется как сумма стоимости старта и произведения продолжительности поездки на поминутный тариф, при этом время поездки округляется до следующего целого числа. Добавим в полученную таблицу информацию о стоимости поездок в зависимости от типа подписки, и столбец, округляющий продолжительность поездок."
   ]
  },
  {
   "cell_type": "code",
   "execution_count": 32,
   "id": "2b970ae0",
   "metadata": {},
   "outputs": [
    {
     "data": {
      "text/html": [
       "<div>\n",
       "<style scoped>\n",
       "    .dataframe tbody tr th:only-of-type {\n",
       "        vertical-align: middle;\n",
       "    }\n",
       "\n",
       "    .dataframe tbody tr th {\n",
       "        vertical-align: top;\n",
       "    }\n",
       "\n",
       "    .dataframe thead th {\n",
       "        text-align: right;\n",
       "    }\n",
       "</style>\n",
       "<table border=\"1\" class=\"dataframe\">\n",
       "  <thead>\n",
       "    <tr style=\"text-align: right;\">\n",
       "      <th></th>\n",
       "      <th>user_id</th>\n",
       "      <th>subscription_type</th>\n",
       "      <th>month</th>\n",
       "      <th>rides</th>\n",
       "      <th>distance</th>\n",
       "      <th>duration</th>\n",
       "      <th>duration_round</th>\n",
       "      <th>minute_price</th>\n",
       "      <th>start_ride_price</th>\n",
       "      <th>subscription_fee</th>\n",
       "    </tr>\n",
       "  </thead>\n",
       "  <tbody>\n",
       "    <tr>\n",
       "      <th>0</th>\n",
       "      <td>1</td>\n",
       "      <td>ultra</td>\n",
       "      <td>1</td>\n",
       "      <td>2</td>\n",
       "      <td>7,027.51</td>\n",
       "      <td>41.42</td>\n",
       "      <td>42.00</td>\n",
       "      <td>6</td>\n",
       "      <td>0</td>\n",
       "      <td>199</td>\n",
       "    </tr>\n",
       "    <tr>\n",
       "      <th>1</th>\n",
       "      <td>1</td>\n",
       "      <td>ultra</td>\n",
       "      <td>4</td>\n",
       "      <td>1</td>\n",
       "      <td>754.16</td>\n",
       "      <td>6.23</td>\n",
       "      <td>7.00</td>\n",
       "      <td>6</td>\n",
       "      <td>0</td>\n",
       "      <td>199</td>\n",
       "    </tr>\n",
       "    <tr>\n",
       "      <th>2</th>\n",
       "      <td>1</td>\n",
       "      <td>ultra</td>\n",
       "      <td>8</td>\n",
       "      <td>2</td>\n",
       "      <td>6,723.47</td>\n",
       "      <td>44.78</td>\n",
       "      <td>45.00</td>\n",
       "      <td>6</td>\n",
       "      <td>0</td>\n",
       "      <td>199</td>\n",
       "    </tr>\n",
       "    <tr>\n",
       "      <th>3</th>\n",
       "      <td>1</td>\n",
       "      <td>ultra</td>\n",
       "      <td>10</td>\n",
       "      <td>2</td>\n",
       "      <td>5,809.91</td>\n",
       "      <td>31.58</td>\n",
       "      <td>32.00</td>\n",
       "      <td>6</td>\n",
       "      <td>0</td>\n",
       "      <td>199</td>\n",
       "    </tr>\n",
       "    <tr>\n",
       "      <th>4</th>\n",
       "      <td>1</td>\n",
       "      <td>ultra</td>\n",
       "      <td>11</td>\n",
       "      <td>3</td>\n",
       "      <td>7,003.50</td>\n",
       "      <td>53.40</td>\n",
       "      <td>54.00</td>\n",
       "      <td>6</td>\n",
       "      <td>0</td>\n",
       "      <td>199</td>\n",
       "    </tr>\n",
       "    <tr>\n",
       "      <th>5</th>\n",
       "      <td>1</td>\n",
       "      <td>ultra</td>\n",
       "      <td>12</td>\n",
       "      <td>2</td>\n",
       "      <td>6,751.63</td>\n",
       "      <td>27.20</td>\n",
       "      <td>28.00</td>\n",
       "      <td>6</td>\n",
       "      <td>0</td>\n",
       "      <td>199</td>\n",
       "    </tr>\n",
       "    <tr>\n",
       "      <th>6</th>\n",
       "      <td>2</td>\n",
       "      <td>ultra</td>\n",
       "      <td>3</td>\n",
       "      <td>3</td>\n",
       "      <td>10,187.72</td>\n",
       "      <td>60.96</td>\n",
       "      <td>61.00</td>\n",
       "      <td>6</td>\n",
       "      <td>0</td>\n",
       "      <td>199</td>\n",
       "    </tr>\n",
       "    <tr>\n",
       "      <th>7</th>\n",
       "      <td>2</td>\n",
       "      <td>ultra</td>\n",
       "      <td>4</td>\n",
       "      <td>2</td>\n",
       "      <td>6,164.38</td>\n",
       "      <td>39.05</td>\n",
       "      <td>40.00</td>\n",
       "      <td>6</td>\n",
       "      <td>0</td>\n",
       "      <td>199</td>\n",
       "    </tr>\n",
       "    <tr>\n",
       "      <th>8</th>\n",
       "      <td>2</td>\n",
       "      <td>ultra</td>\n",
       "      <td>6</td>\n",
       "      <td>1</td>\n",
       "      <td>3,255.34</td>\n",
       "      <td>13.85</td>\n",
       "      <td>14.00</td>\n",
       "      <td>6</td>\n",
       "      <td>0</td>\n",
       "      <td>199</td>\n",
       "    </tr>\n",
       "    <tr>\n",
       "      <th>9</th>\n",
       "      <td>2</td>\n",
       "      <td>ultra</td>\n",
       "      <td>7</td>\n",
       "      <td>2</td>\n",
       "      <td>6,780.72</td>\n",
       "      <td>46.17</td>\n",
       "      <td>47.00</td>\n",
       "      <td>6</td>\n",
       "      <td>0</td>\n",
       "      <td>199</td>\n",
       "    </tr>\n",
       "  </tbody>\n",
       "</table>\n",
       "</div>"
      ],
      "text/plain": [
       "   user_id subscription_type  month  rides  distance  duration  \\\n",
       "0        1             ultra      1      2  7,027.51     41.42   \n",
       "1        1             ultra      4      1    754.16      6.23   \n",
       "2        1             ultra      8      2  6,723.47     44.78   \n",
       "3        1             ultra     10      2  5,809.91     31.58   \n",
       "4        1             ultra     11      3  7,003.50     53.40   \n",
       "5        1             ultra     12      2  6,751.63     27.20   \n",
       "6        2             ultra      3      3 10,187.72     60.96   \n",
       "7        2             ultra      4      2  6,164.38     39.05   \n",
       "8        2             ultra      6      1  3,255.34     13.85   \n",
       "9        2             ultra      7      2  6,780.72     46.17   \n",
       "\n",
       "   duration_round  minute_price  start_ride_price  subscription_fee  \n",
       "0           42.00             6                 0               199  \n",
       "1            7.00             6                 0               199  \n",
       "2           45.00             6                 0               199  \n",
       "3           32.00             6                 0               199  \n",
       "4           54.00             6                 0               199  \n",
       "5           28.00             6                 0               199  \n",
       "6           61.00             6                 0               199  \n",
       "7           40.00             6                 0               199  \n",
       "8           14.00             6                 0               199  \n",
       "9           47.00             6                 0               199  "
      ]
     },
     "execution_count": 32,
     "metadata": {},
     "output_type": "execute_result"
    }
   ],
   "source": [
    "merged_data = (pivot_data\n",
    "               .assign(duration_round = np.ceil(pivot_data['duration']))\n",
    "               .merge(subscr, how='left', on='subscription_type')\n",
    ")\n",
    "merged_data.head(10)"
   ]
  },
  {
   "cell_type": "markdown",
   "id": "ea84016a",
   "metadata": {},
   "source": [
    "Вычислим выручку за исследуемый период."
   ]
  },
  {
   "cell_type": "code",
   "execution_count": 33,
   "id": "6e08b4a3",
   "metadata": {},
   "outputs": [
    {
     "data": {
      "text/html": [
       "<div>\n",
       "<style scoped>\n",
       "    .dataframe tbody tr th:only-of-type {\n",
       "        vertical-align: middle;\n",
       "    }\n",
       "\n",
       "    .dataframe tbody tr th {\n",
       "        vertical-align: top;\n",
       "    }\n",
       "\n",
       "    .dataframe thead th {\n",
       "        text-align: right;\n",
       "    }\n",
       "</style>\n",
       "<table border=\"1\" class=\"dataframe\">\n",
       "  <thead>\n",
       "    <tr style=\"text-align: right;\">\n",
       "      <th></th>\n",
       "      <th>user_id</th>\n",
       "      <th>subscription_type</th>\n",
       "      <th>month</th>\n",
       "      <th>rides</th>\n",
       "      <th>distance</th>\n",
       "      <th>duration</th>\n",
       "      <th>duration_round</th>\n",
       "      <th>minute_price</th>\n",
       "      <th>start_ride_price</th>\n",
       "      <th>subscription_fee</th>\n",
       "      <th>revenue</th>\n",
       "    </tr>\n",
       "  </thead>\n",
       "  <tbody>\n",
       "    <tr>\n",
       "      <th>0</th>\n",
       "      <td>1</td>\n",
       "      <td>ultra</td>\n",
       "      <td>1</td>\n",
       "      <td>2</td>\n",
       "      <td>7,027.51</td>\n",
       "      <td>41.42</td>\n",
       "      <td>42.00</td>\n",
       "      <td>6</td>\n",
       "      <td>0</td>\n",
       "      <td>199</td>\n",
       "      <td>451.00</td>\n",
       "    </tr>\n",
       "    <tr>\n",
       "      <th>1</th>\n",
       "      <td>1</td>\n",
       "      <td>ultra</td>\n",
       "      <td>4</td>\n",
       "      <td>1</td>\n",
       "      <td>754.16</td>\n",
       "      <td>6.23</td>\n",
       "      <td>7.00</td>\n",
       "      <td>6</td>\n",
       "      <td>0</td>\n",
       "      <td>199</td>\n",
       "      <td>241.00</td>\n",
       "    </tr>\n",
       "    <tr>\n",
       "      <th>2</th>\n",
       "      <td>1</td>\n",
       "      <td>ultra</td>\n",
       "      <td>8</td>\n",
       "      <td>2</td>\n",
       "      <td>6,723.47</td>\n",
       "      <td>44.78</td>\n",
       "      <td>45.00</td>\n",
       "      <td>6</td>\n",
       "      <td>0</td>\n",
       "      <td>199</td>\n",
       "      <td>469.00</td>\n",
       "    </tr>\n",
       "    <tr>\n",
       "      <th>3</th>\n",
       "      <td>1</td>\n",
       "      <td>ultra</td>\n",
       "      <td>10</td>\n",
       "      <td>2</td>\n",
       "      <td>5,809.91</td>\n",
       "      <td>31.58</td>\n",
       "      <td>32.00</td>\n",
       "      <td>6</td>\n",
       "      <td>0</td>\n",
       "      <td>199</td>\n",
       "      <td>391.00</td>\n",
       "    </tr>\n",
       "    <tr>\n",
       "      <th>4</th>\n",
       "      <td>1</td>\n",
       "      <td>ultra</td>\n",
       "      <td>11</td>\n",
       "      <td>3</td>\n",
       "      <td>7,003.50</td>\n",
       "      <td>53.40</td>\n",
       "      <td>54.00</td>\n",
       "      <td>6</td>\n",
       "      <td>0</td>\n",
       "      <td>199</td>\n",
       "      <td>523.00</td>\n",
       "    </tr>\n",
       "    <tr>\n",
       "      <th>5</th>\n",
       "      <td>1</td>\n",
       "      <td>ultra</td>\n",
       "      <td>12</td>\n",
       "      <td>2</td>\n",
       "      <td>6,751.63</td>\n",
       "      <td>27.20</td>\n",
       "      <td>28.00</td>\n",
       "      <td>6</td>\n",
       "      <td>0</td>\n",
       "      <td>199</td>\n",
       "      <td>367.00</td>\n",
       "    </tr>\n",
       "    <tr>\n",
       "      <th>6</th>\n",
       "      <td>2</td>\n",
       "      <td>ultra</td>\n",
       "      <td>3</td>\n",
       "      <td>3</td>\n",
       "      <td>10,187.72</td>\n",
       "      <td>60.96</td>\n",
       "      <td>61.00</td>\n",
       "      <td>6</td>\n",
       "      <td>0</td>\n",
       "      <td>199</td>\n",
       "      <td>565.00</td>\n",
       "    </tr>\n",
       "    <tr>\n",
       "      <th>7</th>\n",
       "      <td>2</td>\n",
       "      <td>ultra</td>\n",
       "      <td>4</td>\n",
       "      <td>2</td>\n",
       "      <td>6,164.38</td>\n",
       "      <td>39.05</td>\n",
       "      <td>40.00</td>\n",
       "      <td>6</td>\n",
       "      <td>0</td>\n",
       "      <td>199</td>\n",
       "      <td>439.00</td>\n",
       "    </tr>\n",
       "    <tr>\n",
       "      <th>8</th>\n",
       "      <td>2</td>\n",
       "      <td>ultra</td>\n",
       "      <td>6</td>\n",
       "      <td>1</td>\n",
       "      <td>3,255.34</td>\n",
       "      <td>13.85</td>\n",
       "      <td>14.00</td>\n",
       "      <td>6</td>\n",
       "      <td>0</td>\n",
       "      <td>199</td>\n",
       "      <td>283.00</td>\n",
       "    </tr>\n",
       "    <tr>\n",
       "      <th>9</th>\n",
       "      <td>2</td>\n",
       "      <td>ultra</td>\n",
       "      <td>7</td>\n",
       "      <td>2</td>\n",
       "      <td>6,780.72</td>\n",
       "      <td>46.17</td>\n",
       "      <td>47.00</td>\n",
       "      <td>6</td>\n",
       "      <td>0</td>\n",
       "      <td>199</td>\n",
       "      <td>481.00</td>\n",
       "    </tr>\n",
       "  </tbody>\n",
       "</table>\n",
       "</div>"
      ],
      "text/plain": [
       "   user_id subscription_type  month  rides  distance  duration  \\\n",
       "0        1             ultra      1      2  7,027.51     41.42   \n",
       "1        1             ultra      4      1    754.16      6.23   \n",
       "2        1             ultra      8      2  6,723.47     44.78   \n",
       "3        1             ultra     10      2  5,809.91     31.58   \n",
       "4        1             ultra     11      3  7,003.50     53.40   \n",
       "5        1             ultra     12      2  6,751.63     27.20   \n",
       "6        2             ultra      3      3 10,187.72     60.96   \n",
       "7        2             ultra      4      2  6,164.38     39.05   \n",
       "8        2             ultra      6      1  3,255.34     13.85   \n",
       "9        2             ultra      7      2  6,780.72     46.17   \n",
       "\n",
       "   duration_round  minute_price  start_ride_price  subscription_fee  revenue  \n",
       "0           42.00             6                 0               199   451.00  \n",
       "1            7.00             6                 0               199   241.00  \n",
       "2           45.00             6                 0               199   469.00  \n",
       "3           32.00             6                 0               199   391.00  \n",
       "4           54.00             6                 0               199   523.00  \n",
       "5           28.00             6                 0               199   367.00  \n",
       "6           61.00             6                 0               199   565.00  \n",
       "7           40.00             6                 0               199   439.00  \n",
       "8           14.00             6                 0               199   283.00  \n",
       "9           47.00             6                 0               199   481.00  "
      ]
     },
     "execution_count": 33,
     "metadata": {},
     "output_type": "execute_result"
    }
   ],
   "source": [
    "merged_data['revenue'] = (  merged_data['rides'] * merged_data['start_ride_price']\\\n",
    "                          + merged_data['duration_round'] * merged_data['minute_price']\\\n",
    "                          + merged_data['subscription_fee']\n",
    ")\n",
    "merged_data.head(10)"
   ]
  },
  {
   "cell_type": "code",
   "execution_count": 34,
   "id": "95044cb1",
   "metadata": {},
   "outputs": [
    {
     "data": {
      "text/plain": [
       "3853677.0"
      ]
     },
     "execution_count": 34,
     "metadata": {},
     "output_type": "execute_result"
    }
   ],
   "source": [
    "total_revenue = merged_data['revenue'].sum()\n",
    "total_revenue"
   ]
  },
  {
   "cell_type": "markdown",
   "id": "f0648d05",
   "metadata": {},
   "source": [
    "Общая выручка сервиса аренды самокатов GoFast за исследуемый период составила 3 853 677 рублей."
   ]
  },
  {
   "cell_type": "markdown",
   "id": "41545ac0",
   "metadata": {},
   "source": [
    "## Проверка гипотез"
   ]
  },
  {
   "cell_type": "markdown",
   "id": "7a0bcae1",
   "metadata": {},
   "source": [
    "Для проверки выдвинутых гипотез необходимо установить уровень статистической значимости до проведения тестов. В качестве уровня отсечения для отклонения нулевой гипотезы возьмем значение, предложенное Р. Фишером в публикации \"Статистические методы для научных работников\", равное 0,05."
   ]
  },
  {
   "cell_type": "markdown",
   "id": "e17f7b1e",
   "metadata": {},
   "source": [
    "### Гипотеза 1: пользователи с подпиской тратят больше времени на поездки"
   ]
  },
  {
   "cell_type": "markdown",
   "id": "d40db672",
   "metadata": {},
   "source": [
    "Для проверки данной гипотезы воспользуемся методом проверки альтернативной односторонней гипотезы для средних двух генеральных совокупностей. Поскольку имеющие выборки различны по размеру, будем исходить из предположения, что дисперсии генеральных совокупностей не равны."
   ]
  },
  {
   "cell_type": "markdown",
   "id": "a59f3eb0",
   "metadata": {},
   "source": [
    "Сформулируем гипотезы.\n",
    "\n",
    "*Нулевая гипотеза:* Среднее время поездки пользователя с подпиской равно среднему времени поездки пользователя без подписки.\n",
    "\n",
    "*Альтернативная гипотеза:* Среднее время поездки пользователя с подпиской больше чем среднее время поездки пользователя без подписки."
   ]
  },
  {
   "cell_type": "code",
   "execution_count": 35,
   "id": "eee82edd",
   "metadata": {},
   "outputs": [
    {
     "name": "stdout",
     "output_type": "stream",
     "text": [
      "Нулевую гипотезу следует отвергнуть и принять верной альтернативную\n"
     ]
    }
   ],
   "source": [
    "alpha = 0.05 # уровень статистической значимости\n",
    "\n",
    "results = st.ttest_ind(users_ultra['duration'], users_free['duration'], equal_var=False, alternative='greater')\n",
    "\n",
    "\n",
    "if results.pvalue > alpha:\n",
    "    print('Нулевую гипотезу не следует отвергать')\n",
    "else:\n",
    "    print('Нулевую гипотезу следует отвергнуть и принять верной альтернативную')"
   ]
  },
  {
   "cell_type": "markdown",
   "id": "7b67468c",
   "metadata": {},
   "source": [
    "Пользователи с подпиской действительно тратят больше времени на поездки."
   ]
  },
  {
   "cell_type": "markdown",
   "id": "e1a039cc",
   "metadata": {},
   "source": [
    "### Гипотеза 2: расстояние, которое проезжают пользователи с подпиской за одну поездку, не превышает 3130 метров"
   ]
  },
  {
   "cell_type": "markdown",
   "id": "f960580b",
   "metadata": {},
   "source": [
    "Для проверки данной гипотезы воспользуемся методом проверки альтернативной односторонней гипотезы о том, что истинное среднее меньше предполагаемого значения."
   ]
  },
  {
   "cell_type": "markdown",
   "id": "6faea043",
   "metadata": {},
   "source": [
    "Сформулируем гипотезы.\n",
    "\n",
    "*Нулевая гипотеза:* Средняя протяженность поездки пользователя с подпиской равна 3130 метром.\n",
    "\n",
    "*Альтернативная гипотеза:* Средняя протяженность поездки пользователя с подпиской меньше чем 3130 метров."
   ]
  },
  {
   "cell_type": "code",
   "execution_count": 36,
   "id": "f42cf76e",
   "metadata": {},
   "outputs": [
    {
     "name": "stdout",
     "output_type": "stream",
     "text": [
      "Нулевую гипотезу не следует отвергать\n"
     ]
    }
   ],
   "source": [
    "alpha = 0.05 # уровень статистической значимости\n",
    "\n",
    "distance_i = 3130 # оптимальное растояние с точки зрения износа самоката\n",
    "\n",
    "results = st.ttest_1samp(users_ultra['distance'], distance_i, alternative='less')\n",
    "\n",
    "if results.pvalue > alpha:\n",
    "    print('Нулевую гипотезу не следует отвергать')\n",
    "else:\n",
    "    print('Нулевую гипотезу следует отвергнуть и принять верной альтернативную')"
   ]
  },
  {
   "cell_type": "markdown",
   "id": "cc1bcd6c",
   "metadata": {},
   "source": [
    "Пользователь с подпиской вероятнее всего за одну поездку проедет 3130 метров или больше."
   ]
  },
  {
   "cell_type": "markdown",
   "id": "72856b40",
   "metadata": {},
   "source": [
    "### Гипотеза 3: помесячная выручка от пользователей с подпиской по месяцам выше, чем выручка от пользователей без подписки"
   ]
  },
  {
   "cell_type": "markdown",
   "id": "5d12ae7d",
   "metadata": {},
   "source": [
    "Вычислим общую помесячную выручку от пользователей с подпиской."
   ]
  },
  {
   "cell_type": "code",
   "execution_count": 37,
   "id": "6abadd3e",
   "metadata": {},
   "outputs": [
    {
     "data": {
      "text/plain": [
       "month\n",
       "1    143,502.00\n",
       "2    124,266.00\n",
       "3    142,074.00\n",
       "4    136,826.00\n",
       "5    148,647.00\n",
       "6    143,342.00\n",
       "7    142,896.00\n",
       "8    138,096.00\n",
       "9    128,863.00\n",
       "10   133,446.00\n",
       "11   126,096.00\n",
       "12   130,543.00\n",
       "Name: revenue, dtype: float64"
      ]
     },
     "execution_count": 37,
     "metadata": {},
     "output_type": "execute_result"
    }
   ],
   "source": [
    "revenue_ultra = merged_data.loc[merged_data['subscription_type'] == 'ultra'].copy()\n",
    "revenue_ultra_per_month = revenue_ultra.groupby('month')['revenue'].sum()\n",
    "revenue_ultra_per_month"
   ]
  },
  {
   "cell_type": "markdown",
   "id": "deedc2c9",
   "metadata": {},
   "source": [
    "Вычислим количество пользователь с подпиской по месяцам."
   ]
  },
  {
   "cell_type": "code",
   "execution_count": 38,
   "id": "d1e65baa",
   "metadata": {},
   "outputs": [
    {
     "data": {
      "text/plain": [
       "month\n",
       "1     390\n",
       "2     354\n",
       "3     396\n",
       "4     374\n",
       "5     405\n",
       "6     398\n",
       "7     390\n",
       "8     384\n",
       "9     355\n",
       "10    372\n",
       "11    354\n",
       "12    361\n",
       "Name: user_id, dtype: int64"
      ]
     },
     "execution_count": 38,
     "metadata": {},
     "output_type": "execute_result"
    }
   ],
   "source": [
    "users_ultra_per_month = revenue_ultra.groupby('month')['user_id'].nunique()\n",
    "users_ultra_per_month"
   ]
  },
  {
   "cell_type": "markdown",
   "id": "9e66ac5e",
   "metadata": {},
   "source": [
    "Вычислим помесячную выручку в рассчете на одного пользователя с подпиской."
   ]
  },
  {
   "cell_type": "code",
   "execution_count": 39,
   "id": "f0ea44e0",
   "metadata": {},
   "outputs": [
    {
     "data": {
      "text/plain": [
       "month\n",
       "1    367.95\n",
       "2    351.03\n",
       "3    358.77\n",
       "4    365.84\n",
       "5    367.03\n",
       "6    360.16\n",
       "7    366.40\n",
       "8    359.62\n",
       "9    362.99\n",
       "10   358.73\n",
       "11   356.20\n",
       "12   361.61\n",
       "dtype: float64"
      ]
     },
     "execution_count": 39,
     "metadata": {},
     "output_type": "execute_result"
    }
   ],
   "source": [
    "revenue_ultra_one_per_month = revenue_ultra_per_month/users_ultra_per_month\n",
    "revenue_ultra_one_per_month"
   ]
  },
  {
   "cell_type": "markdown",
   "id": "a42beef9",
   "metadata": {},
   "source": [
    "Вычислим общую помесячную выручку от пользователей без подписки."
   ]
  },
  {
   "cell_type": "code",
   "execution_count": 40,
   "id": "3ffeb86c",
   "metadata": {},
   "outputs": [
    {
     "data": {
      "text/plain": [
       "month\n",
       "1    192,362.00\n",
       "2    164,504.00\n",
       "3    185,638.00\n",
       "4    183,934.00\n",
       "5    186,334.00\n",
       "6    190,488.00\n",
       "7    183,558.00\n",
       "8    185,404.00\n",
       "9    192,100.00\n",
       "10   179,732.00\n",
       "11   177,604.00\n",
       "12   193,422.00\n",
       "Name: revenue, dtype: float64"
      ]
     },
     "execution_count": 40,
     "metadata": {},
     "output_type": "execute_result"
    }
   ],
   "source": [
    "revenue_free = merged_data.loc[merged_data['subscription_type'] == 'free'].copy()\n",
    "revenue_free_per_month = revenue_free.groupby('month')['revenue'].sum()\n",
    "revenue_free_per_month"
   ]
  },
  {
   "cell_type": "markdown",
   "id": "4ba68616",
   "metadata": {},
   "source": [
    "Вычислим количество пользователь без подписки по месяцам."
   ]
  },
  {
   "cell_type": "code",
   "execution_count": 41,
   "id": "27481803",
   "metadata": {
    "scrolled": true
   },
   "outputs": [
    {
     "data": {
      "text/plain": [
       "month\n",
       "1     600\n",
       "2     529\n",
       "3     556\n",
       "4     553\n",
       "5     573\n",
       "6     589\n",
       "7     562\n",
       "8     565\n",
       "9     577\n",
       "10    549\n",
       "11    555\n",
       "12    590\n",
       "Name: user_id, dtype: int64"
      ]
     },
     "execution_count": 41,
     "metadata": {},
     "output_type": "execute_result"
    }
   ],
   "source": [
    "users_free_per_month = revenue_free.groupby('month')['user_id'].nunique()\n",
    "users_free_per_month"
   ]
  },
  {
   "cell_type": "markdown",
   "id": "9e725f76",
   "metadata": {},
   "source": [
    "Вычислим помесячную выручку в рассчете на одного пользователя без подписки."
   ]
  },
  {
   "cell_type": "code",
   "execution_count": 42,
   "id": "8ca40d91",
   "metadata": {},
   "outputs": [
    {
     "data": {
      "text/plain": [
       "month\n",
       "1    320.60\n",
       "2    310.97\n",
       "3    333.88\n",
       "4    332.61\n",
       "5    325.19\n",
       "6    323.41\n",
       "7    326.62\n",
       "8    328.15\n",
       "9    332.93\n",
       "10   327.38\n",
       "11   320.01\n",
       "12   327.83\n",
       "dtype: float64"
      ]
     },
     "execution_count": 42,
     "metadata": {},
     "output_type": "execute_result"
    }
   ],
   "source": [
    "revenue_free_one_per_month = revenue_free_per_month/users_free_per_month\n",
    "revenue_free_one_per_month"
   ]
  },
  {
   "cell_type": "markdown",
   "id": "74d8f1f0",
   "metadata": {},
   "source": [
    "Для проверки данной гипотезы воспользуемся методом проверки альтернативной односторонней гипотезы для средних двух генеральных совокупностей. Поскольку имеющие выборки одинаковы по размеру, будем исходить из предположения, что дисперсии генеральных совокупностей равны."
   ]
  },
  {
   "cell_type": "markdown",
   "id": "531acf04",
   "metadata": {},
   "source": [
    "Сформулируем гипотезы на основе данных об общей ежемесячной выручке.\n",
    "\n",
    "*Нулевая гипотеза:* Среднее общей ежемесячной выручки от пользователей с подпиской равно среднему общей ежемесячной выручки от пользователей без подписки.\n",
    "\n",
    "*Альтернативная гипотеза:* Среднее общей ежемесячной выручки от пользователей с подпиской больше среднего общей ежемесячной выручки от пользователей без подписки."
   ]
  },
  {
   "cell_type": "code",
   "execution_count": 43,
   "id": "269f6f40",
   "metadata": {},
   "outputs": [
    {
     "name": "stdout",
     "output_type": "stream",
     "text": [
      "Нулевую гипотезу не следует отвергать\n"
     ]
    }
   ],
   "source": [
    "alpha = 0.05 # уровень статистической значимости\n",
    "\n",
    "results = st.ttest_ind(revenue_ultra_per_month, revenue_free_per_month, alternative='greater')\n",
    "\n",
    "if results.pvalue > alpha:\n",
    "    print('Нулевую гипотезу не следует отвергать')\n",
    "else:\n",
    "    print('Нулевую гипотезу следует отвергнуть и принять верной альтернативную')"
   ]
  },
  {
   "cell_type": "markdown",
   "id": "aa8422fe",
   "metadata": {},
   "source": [
    "Ежемесячная общая выручка от пользователей с подпиской не выше, чем выручка от пользователей без подписки."
   ]
  },
  {
   "cell_type": "markdown",
   "id": "79136a10",
   "metadata": {},
   "source": [
    "Сформулируем гипотезы на основе данных о ежемесячной выручке в расчете на одного пользователя.\n",
    "\n",
    "*Нулевая гипотеза:* Среднее ежемесячной выручки от одного пользователя с подпиской равно среднему ежемесячной выручки от одного пользователя без подписки.\n",
    "\n",
    "*Альтернативная гипотеза:* Среднее ежемесячной выручки от одного пользователя с подпиской больше среднего ежемесячной выручки от одного пользователя без подписки."
   ]
  },
  {
   "cell_type": "code",
   "execution_count": 44,
   "id": "1c39fa72",
   "metadata": {},
   "outputs": [
    {
     "name": "stdout",
     "output_type": "stream",
     "text": [
      "Нулевую гипотезу следует отвергнуть и принять верной альтернативную\n"
     ]
    }
   ],
   "source": [
    "alpha = 0.05 # уровень статистической значимости\n",
    "\n",
    "results = st.ttest_ind(revenue_ultra_one_per_month, revenue_free_one_per_month, alternative='greater')\n",
    "\n",
    "if results.pvalue > alpha:\n",
    "    print('Нулевую гипотезу не следует отвергать')\n",
    "else:\n",
    "    print('Нулевую гипотезу следует отвергнуть и принять верной альтернативную')"
   ]
  },
  {
   "cell_type": "markdown",
   "id": "c466956d",
   "metadata": {},
   "source": [
    "Ежемесячная выручка от одного пользователя с подпиской выше, чем от одного пользователя без подписки."
   ]
  },
  {
   "cell_type": "markdown",
   "id": "cf3b3774",
   "metadata": {},
   "source": [
    "### Гипотеза 4: обновление сервера, с которыми взаимодействует мобильное приложение приведет к значительному снижению количества обращений в техподдержку\n"
   ]
  },
  {
   "cell_type": "markdown",
   "id": "9965bf29",
   "metadata": {},
   "source": [
    "Для проверки данной гипотезы следует воспользоваться методом проверки альтернативной односторонней гипотезы о том, что истинное среднее генеральной совокупности до изменения больше, чем истинное среднее генеральной совокупности после изменения."
   ]
  },
  {
   "cell_type": "markdown",
   "id": "cfabc4eb",
   "metadata": {},
   "source": [
    "Сформулируем гипотезы.\n",
    "\n",
    "*Нулевая гипотеза:* Среднее количество обращений в техподдержку до обновления сервера равно среднему количеству обращений после обновления сервера.\n",
    "\n",
    "*Альтернативная гипотеза:* Среднее количество обращений в техподдержку до обновления сервера больше среднего количества обращений после обновления сервера."
   ]
  },
  {
   "cell_type": "markdown",
   "id": "e3a492c5",
   "metadata": {},
   "source": [
    "Код, который был бы использован при наличии данных:\n",
    "\n",
    "```\n",
    "alpha = 0.05 \n",
    "\n",
    "results = st.ttest_rel(suppotr_before, support_after, alternative='greater')\n",
    "\n",
    "if results.pvalue > alpha:\n",
    "    print('Нулевую гипотезу не следует отвергать')\n",
    "else:\n",
    "    print('Нулевую гипотезу следует отвергнуть и принять верной альтернативную')\n",
    "```"
   ]
  },
  {
   "cell_type": "markdown",
   "id": "89458ad0",
   "metadata": {},
   "source": [
    "**Выводы:**\n",
    "* Пользователи с подпиской используют сервис аренды самокатов активнее, чем пользователи без подписки.\n",
    "\n",
    "* Вероятность того, что пользователь с подпиской за одну поездку преодолеет расстояние большее, чем оптимальное с точки зрения износа самоката, достаточно высока.\n",
    "\n",
    "* Помесячная выручка от пользователя с подпиской выше, чем от пользователя без подписки.\n"
   ]
  },
  {
   "cell_type": "markdown",
   "id": "61213c5e",
   "metadata": {},
   "source": [
    "## Оптимизация маркетинговых акций "
   ]
  },
  {
   "cell_type": "markdown",
   "id": "b0c46bd9",
   "metadata": {},
   "source": [
    "### Акция 1: один бесплатный месяц подписки"
   ]
  },
  {
   "cell_type": "markdown",
   "id": "9a94e552",
   "metadata": {},
   "source": [
    "Задача акции: минимум 100 клиентов, из привлеченных по акции, должны продлить подписку.\n",
    "\n",
    "Известно, что после бесплатного пробного периода подписку продлевают 10 % пользователей.\n",
    "\n",
    "Рассчитаем какое минимальное количество промокодов нужно разослать, чтобы вероятность не выполнить план была примерно 5 %. "
   ]
  },
  {
   "cell_type": "code",
   "execution_count": 45,
   "id": "51f29289",
   "metadata": {},
   "outputs": [
    {
     "name": "stdout",
     "output_type": "stream",
     "text": [
      "Минимальное количество промокодов: 1172\n"
     ]
    },
    {
     "data": {
      "image/png": "[encoded data removed]",
      "text/plain": [
       "<Figure size 432x288 with 1 Axes>"
      ]
     },
     "metadata": {
      "needs_background": "light"
     },
     "output_type": "display_data"
    }
   ],
   "source": [
    "k = 100 # количество пользователей продливших подписку\n",
    "p = 0.1 # вероятность продления подписки\n",
    "n_min = int(k/p) # минимальное количество промокодов\n",
    "target_p = 0.05 # вероятность не выполнить план \n",
    "\n",
    "n = n_min\n",
    "result = 1\n",
    "\n",
    "while result > target_p :\n",
    "    n +=1    \n",
    "    distr = st.binom(n, p)\n",
    "    result = distr.cdf(k)\n",
    "\n",
    "print('Минимальное количество промокодов:', n)   \n",
    "\n",
    "# определим границы графика биномиального распределения, где вероятности значений почти не равны нулю\n",
    "left = int(n * p - 4 * (n * p * (1 - p))**0.5)\n",
    "right = int(n * p + 4 * (n * p * (1 - p))**0.5)\n",
    "\n",
    "x = list(range(max(0, left), right))\n",
    "plt.plot(x, st.binom.pmf(x, n, p), 'bo', ms=3)\n",
    "plt.xlabel('Количество пользователей, продливших подписку')\n",
    "plt.ylabel('Вероятность продления подписки')\n",
    "plt.title(f'Распределение вероятностей результатов акции при {n} разосланных промо-кодах')\n",
    "plt.tight_layout()\n",
    "plt.show()"
   ]
  },
  {
   "cell_type": "markdown",
   "id": "917646de",
   "metadata": {},
   "source": [
    "Минимальное количество промокодов, которые нужно разослать, чтобы вероятность не выполнить задачу акции была примерно 5 %, составляет 1172 промокода."
   ]
  },
  {
   "cell_type": "markdown",
   "id": "cd032a00",
   "metadata": {},
   "source": [
    "### Акция 2: Рассылка push-уведомлений"
   ]
  },
  {
   "cell_type": "markdown",
   "id": "860eb51e",
   "metadata": {},
   "source": [
    "Задача акции в задании не определена.\n",
    "\n",
    "Известно, что уведомления открывают около 40 % получивших клиентов. Отдел планирует разослать 1 млн уведомлений.\n",
    "\n",
    "Оценим вероятность того, что уведомление откроют не более 399,5 тыс. пользователей."
   ]
  },
  {
   "cell_type": "code",
   "execution_count": 46,
   "id": "3d61d874",
   "metadata": {},
   "outputs": [
    {
     "data": {
      "text/plain": [
       "0.15371708296369768"
      ]
     },
     "execution_count": 46,
     "metadata": {},
     "output_type": "execute_result"
    }
   ],
   "source": [
    "n = 1000000 # количество push-уведомлений\n",
    "p = 0.4 # вероятность открытия уведомления\n",
    "x = 399500 # пороговое значение открытий уведомлений\n",
    "\n",
    "mu = n * p\n",
    "sigma = (n * p * (1 - p))**0.5\n",
    "\n",
    "distr = st.norm(mu, sigma)\n",
    "\n",
    "result = distr.cdf(x)\n",
    "result"
   ]
  },
  {
   "cell_type": "markdown",
   "id": "e6b75d5f",
   "metadata": {},
   "source": [
    "Вероятность того, что уведомление откроют не более 399,5 тыс. пользователей при 1 млн разосланных уведомлений составляет 15%."
   ]
  },
  {
   "cell_type": "markdown",
   "id": "1e2f1c63",
   "metadata": {},
   "source": [
    "## Общий вывод"
   ]
  },
  {
   "cell_type": "markdown",
   "id": "d0424667",
   "metadata": {},
   "source": [
    "Представленные на анализ данные состояли из трех таблиц, которые были объединены в единый датафрейм. В исходных данных были удалены явные дубликаты, аномалий и пропусков не обнаружено."
   ]
  },
  {
   "cell_type": "markdown",
   "id": "0edc42ff",
   "metadata": {},
   "source": [
    "Данные были исследованы на наличие закономерностей в использовании сервиса аренды самокатов пользователями с различными тарифными планами. А так же проведена проверка нескольких гипотез о поведении пользователей."
   ]
  },
  {
   "cell_type": "markdown",
   "id": "eb7e048f",
   "metadata": {},
   "source": [
    "Анализ предоставленных данных позволяет сделать следующие выводы:"
   ]
  },
  {
   "cell_type": "markdown",
   "id": "e6c81abe",
   "metadata": {},
   "source": [
    "* Сервис предоставляет свои услуги в 8 городах России. Больше всего пользователей в Пятигорске, меньше всего в Москве.\n",
    "\n",
    "* Большинство пользователей (54,4%) не имеют платной подписки.\n",
    "\n",
    "* Основная группа получателей услуги – это люди в возрасте от 22 до 28 лет.\n",
    "\n",
    "* Большинство поездок длятся 15–20 мин. и совершаются на расстояние 2,5–3,8 км\n",
    "\n",
    "* Средняя продолжительность поездки - около 18 минут.\n",
    "\n",
    "* Средняя протяженность одной поездки - чуть более 3 км (3 133,61 м).\n",
    "\n",
    "* Согласно визуальному анализу данных о протяженности поездок, пользователи с подпиской за одну поездку чаще всего проезжают около 3 км, а пользователи без подписки – на 500 метров меньше.\n",
    "\n",
    "* Общая выручка сервиса аренды самокатов GoFast за исследуемый период составила 3 853 677 рублей.\n",
    "\n",
    "\n"
   ]
  },
  {
   "cell_type": "markdown",
   "id": "338b3174",
   "metadata": {},
   "source": [
    "В результате проверки гипотез удалось установить:"
   ]
  },
  {
   "cell_type": "markdown",
   "id": "cc295eac",
   "metadata": {},
   "source": [
    "* Пользователь с подпиской с достаточно большой вероятность совершит более длительною поездку, чем пользователь без подписки.\n",
    "\n",
    "* Пользователь с подпиской вероятнее проедет за одну поездку расстояние большее, чем оптимальное с точки зрения износа самоката (3 130 м).\n",
    "\n",
    "* Общая выручка от пользователей с подпиской не выше, чем от пользователей без подписки. Это объясняется меньшим количеством пользователей с подпиской. \n",
    "\n",
    "* Пользователь с подпиской приносит большую выручку в сравнении с пользователем без подписки.\n"
   ]
  },
  {
   "cell_type": "markdown",
   "id": "e43e74d3",
   "metadata": {},
   "source": [
    "Рекомендации по оптимизации маркетинговый акций:"
   ]
  },
  {
   "cell_type": "markdown",
   "id": "8305d66c",
   "metadata": {},
   "source": [
    "* Если вероятность провала акции по увеличению количества пользователей с подпиской установлена на уровне примерно 5%, то для увеличения показателя на 100 человек следует разослать не менее 1172 промокодов.\n",
    "\n",
    "* Если разослать 1 млн push-уведомлений, то с 15% вероятностью будет открыто не более 399,5 тыс.\n"
   ]
  },
  {
   "cell_type": "markdown",
   "id": "f35131a5",
   "metadata": {},
   "source": [
    "Рекомендации по оптимизации бизнеса:"
   ]
  },
  {
   "cell_type": "markdown",
   "id": "c135a477",
   "metadata": {},
   "source": [
    "* Для увеличения выручки сервиса рекомендуется провести акции не только по увеличению количества пользователей с подпиской, но также и по увеличению количества поездок.\n",
    "\n",
    "* Для увеличения прибыли сервиса рекомендуется разработать тарифные планы, учитывающие оптимальную, с точки зрения износа самоката, протяженность поездки. В качестве альтернативы можно предложить разработать план мер по уменьшению скорости передвижения."
   ]
  }
 ],
 "metadata": {
  "ExecuteTimeLog": [
   {
    "duration": 1363,
    "start_time": "2023-07-06T11:22:11.254Z"
   },
   {
    "duration": 105,
    "start_time": "2023-07-06T11:27:57.892Z"
   },
   {
    "duration": 43,
    "start_time": "2023-07-06T11:28:04.561Z"
   },
   {
    "duration": 35,
    "start_time": "2023-07-06T11:28:12.232Z"
   },
   {
    "duration": 225,
    "start_time": "2023-07-06T11:29:23.765Z"
   },
   {
    "duration": 3,
    "start_time": "2023-07-06T11:29:32.824Z"
   },
   {
    "duration": 38,
    "start_time": "2023-07-06T11:29:37.004Z"
   },
   {
    "duration": 51,
    "start_time": "2023-07-06T11:29:42.129Z"
   },
   {
    "duration": 88,
    "start_time": "2023-07-06T11:30:59.632Z"
   },
   {
    "duration": 34,
    "start_time": "2023-07-06T11:31:08.237Z"
   },
   {
    "duration": 83,
    "start_time": "2023-07-06T11:31:29.003Z"
   },
   {
    "duration": 54,
    "start_time": "2023-07-06T11:31:32.240Z"
   },
   {
    "duration": 33,
    "start_time": "2023-07-06T11:31:43.418Z"
   },
   {
    "duration": 36,
    "start_time": "2023-07-06T11:32:01.006Z"
   },
   {
    "duration": 47,
    "start_time": "2023-07-06T11:32:15.708Z"
   },
   {
    "duration": 53,
    "start_time": "2023-07-06T11:32:51.910Z"
   },
   {
    "duration": 37,
    "start_time": "2023-07-06T11:32:58.609Z"
   },
   {
    "duration": 14,
    "start_time": "2023-07-06T11:33:32.132Z"
   },
   {
    "duration": 14,
    "start_time": "2023-07-06T11:33:47.661Z"
   },
   {
    "duration": 13,
    "start_time": "2023-07-06T11:34:05.438Z"
   },
   {
    "duration": 12,
    "start_time": "2023-07-06T12:10:35.834Z"
   },
   {
    "duration": 24,
    "start_time": "2023-07-06T12:10:47.848Z"
   },
   {
    "duration": 98,
    "start_time": "2023-07-06T12:14:56.423Z"
   },
   {
    "duration": 15,
    "start_time": "2023-07-06T12:15:20.048Z"
   },
   {
    "duration": 23,
    "start_time": "2023-07-06T12:15:32.762Z"
   },
   {
    "duration": 7,
    "start_time": "2023-07-06T12:18:27.802Z"
   },
   {
    "duration": 7,
    "start_time": "2023-07-06T12:19:33.860Z"
   },
   {
    "duration": 6,
    "start_time": "2023-07-06T12:19:49.711Z"
   },
   {
    "duration": 6,
    "start_time": "2023-07-06T12:20:51.299Z"
   },
   {
    "duration": 15,
    "start_time": "2023-07-06T12:20:58.729Z"
   },
   {
    "duration": 17,
    "start_time": "2023-07-06T12:21:56.701Z"
   },
   {
    "duration": 6,
    "start_time": "2023-07-06T12:26:35.031Z"
   },
   {
    "duration": 6,
    "start_time": "2023-07-06T12:26:43.734Z"
   },
   {
    "duration": 9,
    "start_time": "2023-07-06T12:27:15.103Z"
   },
   {
    "duration": 8,
    "start_time": "2023-07-06T12:29:22.408Z"
   },
   {
    "duration": 7,
    "start_time": "2023-07-06T12:31:57.039Z"
   },
   {
    "duration": 6,
    "start_time": "2023-07-06T12:33:35.867Z"
   },
   {
    "duration": 6,
    "start_time": "2023-07-06T12:34:28.519Z"
   },
   {
    "duration": 19,
    "start_time": "2023-07-06T13:01:34.349Z"
   },
   {
    "duration": 314,
    "start_time": "2023-07-06T13:04:26.123Z"
   },
   {
    "duration": 14,
    "start_time": "2023-07-06T13:06:38.525Z"
   },
   {
    "duration": 13,
    "start_time": "2023-07-06T13:06:55.983Z"
   },
   {
    "duration": 6,
    "start_time": "2023-07-06T13:09:49.409Z"
   },
   {
    "duration": 13,
    "start_time": "2023-07-06T13:10:46.796Z"
   },
   {
    "duration": 8,
    "start_time": "2023-07-06T13:11:09.020Z"
   },
   {
    "duration": 7,
    "start_time": "2023-07-06T13:13:30.992Z"
   },
   {
    "duration": 7,
    "start_time": "2023-07-06T13:30:07.054Z"
   },
   {
    "duration": 10,
    "start_time": "2023-07-06T13:30:26.788Z"
   },
   {
    "duration": 14,
    "start_time": "2023-07-06T13:31:13.494Z"
   },
   {
    "duration": 123,
    "start_time": "2023-07-06T13:31:20.718Z"
   },
   {
    "duration": 146,
    "start_time": "2023-07-06T13:32:21.588Z"
   },
   {
    "duration": 172,
    "start_time": "2023-07-06T13:32:34.108Z"
   },
   {
    "duration": 146,
    "start_time": "2023-07-06T13:33:17.903Z"
   },
   {
    "duration": 367,
    "start_time": "2023-07-06T13:34:33.919Z"
   },
   {
    "duration": 143,
    "start_time": "2023-07-06T13:34:47.911Z"
   },
   {
    "duration": 270,
    "start_time": "2023-07-06T13:34:57.236Z"
   },
   {
    "duration": 150,
    "start_time": "2023-07-06T13:35:04.578Z"
   },
   {
    "duration": 151,
    "start_time": "2023-07-06T13:36:19.012Z"
   },
   {
    "duration": 142,
    "start_time": "2023-07-06T13:37:46.104Z"
   },
   {
    "duration": 7,
    "start_time": "2023-07-06T13:41:50.917Z"
   },
   {
    "duration": 132,
    "start_time": "2023-07-06T13:42:51.712Z"
   },
   {
    "duration": 116,
    "start_time": "2023-07-06T13:42:59.017Z"
   },
   {
    "duration": 189,
    "start_time": "2023-07-06T13:44:04.038Z"
   },
   {
    "duration": 94,
    "start_time": "2023-07-06T13:47:23.698Z"
   },
   {
    "duration": 83,
    "start_time": "2023-07-06T13:48:27.018Z"
   },
   {
    "duration": 71,
    "start_time": "2023-07-06T13:56:51.298Z"
   },
   {
    "duration": 96,
    "start_time": "2023-07-06T13:57:09.009Z"
   },
   {
    "duration": 104,
    "start_time": "2023-07-06T13:57:15.997Z"
   },
   {
    "duration": 81,
    "start_time": "2023-07-06T13:57:57.234Z"
   },
   {
    "duration": 73,
    "start_time": "2023-07-06T13:58:06.564Z"
   },
   {
    "duration": 114,
    "start_time": "2023-07-06T13:58:46.542Z"
   },
   {
    "duration": 210,
    "start_time": "2023-07-06T14:14:05.133Z"
   },
   {
    "duration": 149,
    "start_time": "2023-07-06T14:14:24.697Z"
   },
   {
    "duration": 10,
    "start_time": "2023-07-06T14:15:00.085Z"
   },
   {
    "duration": 189,
    "start_time": "2023-07-06T14:30:26.808Z"
   },
   {
    "duration": 144,
    "start_time": "2023-07-06T14:30:48.516Z"
   },
   {
    "duration": 155,
    "start_time": "2023-07-06T14:31:00.034Z"
   },
   {
    "duration": 133,
    "start_time": "2023-07-06T14:31:17.799Z"
   },
   {
    "duration": 153,
    "start_time": "2023-07-06T14:32:04.540Z"
   },
   {
    "duration": 444,
    "start_time": "2023-07-06T14:34:02.929Z"
   },
   {
    "duration": 222,
    "start_time": "2023-07-06T14:34:15.633Z"
   },
   {
    "duration": 143,
    "start_time": "2023-07-06T14:34:55.454Z"
   },
   {
    "duration": 71,
    "start_time": "2023-07-06T14:35:11.946Z"
   },
   {
    "duration": 147,
    "start_time": "2023-07-06T14:35:36.030Z"
   },
   {
    "duration": 202,
    "start_time": "2023-07-06T14:36:22.213Z"
   },
   {
    "duration": 57,
    "start_time": "2023-07-07T04:49:20.984Z"
   },
   {
    "duration": 1570,
    "start_time": "2023-07-07T04:49:31.933Z"
   },
   {
    "duration": 5,
    "start_time": "2023-07-07T04:49:33.506Z"
   },
   {
    "duration": 156,
    "start_time": "2023-07-07T04:49:33.515Z"
   },
   {
    "duration": 12,
    "start_time": "2023-07-07T04:49:33.673Z"
   },
   {
    "duration": 149,
    "start_time": "2023-07-07T04:49:33.687Z"
   },
   {
    "duration": 11,
    "start_time": "2023-07-07T04:49:33.839Z"
   },
   {
    "duration": 88,
    "start_time": "2023-07-07T04:49:33.852Z"
   },
   {
    "duration": 13,
    "start_time": "2023-07-07T04:49:33.943Z"
   },
   {
    "duration": 24,
    "start_time": "2023-07-07T04:49:33.958Z"
   },
   {
    "duration": 13,
    "start_time": "2023-07-07T04:49:33.984Z"
   },
   {
    "duration": 24,
    "start_time": "2023-07-07T04:49:34.005Z"
   },
   {
    "duration": 22,
    "start_time": "2023-07-07T04:49:34.039Z"
   },
   {
    "duration": 9,
    "start_time": "2023-07-07T04:49:34.063Z"
   },
   {
    "duration": 15,
    "start_time": "2023-07-07T04:49:34.075Z"
   },
   {
    "duration": 15,
    "start_time": "2023-07-07T04:49:34.092Z"
   },
   {
    "duration": 243,
    "start_time": "2023-07-07T04:49:34.109Z"
   },
   {
    "duration": 8,
    "start_time": "2023-07-07T04:49:34.354Z"
   },
   {
    "duration": 109,
    "start_time": "2023-07-07T04:49:34.364Z"
   },
   {
    "duration": 13,
    "start_time": "2023-07-07T04:49:34.474Z"
   },
   {
    "duration": 220,
    "start_time": "2023-07-07T04:49:34.504Z"
   },
   {
    "duration": 23,
    "start_time": "2023-07-07T04:49:34.725Z"
   },
   {
    "duration": 19,
    "start_time": "2023-07-07T04:51:12.724Z"
   },
   {
    "duration": 65,
    "start_time": "2023-07-07T04:52:41.430Z"
   },
   {
    "duration": 15,
    "start_time": "2023-07-07T04:52:53.382Z"
   },
   {
    "duration": 171,
    "start_time": "2023-07-07T04:56:12.499Z"
   },
   {
    "duration": 188,
    "start_time": "2023-07-07T04:56:38.456Z"
   },
   {
    "duration": 12,
    "start_time": "2023-07-07T05:15:34.591Z"
   },
   {
    "duration": 173,
    "start_time": "2023-07-07T05:16:50.815Z"
   },
   {
    "duration": 14,
    "start_time": "2023-07-07T05:26:07.425Z"
   },
   {
    "duration": 14,
    "start_time": "2023-07-07T05:26:35.414Z"
   },
   {
    "duration": 179,
    "start_time": "2023-07-07T05:27:14.653Z"
   },
   {
    "duration": 212,
    "start_time": "2023-07-07T05:29:34.931Z"
   },
   {
    "duration": 264,
    "start_time": "2023-07-07T06:32:17.278Z"
   },
   {
    "duration": 160,
    "start_time": "2023-07-07T06:32:27.123Z"
   },
   {
    "duration": 191,
    "start_time": "2023-07-07T06:33:03.638Z"
   },
   {
    "duration": 180,
    "start_time": "2023-07-07T06:34:24.696Z"
   },
   {
    "duration": 43,
    "start_time": "2023-07-07T08:28:08.626Z"
   },
   {
    "duration": 21,
    "start_time": "2023-07-07T08:29:10.563Z"
   },
   {
    "duration": 43,
    "start_time": "2023-07-07T08:29:32.434Z"
   },
   {
    "duration": 39,
    "start_time": "2023-07-07T08:37:33.589Z"
   },
   {
    "duration": 20,
    "start_time": "2023-07-07T08:38:18.423Z"
   },
   {
    "duration": 20,
    "start_time": "2023-07-07T08:49:31.070Z"
   },
   {
    "duration": 18,
    "start_time": "2023-07-07T08:51:59.935Z"
   },
   {
    "duration": 24,
    "start_time": "2023-07-07T08:52:35.421Z"
   },
   {
    "duration": 17,
    "start_time": "2023-07-07T08:52:45.260Z"
   },
   {
    "duration": 20,
    "start_time": "2023-07-07T08:53:10.464Z"
   },
   {
    "duration": 12,
    "start_time": "2023-07-07T08:54:08.032Z"
   },
   {
    "duration": 1384,
    "start_time": "2023-07-07T12:03:57.714Z"
   },
   {
    "duration": 3,
    "start_time": "2023-07-07T12:03:59.100Z"
   },
   {
    "duration": 100,
    "start_time": "2023-07-07T12:03:59.104Z"
   },
   {
    "duration": 10,
    "start_time": "2023-07-07T12:03:59.207Z"
   },
   {
    "duration": 86,
    "start_time": "2023-07-07T12:03:59.218Z"
   },
   {
    "duration": 11,
    "start_time": "2023-07-07T12:03:59.306Z"
   },
   {
    "duration": 72,
    "start_time": "2023-07-07T12:03:59.319Z"
   },
   {
    "duration": 11,
    "start_time": "2023-07-07T12:03:59.393Z"
   },
   {
    "duration": 16,
    "start_time": "2023-07-07T12:03:59.405Z"
   },
   {
    "duration": 9,
    "start_time": "2023-07-07T12:03:59.423Z"
   },
   {
    "duration": 10,
    "start_time": "2023-07-07T12:03:59.434Z"
   },
   {
    "duration": 24,
    "start_time": "2023-07-07T12:03:59.446Z"
   },
   {
    "duration": 14,
    "start_time": "2023-07-07T12:03:59.472Z"
   },
   {
    "duration": 8,
    "start_time": "2023-07-07T12:03:59.488Z"
   },
   {
    "duration": 7,
    "start_time": "2023-07-07T12:03:59.497Z"
   },
   {
    "duration": 143,
    "start_time": "2023-07-07T12:03:59.505Z"
   },
   {
    "duration": 17,
    "start_time": "2023-07-07T12:03:59.652Z"
   },
   {
    "duration": 77,
    "start_time": "2023-07-07T12:03:59.671Z"
   },
   {
    "duration": 17,
    "start_time": "2023-07-07T12:03:59.750Z"
   },
   {
    "duration": 155,
    "start_time": "2023-07-07T12:03:59.768Z"
   },
   {
    "duration": 8,
    "start_time": "2023-07-07T12:03:59.925Z"
   },
   {
    "duration": 180,
    "start_time": "2023-07-07T12:03:59.934Z"
   },
   {
    "duration": 8,
    "start_time": "2023-07-07T12:04:00.116Z"
   },
   {
    "duration": 186,
    "start_time": "2023-07-07T12:04:00.126Z"
   },
   {
    "duration": 19,
    "start_time": "2023-07-07T12:04:00.314Z"
   },
   {
    "duration": 74,
    "start_time": "2023-07-07T12:04:00.334Z"
   },
   {
    "duration": 62,
    "start_time": "2023-07-07T12:04:00.410Z"
   },
   {
    "duration": 37,
    "start_time": "2023-07-07T12:04:00.475Z"
   },
   {
    "duration": 127,
    "start_time": "2023-07-07T12:23:37.017Z"
   },
   {
    "duration": 512,
    "start_time": "2023-07-07T12:23:41.221Z"
   },
   {
    "duration": 761,
    "start_time": "2023-07-07T12:25:06.424Z"
   },
   {
    "duration": 18,
    "start_time": "2023-07-07T12:26:00.050Z"
   },
   {
    "duration": 10,
    "start_time": "2023-07-07T12:26:08.813Z"
   },
   {
    "duration": 510,
    "start_time": "2023-07-07T12:29:21.606Z"
   },
   {
    "duration": 363,
    "start_time": "2023-07-07T12:31:37.706Z"
   },
   {
    "duration": 520,
    "start_time": "2023-07-07T12:32:16.390Z"
   },
   {
    "duration": 615,
    "start_time": "2023-07-07T12:32:28.130Z"
   },
   {
    "duration": 559,
    "start_time": "2023-07-07T12:32:53.430Z"
   },
   {
    "duration": 767,
    "start_time": "2023-07-07T12:33:27.995Z"
   },
   {
    "duration": 586,
    "start_time": "2023-07-07T12:33:44.549Z"
   },
   {
    "duration": 574,
    "start_time": "2023-07-07T12:33:54.370Z"
   },
   {
    "duration": 433,
    "start_time": "2023-07-07T12:35:57.187Z"
   },
   {
    "duration": 456,
    "start_time": "2023-07-07T12:36:14.103Z"
   },
   {
    "duration": 597,
    "start_time": "2023-07-07T12:36:17.519Z"
   },
   {
    "duration": 517,
    "start_time": "2023-07-07T12:36:30.561Z"
   },
   {
    "duration": 448,
    "start_time": "2023-07-07T12:36:36.523Z"
   },
   {
    "duration": 510,
    "start_time": "2023-07-07T12:36:42.891Z"
   },
   {
    "duration": 460,
    "start_time": "2023-07-07T12:36:51.578Z"
   },
   {
    "duration": 466,
    "start_time": "2023-07-07T12:36:59.935Z"
   },
   {
    "duration": 161,
    "start_time": "2023-07-07T12:39:51.416Z"
   },
   {
    "duration": 39,
    "start_time": "2023-07-07T12:40:11.511Z"
   },
   {
    "duration": 450,
    "start_time": "2023-07-07T12:40:22.788Z"
   },
   {
    "duration": 30,
    "start_time": "2023-07-07T12:41:00.482Z"
   },
   {
    "duration": 31,
    "start_time": "2023-07-07T12:41:11.033Z"
   },
   {
    "duration": 410,
    "start_time": "2023-07-07T12:41:26.324Z"
   },
   {
    "duration": 419,
    "start_time": "2023-07-07T12:41:41.325Z"
   },
   {
    "duration": 400,
    "start_time": "2023-07-07T12:42:03.416Z"
   },
   {
    "duration": 556,
    "start_time": "2023-07-07T12:42:44.473Z"
   },
   {
    "duration": 347,
    "start_time": "2023-07-07T12:43:22.745Z"
   },
   {
    "duration": 361,
    "start_time": "2023-07-07T12:43:45.430Z"
   },
   {
    "duration": 393,
    "start_time": "2023-07-07T12:43:49.908Z"
   },
   {
    "duration": 354,
    "start_time": "2023-07-07T12:44:00.157Z"
   },
   {
    "duration": 365,
    "start_time": "2023-07-07T12:44:09.844Z"
   },
   {
    "duration": 413,
    "start_time": "2023-07-07T12:45:57.472Z"
   },
   {
    "duration": 451,
    "start_time": "2023-07-07T12:46:21.893Z"
   },
   {
    "duration": 505,
    "start_time": "2023-07-07T12:46:32.333Z"
   },
   {
    "duration": 267,
    "start_time": "2023-07-07T12:48:21.997Z"
   },
   {
    "duration": 431,
    "start_time": "2023-07-07T12:48:27.409Z"
   },
   {
    "duration": 447,
    "start_time": "2023-07-07T13:07:01.067Z"
   },
   {
    "duration": 386,
    "start_time": "2023-07-07T13:07:20.333Z"
   },
   {
    "duration": 395,
    "start_time": "2023-07-07T13:07:28.537Z"
   },
   {
    "duration": 498,
    "start_time": "2023-07-07T13:07:40.734Z"
   },
   {
    "duration": 85,
    "start_time": "2023-07-07T13:57:29.948Z"
   },
   {
    "duration": 80,
    "start_time": "2023-07-07T13:58:07.728Z"
   },
   {
    "duration": 107,
    "start_time": "2023-07-07T14:00:09.121Z"
   },
   {
    "duration": 171,
    "start_time": "2023-07-07T14:00:32.804Z"
   },
   {
    "duration": 165,
    "start_time": "2023-07-07T14:01:17.499Z"
   },
   {
    "duration": 85,
    "start_time": "2023-07-07T14:01:22.245Z"
   },
   {
    "duration": 83,
    "start_time": "2023-07-07T14:01:58.917Z"
   },
   {
    "duration": 4,
    "start_time": "2023-07-07T14:06:20.622Z"
   },
   {
    "duration": 40,
    "start_time": "2023-07-07T14:06:34.038Z"
   },
   {
    "duration": 37,
    "start_time": "2023-07-07T14:08:05.746Z"
   },
   {
    "duration": 68,
    "start_time": "2023-07-07T14:10:14.216Z"
   },
   {
    "duration": 29,
    "start_time": "2023-07-07T14:11:19.496Z"
   },
   {
    "duration": 76,
    "start_time": "2023-07-07T15:45:18.455Z"
   },
   {
    "duration": 1796,
    "start_time": "2023-07-07T15:45:24.128Z"
   },
   {
    "duration": 15,
    "start_time": "2023-07-07T15:45:25.927Z"
   },
   {
    "duration": 180,
    "start_time": "2023-07-07T15:45:25.959Z"
   },
   {
    "duration": 20,
    "start_time": "2023-07-07T15:45:26.148Z"
   },
   {
    "duration": 216,
    "start_time": "2023-07-07T15:45:26.171Z"
   },
   {
    "duration": 15,
    "start_time": "2023-07-07T15:45:26.390Z"
   },
   {
    "duration": 88,
    "start_time": "2023-07-07T15:45:26.414Z"
   },
   {
    "duration": 24,
    "start_time": "2023-07-07T15:45:26.504Z"
   },
   {
    "duration": 45,
    "start_time": "2023-07-07T15:45:26.530Z"
   },
   {
    "duration": 22,
    "start_time": "2023-07-07T15:45:26.577Z"
   },
   {
    "duration": 24,
    "start_time": "2023-07-07T15:45:26.602Z"
   },
   {
    "duration": 32,
    "start_time": "2023-07-07T15:45:26.632Z"
   },
   {
    "duration": 12,
    "start_time": "2023-07-07T15:45:26.666Z"
   },
   {
    "duration": 13,
    "start_time": "2023-07-07T15:45:26.682Z"
   },
   {
    "duration": 9,
    "start_time": "2023-07-07T15:45:26.698Z"
   },
   {
    "duration": 271,
    "start_time": "2023-07-07T15:45:26.712Z"
   },
   {
    "duration": 9,
    "start_time": "2023-07-07T15:45:26.986Z"
   },
   {
    "duration": 159,
    "start_time": "2023-07-07T15:45:26.998Z"
   },
   {
    "duration": 12,
    "start_time": "2023-07-07T15:45:27.160Z"
   },
   {
    "duration": 233,
    "start_time": "2023-07-07T15:45:27.174Z"
   },
   {
    "duration": 16,
    "start_time": "2023-07-07T15:45:27.410Z"
   },
   {
    "duration": 254,
    "start_time": "2023-07-07T15:45:27.429Z"
   },
   {
    "duration": 30,
    "start_time": "2023-07-07T15:45:27.685Z"
   },
   {
    "duration": 253,
    "start_time": "2023-07-07T15:45:27.717Z"
   },
   {
    "duration": 49,
    "start_time": "2023-07-07T15:45:27.972Z"
   },
   {
    "duration": 112,
    "start_time": "2023-07-07T15:45:28.023Z"
   },
   {
    "duration": 40,
    "start_time": "2023-07-07T15:45:28.142Z"
   },
   {
    "duration": 18,
    "start_time": "2023-07-07T15:45:28.184Z"
   },
   {
    "duration": 660,
    "start_time": "2023-07-07T15:45:28.204Z"
   },
   {
    "duration": 577,
    "start_time": "2023-07-07T15:45:28.866Z"
   },
   {
    "duration": 52,
    "start_time": "2023-07-07T15:45:29.450Z"
   },
   {
    "duration": 16,
    "start_time": "2023-07-07T15:46:40.608Z"
   },
   {
    "duration": 24,
    "start_time": "2023-07-07T15:48:32.195Z"
   },
   {
    "duration": 59,
    "start_time": "2023-07-07T15:52:40.290Z"
   },
   {
    "duration": 39,
    "start_time": "2023-07-07T15:53:03.588Z"
   },
   {
    "duration": 144,
    "start_time": "2023-07-07T15:53:20.033Z"
   },
   {
    "duration": 78,
    "start_time": "2023-07-07T16:18:37.136Z"
   },
   {
    "duration": 84,
    "start_time": "2023-07-07T16:20:07.021Z"
   },
   {
    "duration": 17,
    "start_time": "2023-07-07T16:20:14.094Z"
   },
   {
    "duration": 23,
    "start_time": "2023-07-07T16:20:26.144Z"
   },
   {
    "duration": 28,
    "start_time": "2023-07-07T16:20:42.316Z"
   },
   {
    "duration": 30,
    "start_time": "2023-07-07T16:22:03.154Z"
   },
   {
    "duration": 2167,
    "start_time": "2023-07-07T16:26:18.329Z"
   },
   {
    "duration": 21,
    "start_time": "2023-07-07T16:28:04.135Z"
   },
   {
    "duration": 1782,
    "start_time": "2023-07-07T16:29:05.572Z"
   },
   {
    "duration": 46,
    "start_time": "2023-07-07T16:29:40.444Z"
   },
   {
    "duration": 1251,
    "start_time": "2023-07-07T16:30:17.328Z"
   },
   {
    "duration": 4,
    "start_time": "2023-07-07T16:30:18.581Z"
   },
   {
    "duration": 99,
    "start_time": "2023-07-07T16:30:18.586Z"
   },
   {
    "duration": 14,
    "start_time": "2023-07-07T16:30:18.688Z"
   },
   {
    "duration": 70,
    "start_time": "2023-07-07T16:30:18.704Z"
   },
   {
    "duration": 25,
    "start_time": "2023-07-07T16:30:18.775Z"
   },
   {
    "duration": 34,
    "start_time": "2023-07-07T16:30:18.801Z"
   },
   {
    "duration": 27,
    "start_time": "2023-07-07T16:30:18.836Z"
   },
   {
    "duration": 27,
    "start_time": "2023-07-07T16:30:18.865Z"
   },
   {
    "duration": 25,
    "start_time": "2023-07-07T16:30:18.895Z"
   },
   {
    "duration": 16,
    "start_time": "2023-07-07T16:30:18.922Z"
   },
   {
    "duration": 17,
    "start_time": "2023-07-07T16:30:18.941Z"
   },
   {
    "duration": 14,
    "start_time": "2023-07-07T16:30:18.960Z"
   },
   {
    "duration": 13,
    "start_time": "2023-07-07T16:30:18.977Z"
   },
   {
    "duration": 11,
    "start_time": "2023-07-07T16:30:18.992Z"
   },
   {
    "duration": 220,
    "start_time": "2023-07-07T16:30:19.005Z"
   },
   {
    "duration": 8,
    "start_time": "2023-07-07T16:30:19.227Z"
   },
   {
    "duration": 98,
    "start_time": "2023-07-07T16:30:19.237Z"
   },
   {
    "duration": 19,
    "start_time": "2023-07-07T16:30:19.336Z"
   },
   {
    "duration": 231,
    "start_time": "2023-07-07T16:30:19.357Z"
   },
   {
    "duration": 24,
    "start_time": "2023-07-07T16:30:19.590Z"
   },
   {
    "duration": 198,
    "start_time": "2023-07-07T16:30:19.618Z"
   },
   {
    "duration": 13,
    "start_time": "2023-07-07T16:30:19.818Z"
   },
   {
    "duration": 246,
    "start_time": "2023-07-07T16:30:19.833Z"
   },
   {
    "duration": 46,
    "start_time": "2023-07-07T16:30:20.081Z"
   },
   {
    "duration": 35,
    "start_time": "2023-07-07T16:30:20.129Z"
   },
   {
    "duration": 37,
    "start_time": "2023-07-07T16:30:20.166Z"
   },
   {
    "duration": 30,
    "start_time": "2023-07-07T16:30:20.208Z"
   },
   {
    "duration": 568,
    "start_time": "2023-07-07T16:30:20.240Z"
   },
   {
    "duration": 513,
    "start_time": "2023-07-07T16:30:20.810Z"
   },
   {
    "duration": 148,
    "start_time": "2023-07-07T16:30:21.327Z"
   },
   {
    "duration": 69,
    "start_time": "2023-07-07T16:30:21.478Z"
   },
   {
    "duration": 440,
    "start_time": "2023-07-07T16:35:09.911Z"
   },
   {
    "duration": 1291,
    "start_time": "2023-07-07T16:35:33.526Z"
   },
   {
    "duration": 4,
    "start_time": "2023-07-07T16:35:34.827Z"
   },
   {
    "duration": 65,
    "start_time": "2023-07-07T16:35:34.833Z"
   },
   {
    "duration": 19,
    "start_time": "2023-07-07T16:35:34.900Z"
   },
   {
    "duration": 57,
    "start_time": "2023-07-07T16:35:34.924Z"
   },
   {
    "duration": 16,
    "start_time": "2023-07-07T16:35:34.983Z"
   },
   {
    "duration": 47,
    "start_time": "2023-07-07T16:35:35.001Z"
   },
   {
    "duration": 17,
    "start_time": "2023-07-07T16:35:35.050Z"
   },
   {
    "duration": 40,
    "start_time": "2023-07-07T16:35:35.069Z"
   },
   {
    "duration": 28,
    "start_time": "2023-07-07T16:35:35.111Z"
   },
   {
    "duration": 6,
    "start_time": "2023-07-07T16:35:35.142Z"
   },
   {
    "duration": 21,
    "start_time": "2023-07-07T16:35:35.150Z"
   },
   {
    "duration": 59,
    "start_time": "2023-07-07T16:35:35.173Z"
   },
   {
    "duration": 99,
    "start_time": "2023-07-07T16:35:35.235Z"
   },
   {
    "duration": 98,
    "start_time": "2023-07-07T16:35:35.336Z"
   },
   {
    "duration": 192,
    "start_time": "2023-07-07T16:35:35.436Z"
   },
   {
    "duration": 15,
    "start_time": "2023-07-07T16:35:35.630Z"
   },
   {
    "duration": 125,
    "start_time": "2023-07-07T16:35:35.647Z"
   },
   {
    "duration": 10,
    "start_time": "2023-07-07T16:35:35.775Z"
   },
   {
    "duration": 278,
    "start_time": "2023-07-07T16:35:35.788Z"
   },
   {
    "duration": 13,
    "start_time": "2023-07-07T16:35:36.068Z"
   },
   {
    "duration": 222,
    "start_time": "2023-07-07T16:35:36.083Z"
   },
   {
    "duration": 15,
    "start_time": "2023-07-07T16:35:36.308Z"
   },
   {
    "duration": 200,
    "start_time": "2023-07-07T16:35:36.327Z"
   },
   {
    "duration": 24,
    "start_time": "2023-07-07T16:35:36.529Z"
   },
   {
    "duration": 22,
    "start_time": "2023-07-07T16:35:36.555Z"
   },
   {
    "duration": 46,
    "start_time": "2023-07-07T16:35:36.579Z"
   },
   {
    "duration": 19,
    "start_time": "2023-07-07T16:35:36.627Z"
   },
   {
    "duration": 538,
    "start_time": "2023-07-07T16:35:36.648Z"
   },
   {
    "duration": 537,
    "start_time": "2023-07-07T16:35:37.189Z"
   },
   {
    "duration": 136,
    "start_time": "2023-07-07T16:35:37.729Z"
   },
   {
    "duration": 1701,
    "start_time": "2023-07-07T16:35:37.867Z"
   },
   {
    "duration": 52,
    "start_time": "2023-07-07T16:37:12.462Z"
   },
   {
    "duration": 274,
    "start_time": "2023-07-07T16:37:20.953Z"
   },
   {
    "duration": 1261,
    "start_time": "2023-07-07T16:37:33.000Z"
   },
   {
    "duration": 5,
    "start_time": "2023-07-07T16:37:34.263Z"
   },
   {
    "duration": 55,
    "start_time": "2023-07-07T16:37:34.270Z"
   },
   {
    "duration": 13,
    "start_time": "2023-07-07T16:37:34.326Z"
   },
   {
    "duration": 37,
    "start_time": "2023-07-07T16:37:34.341Z"
   },
   {
    "duration": 14,
    "start_time": "2023-07-07T16:37:34.380Z"
   },
   {
    "duration": 40,
    "start_time": "2023-07-07T16:37:34.396Z"
   },
   {
    "duration": 13,
    "start_time": "2023-07-07T16:37:34.438Z"
   },
   {
    "duration": 20,
    "start_time": "2023-07-07T16:37:34.452Z"
   },
   {
    "duration": 11,
    "start_time": "2023-07-07T16:37:34.474Z"
   },
   {
    "duration": 38,
    "start_time": "2023-07-07T16:37:34.487Z"
   },
   {
    "duration": 7,
    "start_time": "2023-07-07T16:37:34.529Z"
   },
   {
    "duration": 13,
    "start_time": "2023-07-07T16:37:34.538Z"
   },
   {
    "duration": 10,
    "start_time": "2023-07-07T16:37:34.554Z"
   },
   {
    "duration": 8,
    "start_time": "2023-07-07T16:37:34.566Z"
   },
   {
    "duration": 207,
    "start_time": "2023-07-07T16:37:34.576Z"
   },
   {
    "duration": 8,
    "start_time": "2023-07-07T16:37:34.785Z"
   },
   {
    "duration": 98,
    "start_time": "2023-07-07T16:37:34.812Z"
   },
   {
    "duration": 15,
    "start_time": "2023-07-07T16:37:34.913Z"
   },
   {
    "duration": 201,
    "start_time": "2023-07-07T16:37:34.929Z"
   },
   {
    "duration": 10,
    "start_time": "2023-07-07T16:37:35.132Z"
   },
   {
    "duration": 206,
    "start_time": "2023-07-07T16:37:35.144Z"
   },
   {
    "duration": 11,
    "start_time": "2023-07-07T16:37:35.352Z"
   },
   {
    "duration": 237,
    "start_time": "2023-07-07T16:37:35.365Z"
   },
   {
    "duration": 29,
    "start_time": "2023-07-07T16:37:35.604Z"
   },
   {
    "duration": 30,
    "start_time": "2023-07-07T16:37:35.636Z"
   },
   {
    "duration": 24,
    "start_time": "2023-07-07T16:37:35.668Z"
   },
   {
    "duration": 20,
    "start_time": "2023-07-07T16:37:35.710Z"
   },
   {
    "duration": 540,
    "start_time": "2023-07-07T16:37:35.732Z"
   },
   {
    "duration": 488,
    "start_time": "2023-07-07T16:37:36.274Z"
   },
   {
    "duration": 157,
    "start_time": "2023-07-07T16:37:36.764Z"
   },
   {
    "duration": 35,
    "start_time": "2023-07-07T16:37:36.923Z"
   },
   {
    "duration": 31,
    "start_time": "2023-07-07T16:37:36.960Z"
   },
   {
    "duration": 1206,
    "start_time": "2023-07-07T16:39:56.129Z"
   },
   {
    "duration": 3,
    "start_time": "2023-07-07T16:39:57.337Z"
   },
   {
    "duration": 81,
    "start_time": "2023-07-07T16:39:57.342Z"
   },
   {
    "duration": 15,
    "start_time": "2023-07-07T16:39:57.426Z"
   },
   {
    "duration": 48,
    "start_time": "2023-07-07T16:39:57.443Z"
   },
   {
    "duration": 14,
    "start_time": "2023-07-07T16:39:57.493Z"
   },
   {
    "duration": 44,
    "start_time": "2023-07-07T16:39:57.518Z"
   },
   {
    "duration": 11,
    "start_time": "2023-07-07T16:39:57.564Z"
   },
   {
    "duration": 29,
    "start_time": "2023-07-07T16:39:57.578Z"
   },
   {
    "duration": 19,
    "start_time": "2023-07-07T16:39:57.620Z"
   },
   {
    "duration": 10,
    "start_time": "2023-07-07T16:39:57.641Z"
   },
   {
    "duration": 14,
    "start_time": "2023-07-07T16:39:57.653Z"
   },
   {
    "duration": 37,
    "start_time": "2023-07-07T16:39:57.669Z"
   },
   {
    "duration": 36,
    "start_time": "2023-07-07T16:39:57.708Z"
   },
   {
    "duration": 35,
    "start_time": "2023-07-07T16:39:57.747Z"
   },
   {
    "duration": 213,
    "start_time": "2023-07-07T16:39:57.784Z"
   },
   {
    "duration": 12,
    "start_time": "2023-07-07T16:39:57.999Z"
   },
   {
    "duration": 137,
    "start_time": "2023-07-07T16:39:58.017Z"
   },
   {
    "duration": 11,
    "start_time": "2023-07-07T16:39:58.156Z"
   },
   {
    "duration": 218,
    "start_time": "2023-07-07T16:39:58.169Z"
   },
   {
    "duration": 27,
    "start_time": "2023-07-07T16:39:58.389Z"
   },
   {
    "duration": 234,
    "start_time": "2023-07-07T16:39:58.417Z"
   },
   {
    "duration": 11,
    "start_time": "2023-07-07T16:39:58.653Z"
   },
   {
    "duration": 258,
    "start_time": "2023-07-07T16:39:58.666Z"
   },
   {
    "duration": 26,
    "start_time": "2023-07-07T16:39:58.930Z"
   },
   {
    "duration": 36,
    "start_time": "2023-07-07T16:39:58.958Z"
   },
   {
    "duration": 31,
    "start_time": "2023-07-07T16:39:58.996Z"
   },
   {
    "duration": 55,
    "start_time": "2023-07-07T16:39:59.032Z"
   },
   {
    "duration": 602,
    "start_time": "2023-07-07T16:39:59.089Z"
   },
   {
    "duration": 536,
    "start_time": "2023-07-07T16:39:59.693Z"
   },
   {
    "duration": 157,
    "start_time": "2023-07-07T16:40:00.231Z"
   },
   {
    "duration": 39,
    "start_time": "2023-07-07T16:40:04.812Z"
   },
   {
    "duration": 1277,
    "start_time": "2023-07-07T16:41:03.038Z"
   },
   {
    "duration": 4,
    "start_time": "2023-07-07T16:41:04.330Z"
   },
   {
    "duration": 50,
    "start_time": "2023-07-07T16:41:04.335Z"
   },
   {
    "duration": 14,
    "start_time": "2023-07-07T16:41:04.387Z"
   },
   {
    "duration": 66,
    "start_time": "2023-07-07T16:41:04.404Z"
   },
   {
    "duration": 16,
    "start_time": "2023-07-07T16:41:04.472Z"
   },
   {
    "duration": 39,
    "start_time": "2023-07-07T16:41:04.490Z"
   },
   {
    "duration": 16,
    "start_time": "2023-07-07T16:41:04.534Z"
   },
   {
    "duration": 27,
    "start_time": "2023-07-07T16:41:04.552Z"
   },
   {
    "duration": 31,
    "start_time": "2023-07-07T16:41:04.582Z"
   },
   {
    "duration": 10,
    "start_time": "2023-07-07T16:41:04.621Z"
   },
   {
    "duration": 10,
    "start_time": "2023-07-07T16:41:04.633Z"
   },
   {
    "duration": 9,
    "start_time": "2023-07-07T16:41:04.645Z"
   },
   {
    "duration": 11,
    "start_time": "2023-07-07T16:41:04.659Z"
   },
   {
    "duration": 9,
    "start_time": "2023-07-07T16:41:04.673Z"
   },
   {
    "duration": 236,
    "start_time": "2023-07-07T16:41:04.684Z"
   },
   {
    "duration": 9,
    "start_time": "2023-07-07T16:41:04.926Z"
   },
   {
    "duration": 101,
    "start_time": "2023-07-07T16:41:04.937Z"
   },
   {
    "duration": 13,
    "start_time": "2023-07-07T16:41:05.040Z"
   },
   {
    "duration": 231,
    "start_time": "2023-07-07T16:41:05.056Z"
   },
   {
    "duration": 25,
    "start_time": "2023-07-07T16:41:05.290Z"
   },
   {
    "duration": 199,
    "start_time": "2023-07-07T16:41:05.318Z"
   },
   {
    "duration": 11,
    "start_time": "2023-07-07T16:41:05.524Z"
   },
   {
    "duration": 222,
    "start_time": "2023-07-07T16:41:05.537Z"
   },
   {
    "duration": 45,
    "start_time": "2023-07-07T16:41:05.763Z"
   },
   {
    "duration": 39,
    "start_time": "2023-07-07T16:41:05.810Z"
   },
   {
    "duration": 35,
    "start_time": "2023-07-07T16:41:05.851Z"
   },
   {
    "duration": 43,
    "start_time": "2023-07-07T16:41:05.889Z"
   },
   {
    "duration": 556,
    "start_time": "2023-07-07T16:41:05.942Z"
   },
   {
    "duration": 491,
    "start_time": "2023-07-07T16:41:06.500Z"
   },
   {
    "duration": 149,
    "start_time": "2023-07-07T16:41:06.994Z"
   },
   {
    "duration": 1269,
    "start_time": "2023-07-07T16:41:43.931Z"
   },
   {
    "duration": 4,
    "start_time": "2023-07-07T16:41:45.202Z"
   },
   {
    "duration": 83,
    "start_time": "2023-07-07T16:41:45.213Z"
   },
   {
    "duration": 23,
    "start_time": "2023-07-07T16:41:45.298Z"
   },
   {
    "duration": 68,
    "start_time": "2023-07-07T16:41:45.325Z"
   },
   {
    "duration": 37,
    "start_time": "2023-07-07T16:41:45.395Z"
   },
   {
    "duration": 50,
    "start_time": "2023-07-07T16:41:45.434Z"
   },
   {
    "duration": 13,
    "start_time": "2023-07-07T16:41:45.486Z"
   },
   {
    "duration": 44,
    "start_time": "2023-07-07T16:41:45.501Z"
   },
   {
    "duration": 48,
    "start_time": "2023-07-07T16:41:45.547Z"
   },
   {
    "duration": 71,
    "start_time": "2023-07-07T16:41:45.597Z"
   },
   {
    "duration": 78,
    "start_time": "2023-07-07T16:41:45.670Z"
   },
   {
    "duration": 107,
    "start_time": "2023-07-07T16:41:45.750Z"
   },
   {
    "duration": 53,
    "start_time": "2023-07-07T16:41:45.862Z"
   },
   {
    "duration": 98,
    "start_time": "2023-07-07T16:41:45.917Z"
   },
   {
    "duration": 284,
    "start_time": "2023-07-07T16:41:46.022Z"
   },
   {
    "duration": 21,
    "start_time": "2023-07-07T16:41:46.309Z"
   },
   {
    "duration": 105,
    "start_time": "2023-07-07T16:41:46.332Z"
   },
   {
    "duration": 11,
    "start_time": "2023-07-07T16:41:46.439Z"
   },
   {
    "duration": 230,
    "start_time": "2023-07-07T16:41:46.452Z"
   },
   {
    "duration": 14,
    "start_time": "2023-07-07T16:41:46.684Z"
   },
   {
    "duration": 210,
    "start_time": "2023-07-07T16:41:46.712Z"
   },
   {
    "duration": 10,
    "start_time": "2023-07-07T16:41:46.928Z"
   },
   {
    "duration": 208,
    "start_time": "2023-07-07T16:41:46.940Z"
   },
   {
    "duration": 24,
    "start_time": "2023-07-07T16:41:47.150Z"
   },
   {
    "duration": 46,
    "start_time": "2023-07-07T16:41:47.176Z"
   },
   {
    "duration": 26,
    "start_time": "2023-07-07T16:41:47.228Z"
   },
   {
    "duration": 20,
    "start_time": "2023-07-07T16:41:47.256Z"
   },
   {
    "duration": 569,
    "start_time": "2023-07-07T16:41:47.279Z"
   },
   {
    "duration": 537,
    "start_time": "2023-07-07T16:41:47.850Z"
   },
   {
    "duration": 164,
    "start_time": "2023-07-07T16:41:48.389Z"
   },
   {
    "duration": 31,
    "start_time": "2023-07-07T16:41:52.453Z"
   },
   {
    "duration": 1323,
    "start_time": "2023-07-07T16:48:01.342Z"
   },
   {
    "duration": 6,
    "start_time": "2023-07-07T16:48:02.668Z"
   },
   {
    "duration": 92,
    "start_time": "2023-07-07T16:48:02.676Z"
   },
   {
    "duration": 14,
    "start_time": "2023-07-07T16:48:02.770Z"
   },
   {
    "duration": 73,
    "start_time": "2023-07-07T16:48:02.786Z"
   },
   {
    "duration": 12,
    "start_time": "2023-07-07T16:48:02.861Z"
   },
   {
    "duration": 32,
    "start_time": "2023-07-07T16:48:02.875Z"
   },
   {
    "duration": 21,
    "start_time": "2023-07-07T16:48:02.918Z"
   },
   {
    "duration": 55,
    "start_time": "2023-07-07T16:48:02.940Z"
   },
   {
    "duration": 23,
    "start_time": "2023-07-07T16:48:02.998Z"
   },
   {
    "duration": 34,
    "start_time": "2023-07-07T16:48:03.023Z"
   },
   {
    "duration": 22,
    "start_time": "2023-07-07T16:48:03.059Z"
   },
   {
    "duration": 86,
    "start_time": "2023-07-07T16:48:03.082Z"
   },
   {
    "duration": 36,
    "start_time": "2023-07-07T16:48:03.171Z"
   },
   {
    "duration": 52,
    "start_time": "2023-07-07T16:48:03.209Z"
   },
   {
    "duration": 198,
    "start_time": "2023-07-07T16:48:03.263Z"
   },
   {
    "duration": 8,
    "start_time": "2023-07-07T16:48:03.463Z"
   },
   {
    "duration": 109,
    "start_time": "2023-07-07T16:48:03.473Z"
   },
   {
    "duration": 11,
    "start_time": "2023-07-07T16:48:03.585Z"
   },
   {
    "duration": 242,
    "start_time": "2023-07-07T16:48:03.598Z"
   },
   {
    "duration": 12,
    "start_time": "2023-07-07T16:48:03.847Z"
   },
   {
    "duration": 245,
    "start_time": "2023-07-07T16:48:03.861Z"
   },
   {
    "duration": 21,
    "start_time": "2023-07-07T16:48:04.111Z"
   },
   {
    "duration": 216,
    "start_time": "2023-07-07T16:48:04.142Z"
   },
   {
    "duration": 24,
    "start_time": "2023-07-07T16:48:04.360Z"
   },
   {
    "duration": 43,
    "start_time": "2023-07-07T16:48:04.386Z"
   },
   {
    "duration": 45,
    "start_time": "2023-07-07T16:48:04.431Z"
   },
   {
    "duration": 46,
    "start_time": "2023-07-07T16:48:04.478Z"
   },
   {
    "duration": 531,
    "start_time": "2023-07-07T16:48:04.531Z"
   },
   {
    "duration": 468,
    "start_time": "2023-07-07T16:48:05.064Z"
   },
   {
    "duration": 133,
    "start_time": "2023-07-07T16:48:05.537Z"
   },
   {
    "duration": 43,
    "start_time": "2023-07-07T16:48:16.388Z"
   },
   {
    "duration": 287,
    "start_time": "2023-07-07T16:54:53.791Z"
   },
   {
    "duration": 1294,
    "start_time": "2023-07-07T16:55:40.041Z"
   },
   {
    "duration": 17,
    "start_time": "2023-07-07T16:55:41.342Z"
   },
   {
    "duration": 56,
    "start_time": "2023-07-07T16:55:41.362Z"
   },
   {
    "duration": 14,
    "start_time": "2023-07-07T16:55:41.420Z"
   },
   {
    "duration": 65,
    "start_time": "2023-07-07T16:55:41.437Z"
   },
   {
    "duration": 33,
    "start_time": "2023-07-07T16:55:41.505Z"
   },
   {
    "duration": 53,
    "start_time": "2023-07-07T16:55:41.541Z"
   },
   {
    "duration": 21,
    "start_time": "2023-07-07T16:55:41.597Z"
   },
   {
    "duration": 78,
    "start_time": "2023-07-07T16:55:41.620Z"
   },
   {
    "duration": 20,
    "start_time": "2023-07-07T16:55:41.701Z"
   },
   {
    "duration": 38,
    "start_time": "2023-07-07T16:55:41.732Z"
   },
   {
    "duration": 14,
    "start_time": "2023-07-07T16:55:41.773Z"
   },
   {
    "duration": 65,
    "start_time": "2023-07-07T16:55:41.790Z"
   },
   {
    "duration": 100,
    "start_time": "2023-07-07T16:55:41.860Z"
   },
   {
    "duration": 9,
    "start_time": "2023-07-07T16:55:41.965Z"
   },
   {
    "duration": 292,
    "start_time": "2023-07-07T16:55:41.977Z"
   },
   {
    "duration": 10,
    "start_time": "2023-07-07T16:55:42.272Z"
   },
   {
    "duration": 149,
    "start_time": "2023-07-07T16:55:42.285Z"
   },
   {
    "duration": 23,
    "start_time": "2023-07-07T16:55:42.436Z"
   },
   {
    "duration": 255,
    "start_time": "2023-07-07T16:55:42.462Z"
   },
   {
    "duration": 13,
    "start_time": "2023-07-07T16:55:42.719Z"
   },
   {
    "duration": 238,
    "start_time": "2023-07-07T16:55:42.734Z"
   },
   {
    "duration": 13,
    "start_time": "2023-07-07T16:55:42.975Z"
   },
   {
    "duration": 276,
    "start_time": "2023-07-07T16:55:42.991Z"
   },
   {
    "duration": 26,
    "start_time": "2023-07-07T16:55:43.269Z"
   },
   {
    "duration": 36,
    "start_time": "2023-07-07T16:55:43.309Z"
   },
   {
    "duration": 41,
    "start_time": "2023-07-07T16:55:43.347Z"
   },
   {
    "duration": 20,
    "start_time": "2023-07-07T16:55:43.392Z"
   },
   {
    "duration": 557,
    "start_time": "2023-07-07T16:55:43.419Z"
   },
   {
    "duration": 509,
    "start_time": "2023-07-07T16:55:43.979Z"
   },
   {
    "duration": 163,
    "start_time": "2023-07-07T16:55:44.490Z"
   },
   {
    "duration": 46,
    "start_time": "2023-07-07T16:55:51.866Z"
   },
   {
    "duration": 33,
    "start_time": "2023-07-07T16:58:13.183Z"
   },
   {
    "duration": 51,
    "start_time": "2023-07-07T16:58:24.202Z"
   },
   {
    "duration": 78,
    "start_time": "2023-07-07T16:58:42.457Z"
   },
   {
    "duration": 84,
    "start_time": "2023-07-07T16:59:43.161Z"
   },
   {
    "duration": 56,
    "start_time": "2023-07-07T16:59:55.789Z"
   },
   {
    "duration": 125,
    "start_time": "2023-07-07T17:00:02.654Z"
   },
   {
    "duration": 151,
    "start_time": "2023-07-07T17:00:22.512Z"
   },
   {
    "duration": 26,
    "start_time": "2023-07-07T17:01:02.132Z"
   },
   {
    "duration": 109,
    "start_time": "2023-07-07T17:01:39.852Z"
   },
   {
    "duration": 16,
    "start_time": "2023-07-07T17:01:52.275Z"
   },
   {
    "duration": 131,
    "start_time": "2023-07-07T17:02:52.026Z"
   },
   {
    "duration": 78,
    "start_time": "2023-07-07T17:03:06.255Z"
   },
   {
    "duration": 73,
    "start_time": "2023-07-07T17:04:05.493Z"
   },
   {
    "duration": 69,
    "start_time": "2023-07-07T17:05:04.656Z"
   },
   {
    "duration": 20,
    "start_time": "2023-07-07T17:05:20.251Z"
   },
   {
    "duration": 51,
    "start_time": "2023-07-07T17:06:33.138Z"
   },
   {
    "duration": 22,
    "start_time": "2023-07-07T17:06:54.441Z"
   },
   {
    "duration": 5,
    "start_time": "2023-07-07T17:08:30.404Z"
   },
   {
    "duration": 29,
    "start_time": "2023-07-07T17:09:00.342Z"
   },
   {
    "duration": 2772,
    "start_time": "2023-07-07T17:14:07.454Z"
   },
   {
    "duration": 1739,
    "start_time": "2023-07-07T17:15:06.858Z"
   },
   {
    "duration": 2319,
    "start_time": "2023-07-07T17:15:19.888Z"
   },
   {
    "duration": 1432,
    "start_time": "2023-07-07T17:15:40.631Z"
   },
   {
    "duration": 24,
    "start_time": "2023-07-07T17:16:40.425Z"
   },
   {
    "duration": 22,
    "start_time": "2023-07-07T17:17:07.824Z"
   },
   {
    "duration": 20,
    "start_time": "2023-07-07T17:18:11.383Z"
   },
   {
    "duration": 15,
    "start_time": "2023-07-07T17:19:51.423Z"
   },
   {
    "duration": 21,
    "start_time": "2023-07-07T17:19:57.204Z"
   },
   {
    "duration": 3,
    "start_time": "2023-07-07T17:26:20.047Z"
   },
   {
    "duration": 7,
    "start_time": "2023-07-07T17:26:29.353Z"
   },
   {
    "duration": 1243,
    "start_time": "2023-07-08T05:22:38.293Z"
   },
   {
    "duration": 3,
    "start_time": "2023-07-08T05:22:39.537Z"
   },
   {
    "duration": 94,
    "start_time": "2023-07-08T05:22:39.542Z"
   },
   {
    "duration": 11,
    "start_time": "2023-07-08T05:22:39.638Z"
   },
   {
    "duration": 166,
    "start_time": "2023-07-08T05:22:39.651Z"
   },
   {
    "duration": 11,
    "start_time": "2023-07-08T05:22:39.819Z"
   },
   {
    "duration": 64,
    "start_time": "2023-07-08T05:22:39.831Z"
   },
   {
    "duration": 12,
    "start_time": "2023-07-08T05:22:39.897Z"
   },
   {
    "duration": 18,
    "start_time": "2023-07-08T05:22:39.911Z"
   },
   {
    "duration": 10,
    "start_time": "2023-07-08T05:22:39.931Z"
   },
   {
    "duration": 17,
    "start_time": "2023-07-08T05:22:39.943Z"
   },
   {
    "duration": 6,
    "start_time": "2023-07-08T05:22:39.961Z"
   },
   {
    "duration": 7,
    "start_time": "2023-07-08T05:22:39.969Z"
   },
   {
    "duration": 16,
    "start_time": "2023-07-08T05:22:39.978Z"
   },
   {
    "duration": 8,
    "start_time": "2023-07-08T05:22:39.996Z"
   },
   {
    "duration": 172,
    "start_time": "2023-07-08T05:22:40.006Z"
   },
   {
    "duration": 7,
    "start_time": "2023-07-08T05:22:40.179Z"
   },
   {
    "duration": 72,
    "start_time": "2023-07-08T05:22:40.187Z"
   },
   {
    "duration": 8,
    "start_time": "2023-07-08T05:22:40.269Z"
   },
   {
    "duration": 162,
    "start_time": "2023-07-08T05:22:40.278Z"
   },
   {
    "duration": 8,
    "start_time": "2023-07-08T05:22:40.441Z"
   },
   {
    "duration": 167,
    "start_time": "2023-07-08T05:22:40.450Z"
   },
   {
    "duration": 8,
    "start_time": "2023-07-08T05:22:40.619Z"
   },
   {
    "duration": 178,
    "start_time": "2023-07-08T05:22:40.628Z"
   },
   {
    "duration": 20,
    "start_time": "2023-07-08T05:22:40.808Z"
   },
   {
    "duration": 19,
    "start_time": "2023-07-08T05:22:40.830Z"
   },
   {
    "duration": 22,
    "start_time": "2023-07-08T05:22:40.868Z"
   },
   {
    "duration": 20,
    "start_time": "2023-07-08T05:22:40.892Z"
   },
   {
    "duration": 543,
    "start_time": "2023-07-08T05:22:40.914Z"
   },
   {
    "duration": 450,
    "start_time": "2023-07-08T05:22:41.459Z"
   },
   {
    "duration": 117,
    "start_time": "2023-07-08T05:22:41.911Z"
   },
   {
    "duration": 23,
    "start_time": "2023-07-08T05:22:42.030Z"
   },
   {
    "duration": 21,
    "start_time": "2023-07-08T05:22:42.068Z"
   },
   {
    "duration": 11,
    "start_time": "2023-07-08T05:22:42.091Z"
   },
   {
    "duration": 6,
    "start_time": "2023-07-08T05:33:08.882Z"
   },
   {
    "duration": 10,
    "start_time": "2023-07-08T05:42:54.316Z"
   },
   {
    "duration": 7,
    "start_time": "2023-07-08T05:43:02.724Z"
   },
   {
    "duration": 7,
    "start_time": "2023-07-08T05:43:11.028Z"
   },
   {
    "duration": 8,
    "start_time": "2023-07-08T05:44:15.848Z"
   },
   {
    "duration": 4,
    "start_time": "2023-07-08T05:48:14.622Z"
   },
   {
    "duration": 6,
    "start_time": "2023-07-08T05:50:28.076Z"
   },
   {
    "duration": 5,
    "start_time": "2023-07-08T05:50:40.669Z"
   },
   {
    "duration": 5,
    "start_time": "2023-07-08T06:08:50.225Z"
   },
   {
    "duration": 92,
    "start_time": "2023-07-08T06:20:42.458Z"
   },
   {
    "duration": 8,
    "start_time": "2023-07-08T06:21:24.968Z"
   },
   {
    "duration": 5,
    "start_time": "2023-07-08T06:22:35.424Z"
   },
   {
    "duration": 6,
    "start_time": "2023-07-08T06:22:49.972Z"
   },
   {
    "duration": 9,
    "start_time": "2023-07-08T06:25:57.120Z"
   },
   {
    "duration": 12,
    "start_time": "2023-07-08T06:26:18.763Z"
   },
   {
    "duration": 5,
    "start_time": "2023-07-08T06:30:48.731Z"
   },
   {
    "duration": 6,
    "start_time": "2023-07-08T06:37:59.184Z"
   },
   {
    "duration": 4,
    "start_time": "2023-07-08T06:38:06.106Z"
   },
   {
    "duration": 11,
    "start_time": "2023-07-08T08:14:57.083Z"
   },
   {
    "duration": 9,
    "start_time": "2023-07-08T08:16:35.857Z"
   },
   {
    "duration": 10,
    "start_time": "2023-07-08T08:16:40.975Z"
   },
   {
    "duration": 9,
    "start_time": "2023-07-08T08:17:33.626Z"
   },
   {
    "duration": 6,
    "start_time": "2023-07-08T08:18:27.222Z"
   },
   {
    "duration": 5,
    "start_time": "2023-07-08T08:22:18.038Z"
   },
   {
    "duration": 6,
    "start_time": "2023-07-08T08:23:20.049Z"
   },
   {
    "duration": 4,
    "start_time": "2023-07-08T08:23:57.692Z"
   },
   {
    "duration": 3,
    "start_time": "2023-07-08T08:52:12.895Z"
   },
   {
    "duration": 3,
    "start_time": "2023-07-08T09:24:15.810Z"
   },
   {
    "duration": 831,
    "start_time": "2023-07-08T09:37:16.028Z"
   },
   {
    "duration": 12,
    "start_time": "2023-07-08T11:24:32.744Z"
   },
   {
    "duration": 9,
    "start_time": "2023-07-08T11:30:11.475Z"
   },
   {
    "duration": 9,
    "start_time": "2023-07-08T11:31:10.215Z"
   },
   {
    "duration": 876,
    "start_time": "2023-07-08T11:32:53.155Z"
   },
   {
    "duration": 764,
    "start_time": "2023-07-08T11:33:34.931Z"
   },
   {
    "duration": 837,
    "start_time": "2023-07-08T11:33:59.979Z"
   },
   {
    "duration": 1107,
    "start_time": "2023-07-08T11:37:06.281Z"
   },
   {
    "duration": 833,
    "start_time": "2023-07-08T11:37:56.095Z"
   },
   {
    "duration": 6621,
    "start_time": "2023-07-08T11:38:02.055Z"
   },
   {
    "duration": 6656,
    "start_time": "2023-07-08T11:38:13.835Z"
   },
   {
    "duration": 7533,
    "start_time": "2023-07-08T11:39:02.299Z"
   },
   {
    "duration": 7798,
    "start_time": "2023-07-08T11:39:17.535Z"
   },
   {
    "duration": 11,
    "start_time": "2023-07-08T11:41:26.172Z"
   },
   {
    "duration": 1129,
    "start_time": "2023-07-08T11:42:22.405Z"
   },
   {
    "duration": 714,
    "start_time": "2023-07-08T11:42:39.541Z"
   },
   {
    "duration": 827,
    "start_time": "2023-07-08T11:43:37.928Z"
   },
   {
    "duration": 187,
    "start_time": "2023-07-08T11:47:51.009Z"
   },
   {
    "duration": 5,
    "start_time": "2023-07-08T11:48:03.000Z"
   },
   {
    "duration": 178,
    "start_time": "2023-07-08T11:52:28.896Z"
   },
   {
    "duration": 149,
    "start_time": "2023-07-08T11:53:20.388Z"
   },
   {
    "duration": 14,
    "start_time": "2023-07-08T11:55:21.792Z"
   },
   {
    "duration": 5,
    "start_time": "2023-07-08T11:55:35.890Z"
   },
   {
    "duration": 10,
    "start_time": "2023-07-08T11:57:19.710Z"
   },
   {
    "duration": 9,
    "start_time": "2023-07-08T11:58:08.104Z"
   },
   {
    "duration": 10,
    "start_time": "2023-07-08T11:58:11.235Z"
   },
   {
    "duration": 818,
    "start_time": "2023-07-08T11:58:22.174Z"
   },
   {
    "duration": 878,
    "start_time": "2023-07-08T11:58:25.275Z"
   },
   {
    "duration": 136,
    "start_time": "2023-07-08T11:58:28.642Z"
   },
   {
    "duration": 157,
    "start_time": "2023-07-08T12:10:54.358Z"
   },
   {
    "duration": 169,
    "start_time": "2023-07-08T12:18:19.807Z"
   },
   {
    "duration": 251,
    "start_time": "2023-07-08T12:18:38.895Z"
   },
   {
    "duration": 266,
    "start_time": "2023-07-08T12:21:14.759Z"
   },
   {
    "duration": 261,
    "start_time": "2023-07-08T12:22:59.308Z"
   },
   {
    "duration": 303,
    "start_time": "2023-07-08T12:23:30.006Z"
   },
   {
    "duration": 245,
    "start_time": "2023-07-08T12:23:38.077Z"
   },
   {
    "duration": 355,
    "start_time": "2023-07-08T12:25:17.095Z"
   },
   {
    "duration": 259,
    "start_time": "2023-07-08T12:26:32.081Z"
   },
   {
    "duration": 258,
    "start_time": "2023-07-08T12:28:04.772Z"
   },
   {
    "duration": 278,
    "start_time": "2023-07-08T12:28:32.959Z"
   },
   {
    "duration": 294,
    "start_time": "2023-07-08T12:31:44.000Z"
   },
   {
    "duration": 387,
    "start_time": "2023-07-08T12:32:17.116Z"
   },
   {
    "duration": 421,
    "start_time": "2023-07-08T12:34:19.203Z"
   },
   {
    "duration": 379,
    "start_time": "2023-07-08T12:37:35.923Z"
   },
   {
    "duration": 360,
    "start_time": "2023-07-08T12:38:17.249Z"
   },
   {
    "duration": 419,
    "start_time": "2023-07-08T12:38:28.951Z"
   },
   {
    "duration": 365,
    "start_time": "2023-07-08T12:47:48.950Z"
   },
   {
    "duration": 3,
    "start_time": "2023-07-08T12:49:32.053Z"
   },
   {
    "duration": 5,
    "start_time": "2023-07-08T12:49:36.957Z"
   },
   {
    "duration": 531,
    "start_time": "2023-07-08T12:51:00.002Z"
   },
   {
    "duration": 6,
    "start_time": "2023-07-08T13:07:10.240Z"
   },
   {
    "duration": 451,
    "start_time": "2023-07-08T13:08:37.379Z"
   },
   {
    "duration": 1094,
    "start_time": "2023-07-08T17:58:34.501Z"
   },
   {
    "duration": 2,
    "start_time": "2023-07-08T17:58:35.597Z"
   },
   {
    "duration": 40,
    "start_time": "2023-07-08T17:58:35.601Z"
   },
   {
    "duration": 10,
    "start_time": "2023-07-08T17:58:35.643Z"
   },
   {
    "duration": 35,
    "start_time": "2023-07-08T17:58:35.655Z"
   },
   {
    "duration": 11,
    "start_time": "2023-07-08T17:58:35.691Z"
   },
   {
    "duration": 19,
    "start_time": "2023-07-08T17:58:35.704Z"
   },
   {
    "duration": 10,
    "start_time": "2023-07-08T17:58:35.724Z"
   },
   {
    "duration": 16,
    "start_time": "2023-07-08T17:58:35.736Z"
   },
   {
    "duration": 11,
    "start_time": "2023-07-08T17:58:35.768Z"
   },
   {
    "duration": 12,
    "start_time": "2023-07-08T17:58:35.780Z"
   },
   {
    "duration": 9,
    "start_time": "2023-07-08T17:58:35.793Z"
   },
   {
    "duration": 9,
    "start_time": "2023-07-08T17:58:35.804Z"
   },
   {
    "duration": 10,
    "start_time": "2023-07-08T17:58:35.817Z"
   },
   {
    "duration": 14,
    "start_time": "2023-07-08T17:58:35.829Z"
   },
   {
    "duration": 175,
    "start_time": "2023-07-08T17:58:35.867Z"
   },
   {
    "duration": 7,
    "start_time": "2023-07-08T17:58:36.044Z"
   },
   {
    "duration": 84,
    "start_time": "2023-07-08T17:58:36.052Z"
   },
   {
    "duration": 10,
    "start_time": "2023-07-08T17:58:36.138Z"
   },
   {
    "duration": 178,
    "start_time": "2023-07-08T17:58:36.150Z"
   },
   {
    "duration": 10,
    "start_time": "2023-07-08T17:58:36.330Z"
   },
   {
    "duration": 179,
    "start_time": "2023-07-08T17:58:36.342Z"
   },
   {
    "duration": 11,
    "start_time": "2023-07-08T17:58:36.523Z"
   },
   {
    "duration": 191,
    "start_time": "2023-07-08T17:58:36.536Z"
   },
   {
    "duration": 20,
    "start_time": "2023-07-08T17:58:36.729Z"
   },
   {
    "duration": 36,
    "start_time": "2023-07-08T17:58:36.751Z"
   },
   {
    "duration": 19,
    "start_time": "2023-07-08T17:58:36.789Z"
   },
   {
    "duration": 20,
    "start_time": "2023-07-08T17:58:36.810Z"
   },
   {
    "duration": 564,
    "start_time": "2023-07-08T17:58:36.832Z"
   },
   {
    "duration": 422,
    "start_time": "2023-07-08T17:58:37.398Z"
   },
   {
    "duration": 122,
    "start_time": "2023-07-08T17:58:37.822Z"
   },
   {
    "duration": 29,
    "start_time": "2023-07-08T17:58:37.946Z"
   },
   {
    "duration": 12,
    "start_time": "2023-07-08T17:58:37.977Z"
   },
   {
    "duration": 6,
    "start_time": "2023-07-08T17:58:37.991Z"
   },
   {
    "duration": 21,
    "start_time": "2023-07-08T17:58:37.998Z"
   },
   {
    "duration": 8,
    "start_time": "2023-07-08T17:58:38.020Z"
   },
   {
    "duration": 21,
    "start_time": "2023-07-08T17:58:38.030Z"
   },
   {
    "duration": 20,
    "start_time": "2023-07-08T17:58:38.053Z"
   },
   {
    "duration": 11,
    "start_time": "2023-07-08T17:58:38.075Z"
   },
   {
    "duration": 5,
    "start_time": "2023-07-08T17:58:38.087Z"
   },
   {
    "duration": 13,
    "start_time": "2023-07-08T17:58:38.096Z"
   },
   {
    "duration": 13,
    "start_time": "2023-07-08T17:58:38.110Z"
   },
   {
    "duration": 250,
    "start_time": "2023-07-08T17:58:38.125Z"
   },
   {
    "duration": 0,
    "start_time": "2023-07-08T17:58:38.377Z"
   },
   {
    "duration": 410,
    "start_time": "2023-07-08T18:23:39.608Z"
   },
   {
    "duration": 6,
    "start_time": "2023-07-08T18:24:25.690Z"
   },
   {
    "duration": 1089,
    "start_time": "2023-07-08T18:51:04.939Z"
   },
   {
    "duration": 3,
    "start_time": "2023-07-08T18:51:06.030Z"
   },
   {
    "duration": 46,
    "start_time": "2023-07-08T18:51:06.034Z"
   },
   {
    "duration": 10,
    "start_time": "2023-07-08T18:51:06.082Z"
   },
   {
    "duration": 35,
    "start_time": "2023-07-08T18:51:06.094Z"
   },
   {
    "duration": 10,
    "start_time": "2023-07-08T18:51:06.131Z"
   },
   {
    "duration": 18,
    "start_time": "2023-07-08T18:51:06.142Z"
   },
   {
    "duration": 10,
    "start_time": "2023-07-08T18:51:06.161Z"
   },
   {
    "duration": 15,
    "start_time": "2023-07-08T18:51:06.173Z"
   },
   {
    "duration": 9,
    "start_time": "2023-07-08T18:51:06.190Z"
   },
   {
    "duration": 5,
    "start_time": "2023-07-08T18:51:06.200Z"
   },
   {
    "duration": 5,
    "start_time": "2023-07-08T18:51:06.206Z"
   },
   {
    "duration": 5,
    "start_time": "2023-07-08T18:51:06.212Z"
   },
   {
    "duration": 7,
    "start_time": "2023-07-08T18:51:06.220Z"
   },
   {
    "duration": 41,
    "start_time": "2023-07-08T18:51:06.228Z"
   },
   {
    "duration": 155,
    "start_time": "2023-07-08T18:51:06.270Z"
   },
   {
    "duration": 7,
    "start_time": "2023-07-08T18:51:06.426Z"
   },
   {
    "duration": 80,
    "start_time": "2023-07-08T18:51:06.434Z"
   },
   {
    "duration": 8,
    "start_time": "2023-07-08T18:51:06.515Z"
   },
   {
    "duration": 153,
    "start_time": "2023-07-08T18:51:06.524Z"
   },
   {
    "duration": 8,
    "start_time": "2023-07-08T18:51:06.679Z"
   },
   {
    "duration": 168,
    "start_time": "2023-07-08T18:51:06.688Z"
   },
   {
    "duration": 18,
    "start_time": "2023-07-08T18:51:06.857Z"
   },
   {
    "duration": 163,
    "start_time": "2023-07-08T18:51:06.877Z"
   },
   {
    "duration": 32,
    "start_time": "2023-07-08T18:51:07.042Z"
   },
   {
    "duration": 23,
    "start_time": "2023-07-08T18:51:07.076Z"
   },
   {
    "duration": 16,
    "start_time": "2023-07-08T18:51:07.101Z"
   },
   {
    "duration": 13,
    "start_time": "2023-07-08T18:51:07.118Z"
   },
   {
    "duration": 489,
    "start_time": "2023-07-08T18:51:07.132Z"
   },
   {
    "duration": 419,
    "start_time": "2023-07-08T18:51:07.623Z"
   },
   {
    "duration": 125,
    "start_time": "2023-07-08T18:51:08.044Z"
   },
   {
    "duration": 14,
    "start_time": "2023-07-08T18:51:08.171Z"
   },
   {
    "duration": 15,
    "start_time": "2023-07-08T18:51:08.187Z"
   },
   {
    "duration": 4,
    "start_time": "2023-07-08T18:51:08.204Z"
   },
   {
    "duration": 9,
    "start_time": "2023-07-08T18:51:08.209Z"
   },
   {
    "duration": 6,
    "start_time": "2023-07-08T18:51:08.219Z"
   },
   {
    "duration": 13,
    "start_time": "2023-07-08T18:51:08.227Z"
   },
   {
    "duration": 28,
    "start_time": "2023-07-08T18:51:08.241Z"
   },
   {
    "duration": 25,
    "start_time": "2023-07-08T18:51:08.270Z"
   },
   {
    "duration": 22,
    "start_time": "2023-07-08T18:51:08.297Z"
   },
   {
    "duration": 22,
    "start_time": "2023-07-08T18:51:08.323Z"
   },
   {
    "duration": 19,
    "start_time": "2023-07-08T18:51:08.346Z"
   },
   {
    "duration": 436,
    "start_time": "2023-07-08T18:51:08.367Z"
   },
   {
    "duration": 6,
    "start_time": "2023-07-08T18:51:08.805Z"
   },
   {
    "duration": 8,
    "start_time": "2023-07-08T18:54:30.851Z"
   },
   {
    "duration": 91,
    "start_time": "2023-07-08T18:57:38.438Z"
   },
   {
    "duration": 7,
    "start_time": "2023-07-08T18:58:10.442Z"
   },
   {
    "duration": 5,
    "start_time": "2023-07-08T18:59:12.050Z"
   },
   {
    "duration": 5,
    "start_time": "2023-07-08T19:00:35.768Z"
   },
   {
    "duration": 4,
    "start_time": "2023-07-08T19:01:02.727Z"
   },
   {
    "duration": 20,
    "start_time": "2023-07-08T19:03:13.090Z"
   },
   {
    "duration": 4,
    "start_time": "2023-07-08T19:04:59.535Z"
   },
   {
    "duration": 4,
    "start_time": "2023-07-08T19:05:04.881Z"
   },
   {
    "duration": 1165,
    "start_time": "2023-07-08T19:19:30.950Z"
   },
   {
    "duration": 3,
    "start_time": "2023-07-08T19:19:32.117Z"
   },
   {
    "duration": 59,
    "start_time": "2023-07-08T19:19:32.121Z"
   },
   {
    "duration": 11,
    "start_time": "2023-07-08T19:19:32.181Z"
   },
   {
    "duration": 41,
    "start_time": "2023-07-08T19:19:32.193Z"
   },
   {
    "duration": 11,
    "start_time": "2023-07-08T19:19:32.235Z"
   },
   {
    "duration": 32,
    "start_time": "2023-07-08T19:19:32.247Z"
   },
   {
    "duration": 10,
    "start_time": "2023-07-08T19:19:32.280Z"
   },
   {
    "duration": 27,
    "start_time": "2023-07-08T19:19:32.291Z"
   },
   {
    "duration": 15,
    "start_time": "2023-07-08T19:19:32.320Z"
   },
   {
    "duration": 5,
    "start_time": "2023-07-08T19:19:32.336Z"
   },
   {
    "duration": 7,
    "start_time": "2023-07-08T19:19:32.343Z"
   },
   {
    "duration": 8,
    "start_time": "2023-07-08T19:19:32.351Z"
   },
   {
    "duration": 19,
    "start_time": "2023-07-08T19:19:32.368Z"
   },
   {
    "duration": 13,
    "start_time": "2023-07-08T19:19:32.388Z"
   },
   {
    "duration": 179,
    "start_time": "2023-07-08T19:19:32.402Z"
   },
   {
    "duration": 7,
    "start_time": "2023-07-08T19:19:32.582Z"
   },
   {
    "duration": 81,
    "start_time": "2023-07-08T19:19:32.591Z"
   },
   {
    "duration": 7,
    "start_time": "2023-07-08T19:19:32.674Z"
   },
   {
    "duration": 149,
    "start_time": "2023-07-08T19:19:32.682Z"
   },
   {
    "duration": 7,
    "start_time": "2023-07-08T19:19:32.832Z"
   },
   {
    "duration": 161,
    "start_time": "2023-07-08T19:19:32.841Z"
   },
   {
    "duration": 8,
    "start_time": "2023-07-08T19:19:33.003Z"
   },
   {
    "duration": 162,
    "start_time": "2023-07-08T19:19:33.012Z"
   },
   {
    "duration": 18,
    "start_time": "2023-07-08T19:19:33.176Z"
   },
   {
    "duration": 18,
    "start_time": "2023-07-08T19:19:33.196Z"
   },
   {
    "duration": 15,
    "start_time": "2023-07-08T19:19:33.216Z"
   },
   {
    "duration": 40,
    "start_time": "2023-07-08T19:19:33.234Z"
   },
   {
    "duration": 448,
    "start_time": "2023-07-08T19:19:33.276Z"
   },
   {
    "duration": 434,
    "start_time": "2023-07-08T19:19:33.725Z"
   },
   {
    "duration": 126,
    "start_time": "2023-07-08T19:19:34.161Z"
   },
   {
    "duration": 16,
    "start_time": "2023-07-08T19:19:34.289Z"
   },
   {
    "duration": 14,
    "start_time": "2023-07-08T19:19:34.307Z"
   },
   {
    "duration": 5,
    "start_time": "2023-07-08T19:19:34.323Z"
   },
   {
    "duration": 38,
    "start_time": "2023-07-08T19:19:34.330Z"
   },
   {
    "duration": 5,
    "start_time": "2023-07-08T19:19:34.370Z"
   },
   {
    "duration": 9,
    "start_time": "2023-07-08T19:19:34.377Z"
   },
   {
    "duration": 7,
    "start_time": "2023-07-08T19:19:34.388Z"
   },
   {
    "duration": 20,
    "start_time": "2023-07-08T19:19:34.396Z"
   },
   {
    "duration": 22,
    "start_time": "2023-07-08T19:19:34.418Z"
   },
   {
    "duration": 8,
    "start_time": "2023-07-08T19:19:34.442Z"
   },
   {
    "duration": 17,
    "start_time": "2023-07-08T19:19:34.452Z"
   },
   {
    "duration": 15,
    "start_time": "2023-07-08T19:19:34.470Z"
   },
   {
    "duration": 6,
    "start_time": "2023-07-08T19:19:34.486Z"
   },
   {
    "duration": 443,
    "start_time": "2023-07-08T19:19:34.494Z"
   },
   {
    "duration": 6,
    "start_time": "2023-07-08T19:19:34.939Z"
   },
   {
    "duration": 49,
    "start_time": "2023-07-09T08:14:32.362Z"
   },
   {
    "duration": 236,
    "start_time": "2023-07-09T09:13:42.634Z"
   },
   {
    "duration": 1358,
    "start_time": "2023-07-09T09:15:49.516Z"
   },
   {
    "duration": 3,
    "start_time": "2023-07-09T09:15:50.876Z"
   },
   {
    "duration": 143,
    "start_time": "2023-07-09T09:15:50.881Z"
   },
   {
    "duration": 11,
    "start_time": "2023-07-09T09:15:51.025Z"
   },
   {
    "duration": 94,
    "start_time": "2023-07-09T09:15:51.038Z"
   },
   {
    "duration": 14,
    "start_time": "2023-07-09T09:15:51.135Z"
   },
   {
    "duration": 70,
    "start_time": "2023-07-09T09:15:51.150Z"
   },
   {
    "duration": 11,
    "start_time": "2023-07-09T09:15:51.222Z"
   },
   {
    "duration": 25,
    "start_time": "2023-07-09T09:15:51.235Z"
   },
   {
    "duration": 20,
    "start_time": "2023-07-09T09:15:51.264Z"
   },
   {
    "duration": 7,
    "start_time": "2023-07-09T09:15:51.286Z"
   },
   {
    "duration": 26,
    "start_time": "2023-07-09T09:15:51.295Z"
   },
   {
    "duration": 23,
    "start_time": "2023-07-09T09:15:51.322Z"
   },
   {
    "duration": 13,
    "start_time": "2023-07-09T09:15:51.349Z"
   },
   {
    "duration": 45,
    "start_time": "2023-07-09T09:15:51.364Z"
   },
   {
    "duration": 161,
    "start_time": "2023-07-09T09:15:51.410Z"
   },
   {
    "duration": 7,
    "start_time": "2023-07-09T09:15:51.572Z"
   },
   {
    "duration": 100,
    "start_time": "2023-07-09T09:15:51.580Z"
   },
   {
    "duration": 7,
    "start_time": "2023-07-09T09:15:51.682Z"
   },
   {
    "duration": 173,
    "start_time": "2023-07-09T09:15:51.690Z"
   },
   {
    "duration": 7,
    "start_time": "2023-07-09T09:15:51.864Z"
   },
   {
    "duration": 198,
    "start_time": "2023-07-09T09:15:51.873Z"
   },
   {
    "duration": 7,
    "start_time": "2023-07-09T09:15:52.073Z"
   },
   {
    "duration": 158,
    "start_time": "2023-07-09T09:15:52.081Z"
   },
   {
    "duration": 27,
    "start_time": "2023-07-09T09:15:52.240Z"
   },
   {
    "duration": 49,
    "start_time": "2023-07-09T09:15:52.269Z"
   },
   {
    "duration": 18,
    "start_time": "2023-07-09T09:15:52.319Z"
   },
   {
    "duration": 13,
    "start_time": "2023-07-09T09:15:52.339Z"
   },
   {
    "duration": 476,
    "start_time": "2023-07-09T09:15:52.354Z"
   },
   {
    "duration": 442,
    "start_time": "2023-07-09T09:15:52.832Z"
   },
   {
    "duration": 99,
    "start_time": "2023-07-09T09:15:53.275Z"
   },
   {
    "duration": 14,
    "start_time": "2023-07-09T09:15:53.375Z"
   },
   {
    "duration": 26,
    "start_time": "2023-07-09T09:15:53.390Z"
   },
   {
    "duration": 23,
    "start_time": "2023-07-09T09:15:53.419Z"
   },
   {
    "duration": 18,
    "start_time": "2023-07-09T09:15:53.443Z"
   },
   {
    "duration": 8,
    "start_time": "2023-07-09T09:15:53.462Z"
   },
   {
    "duration": 24,
    "start_time": "2023-07-09T09:15:53.471Z"
   },
   {
    "duration": 7,
    "start_time": "2023-07-09T09:15:53.497Z"
   },
   {
    "duration": 29,
    "start_time": "2023-07-09T09:15:53.505Z"
   },
   {
    "duration": 12,
    "start_time": "2023-07-09T09:15:53.536Z"
   },
   {
    "duration": 6,
    "start_time": "2023-07-09T09:15:53.551Z"
   },
   {
    "duration": 10,
    "start_time": "2023-07-09T09:15:53.559Z"
   },
   {
    "duration": 23,
    "start_time": "2023-07-09T09:15:53.571Z"
   },
   {
    "duration": 26,
    "start_time": "2023-07-09T09:15:53.597Z"
   },
   {
    "duration": 440,
    "start_time": "2023-07-09T09:15:53.624Z"
   },
   {
    "duration": 6,
    "start_time": "2023-07-09T09:15:54.065Z"
   },
   {
    "duration": 154,
    "start_time": "2023-07-09T09:42:30.675Z"
   },
   {
    "duration": 318,
    "start_time": "2023-07-09T09:48:34.963Z"
   },
   {
    "duration": 314,
    "start_time": "2023-07-09T09:53:01.870Z"
   },
   {
    "duration": 359,
    "start_time": "2023-07-09T09:53:17.933Z"
   },
   {
    "duration": 396,
    "start_time": "2023-07-09T09:54:29.151Z"
   },
   {
    "duration": 403,
    "start_time": "2023-07-09T09:57:27.234Z"
   },
   {
    "duration": 394,
    "start_time": "2023-07-09T09:58:35.152Z"
   },
   {
    "duration": 405,
    "start_time": "2023-07-09T09:59:05.141Z"
   },
   {
    "duration": 431,
    "start_time": "2023-07-09T09:59:29.348Z"
   },
   {
    "duration": 358,
    "start_time": "2023-07-09T09:59:33.876Z"
   },
   {
    "duration": 506,
    "start_time": "2023-07-09T10:00:27.236Z"
   },
   {
    "duration": 387,
    "start_time": "2023-07-09T10:07:45.930Z"
   },
   {
    "duration": 399,
    "start_time": "2023-07-09T10:07:58.330Z"
   },
   {
    "duration": 467,
    "start_time": "2023-07-09T10:08:19.122Z"
   },
   {
    "duration": 435,
    "start_time": "2023-07-09T10:08:28.738Z"
   },
   {
    "duration": 358,
    "start_time": "2023-07-09T10:13:53.128Z"
   },
   {
    "duration": 415,
    "start_time": "2023-07-09T10:14:07.621Z"
   },
   {
    "duration": 403,
    "start_time": "2023-07-09T10:14:37.129Z"
   },
   {
    "duration": 383,
    "start_time": "2023-07-09T10:14:58.930Z"
   },
   {
    "duration": 247,
    "start_time": "2023-07-09T10:15:07.230Z"
   },
   {
    "duration": 351,
    "start_time": "2023-07-09T10:15:12.870Z"
   },
   {
    "duration": 330,
    "start_time": "2023-07-09T10:16:03.042Z"
   },
   {
    "duration": 416,
    "start_time": "2023-07-09T10:16:21.224Z"
   },
   {
    "duration": 141,
    "start_time": "2023-07-09T10:16:50.519Z"
   },
   {
    "duration": 11,
    "start_time": "2023-07-09T10:17:04.824Z"
   },
   {
    "duration": 355,
    "start_time": "2023-07-09T10:17:51.174Z"
   },
   {
    "duration": 366,
    "start_time": "2023-07-09T10:18:01.922Z"
   },
   {
    "duration": 328,
    "start_time": "2023-07-09T10:18:17.223Z"
   },
   {
    "duration": 356,
    "start_time": "2023-07-09T10:18:31.942Z"
   },
   {
    "duration": 335,
    "start_time": "2023-07-09T10:18:37.925Z"
   },
   {
    "duration": 371,
    "start_time": "2023-07-09T10:19:01.967Z"
   },
   {
    "duration": 402,
    "start_time": "2023-07-09T10:20:00.437Z"
   },
   {
    "duration": 385,
    "start_time": "2023-07-09T10:20:36.070Z"
   },
   {
    "duration": 538,
    "start_time": "2023-07-09T10:21:11.850Z"
   },
   {
    "duration": 406,
    "start_time": "2023-07-09T10:21:34.423Z"
   },
   {
    "duration": 398,
    "start_time": "2023-07-09T10:21:40.931Z"
   },
   {
    "duration": 145,
    "start_time": "2023-07-09T10:58:10.391Z"
   },
   {
    "duration": 412,
    "start_time": "2023-07-09T10:58:24.114Z"
   },
   {
    "duration": 465,
    "start_time": "2023-07-09T11:00:07.797Z"
   },
   {
    "duration": 354,
    "start_time": "2023-07-09T11:00:33.592Z"
   },
   {
    "duration": 319,
    "start_time": "2023-07-09T11:02:04.445Z"
   },
   {
    "duration": 376,
    "start_time": "2023-07-09T11:02:38.742Z"
   },
   {
    "duration": 508,
    "start_time": "2023-07-09T11:03:01.698Z"
   },
   {
    "duration": 439,
    "start_time": "2023-07-09T11:03:43.227Z"
   },
   {
    "duration": 358,
    "start_time": "2023-07-09T11:04:31.095Z"
   },
   {
    "duration": 363,
    "start_time": "2023-07-09T11:07:10.605Z"
   },
   {
    "duration": 486,
    "start_time": "2023-07-09T11:07:55.398Z"
   },
   {
    "duration": 445,
    "start_time": "2023-07-09T11:08:20.108Z"
   },
   {
    "duration": 393,
    "start_time": "2023-07-09T11:08:38.855Z"
   },
   {
    "duration": 444,
    "start_time": "2023-07-09T11:10:06.117Z"
   },
   {
    "duration": 406,
    "start_time": "2023-07-09T11:10:21.301Z"
   },
   {
    "duration": 438,
    "start_time": "2023-07-09T11:10:53.245Z"
   },
   {
    "duration": 405,
    "start_time": "2023-07-09T11:11:03.855Z"
   },
   {
    "duration": 501,
    "start_time": "2023-07-09T11:11:10.666Z"
   },
   {
    "duration": 427,
    "start_time": "2023-07-09T11:12:51.451Z"
   },
   {
    "duration": 461,
    "start_time": "2023-07-09T11:13:08.943Z"
   },
   {
    "duration": 616,
    "start_time": "2023-07-09T11:14:30.637Z"
   },
   {
    "duration": 633,
    "start_time": "2023-07-09T11:18:18.500Z"
   },
   {
    "duration": 565,
    "start_time": "2023-07-09T11:18:47.756Z"
   },
   {
    "duration": 478,
    "start_time": "2023-07-09T11:19:40.837Z"
   },
   {
    "duration": 275,
    "start_time": "2023-07-09T11:45:57.201Z"
   },
   {
    "duration": 269,
    "start_time": "2023-07-09T11:47:40.859Z"
   },
   {
    "duration": 303,
    "start_time": "2023-07-09T11:48:23.313Z"
   },
   {
    "duration": 318,
    "start_time": "2023-07-09T11:49:51.758Z"
   },
   {
    "duration": 393,
    "start_time": "2023-07-09T11:50:27.212Z"
   },
   {
    "duration": 282,
    "start_time": "2023-07-09T11:50:53.302Z"
   },
   {
    "duration": 317,
    "start_time": "2023-07-09T11:51:13.417Z"
   },
   {
    "duration": 432,
    "start_time": "2023-07-09T11:52:30.947Z"
   },
   {
    "duration": 412,
    "start_time": "2023-07-09T11:52:44.890Z"
   },
   {
    "duration": 524,
    "start_time": "2023-07-09T11:53:46.298Z"
   },
   {
    "duration": 481,
    "start_time": "2023-07-09T11:54:18.902Z"
   },
   {
    "duration": 498,
    "start_time": "2023-07-09T11:57:40.909Z"
   },
   {
    "duration": 435,
    "start_time": "2023-07-09T11:58:01.593Z"
   },
   {
    "duration": 3,
    "start_time": "2023-07-09T11:58:21.838Z"
   },
   {
    "duration": 475,
    "start_time": "2023-07-09T11:58:41.047Z"
   },
   {
    "duration": 288,
    "start_time": "2023-07-09T11:58:58.304Z"
   },
   {
    "duration": 586,
    "start_time": "2023-07-09T11:59:19.747Z"
   },
   {
    "duration": 444,
    "start_time": "2023-07-09T11:59:46.152Z"
   },
   {
    "duration": 449,
    "start_time": "2023-07-09T12:00:13.827Z"
   },
   {
    "duration": 415,
    "start_time": "2023-07-09T12:00:40.675Z"
   },
   {
    "duration": 455,
    "start_time": "2023-07-09T12:03:00.144Z"
   },
   {
    "duration": 514,
    "start_time": "2023-07-09T12:03:35.090Z"
   },
   {
    "duration": 89,
    "start_time": "2023-07-09T12:04:51.461Z"
   },
   {
    "duration": 452,
    "start_time": "2023-07-09T12:04:58.924Z"
   },
   {
    "duration": 435,
    "start_time": "2023-07-09T12:06:22.958Z"
   },
   {
    "duration": 421,
    "start_time": "2023-07-09T12:13:34.093Z"
   },
   {
    "duration": 462,
    "start_time": "2023-07-09T12:17:55.234Z"
   },
   {
    "duration": 448,
    "start_time": "2023-07-09T12:22:26.243Z"
   },
   {
    "duration": 542,
    "start_time": "2023-07-09T12:23:17.244Z"
   },
   {
    "duration": 476,
    "start_time": "2023-07-09T12:23:38.332Z"
   },
   {
    "duration": 339,
    "start_time": "2023-07-09T12:26:38.103Z"
   },
   {
    "duration": 516,
    "start_time": "2023-07-09T12:28:27.107Z"
   },
   {
    "duration": 461,
    "start_time": "2023-07-09T12:30:53.138Z"
   },
   {
    "duration": 580,
    "start_time": "2023-07-09T12:31:55.640Z"
   },
   {
    "duration": 524,
    "start_time": "2023-07-09T12:32:18.372Z"
   },
   {
    "duration": 553,
    "start_time": "2023-07-09T12:35:55.796Z"
   },
   {
    "duration": 375,
    "start_time": "2023-07-09T12:40:43.724Z"
   },
   {
    "duration": 4,
    "start_time": "2023-07-09T13:12:18.487Z"
   },
   {
    "duration": 5,
    "start_time": "2023-07-09T13:14:25.155Z"
   },
   {
    "duration": 6,
    "start_time": "2023-07-09T13:23:52.318Z"
   },
   {
    "duration": 3,
    "start_time": "2023-07-09T13:24:01.392Z"
   },
   {
    "duration": 1104,
    "start_time": "2023-07-09T13:40:38.690Z"
   },
   {
    "duration": 3,
    "start_time": "2023-07-09T13:40:39.795Z"
   },
   {
    "duration": 75,
    "start_time": "2023-07-09T13:40:39.799Z"
   },
   {
    "duration": 11,
    "start_time": "2023-07-09T13:40:39.876Z"
   },
   {
    "duration": 56,
    "start_time": "2023-07-09T13:40:39.889Z"
   },
   {
    "duration": 10,
    "start_time": "2023-07-09T13:40:39.947Z"
   },
   {
    "duration": 19,
    "start_time": "2023-07-09T13:40:39.959Z"
   },
   {
    "duration": 9,
    "start_time": "2023-07-09T13:40:39.980Z"
   },
   {
    "duration": 45,
    "start_time": "2023-07-09T13:40:39.990Z"
   },
   {
    "duration": 15,
    "start_time": "2023-07-09T13:40:40.037Z"
   },
   {
    "duration": 22,
    "start_time": "2023-07-09T13:40:40.053Z"
   },
   {
    "duration": 12,
    "start_time": "2023-07-09T13:40:40.077Z"
   },
   {
    "duration": 34,
    "start_time": "2023-07-09T13:40:40.090Z"
   },
   {
    "duration": 15,
    "start_time": "2023-07-09T13:40:40.129Z"
   },
   {
    "duration": 17,
    "start_time": "2023-07-09T13:40:40.146Z"
   },
   {
    "duration": 159,
    "start_time": "2023-07-09T13:40:40.165Z"
   },
   {
    "duration": 6,
    "start_time": "2023-07-09T13:40:40.326Z"
   },
   {
    "duration": 85,
    "start_time": "2023-07-09T13:40:40.334Z"
   },
   {
    "duration": 6,
    "start_time": "2023-07-09T13:40:40.421Z"
   },
   {
    "duration": 161,
    "start_time": "2023-07-09T13:40:40.429Z"
   },
   {
    "duration": 6,
    "start_time": "2023-07-09T13:40:40.592Z"
   },
   {
    "duration": 166,
    "start_time": "2023-07-09T13:40:40.599Z"
   },
   {
    "duration": 8,
    "start_time": "2023-07-09T13:40:40.766Z"
   },
   {
    "duration": 183,
    "start_time": "2023-07-09T13:40:40.775Z"
   },
   {
    "duration": 20,
    "start_time": "2023-07-09T13:40:40.960Z"
   },
   {
    "duration": 35,
    "start_time": "2023-07-09T13:40:40.982Z"
   },
   {
    "duration": 16,
    "start_time": "2023-07-09T13:40:41.018Z"
   },
   {
    "duration": 12,
    "start_time": "2023-07-09T13:40:41.035Z"
   },
   {
    "duration": 360,
    "start_time": "2023-07-09T13:40:41.049Z"
   },
   {
    "duration": 496,
    "start_time": "2023-07-09T13:40:41.410Z"
   },
   {
    "duration": 96,
    "start_time": "2023-07-09T13:40:41.908Z"
   },
   {
    "duration": 17,
    "start_time": "2023-07-09T13:40:42.005Z"
   },
   {
    "duration": 23,
    "start_time": "2023-07-09T13:40:42.024Z"
   },
   {
    "duration": 5,
    "start_time": "2023-07-09T13:40:42.049Z"
   },
   {
    "duration": 10,
    "start_time": "2023-07-09T13:40:42.055Z"
   },
   {
    "duration": 10,
    "start_time": "2023-07-09T13:40:42.067Z"
   },
   {
    "duration": 40,
    "start_time": "2023-07-09T13:40:42.078Z"
   },
   {
    "duration": 12,
    "start_time": "2023-07-09T13:40:42.120Z"
   },
   {
    "duration": 10,
    "start_time": "2023-07-09T13:40:42.134Z"
   },
   {
    "duration": 8,
    "start_time": "2023-07-09T13:40:42.146Z"
   },
   {
    "duration": 5,
    "start_time": "2023-07-09T13:40:42.158Z"
   },
   {
    "duration": 8,
    "start_time": "2023-07-09T13:40:42.165Z"
   },
   {
    "duration": 11,
    "start_time": "2023-07-09T13:40:42.175Z"
   },
   {
    "duration": 30,
    "start_time": "2023-07-09T13:40:42.188Z"
   },
   {
    "duration": 428,
    "start_time": "2023-07-09T13:40:42.219Z"
   },
   {
    "duration": 7,
    "start_time": "2023-07-09T13:40:42.648Z"
   }
  ],
  "kernelspec": {
   "display_name": "Python 3 (ipykernel)",
   "language": "python",
   "name": "python3"
  },
  "language_info": {
   "codemirror_mode": {
    "name": "ipython",
    "version": 3
   },
   "file_extension": ".py",
   "mimetype": "text/x-python",
   "name": "python",
   "nbconvert_exporter": "python",
   "pygments_lexer": "ipython3",
   "version": "3.9.21"
  },
  "toc": {
   "base_numbering": 1,
   "nav_menu": {},
   "number_sections": true,
   "sideBar": true,
   "skip_h1_title": true,
   "title_cell": "Table of Contents",
   "title_sidebar": "Contents",
   "toc_cell": false,
   "toc_position": {
    "height": "calc(100% - 180px)",
    "left": "10px",
    "top": "150px",
    "width": "276.449px"
   },
   "toc_section_display": true,
   "toc_window_display": true
  },
  "varInspector": {
   "cols": {
    "lenName": 16,
    "lenType": 16,
    "lenVar": 40
   },
   "kernels_config": {
    "python": {
     "delete_cmd_postfix": "",
     "delete_cmd_prefix": "del ",
     "library": "var_list.py",
     "varRefreshCmd": "print(var_dic_list())"
    },
    "r": {
     "delete_cmd_postfix": ") ",
     "delete_cmd_prefix": "rm(",
     "library": "var_list.r",
     "varRefreshCmd": "cat(var_dic_list()) "
    }
   },
   "types_to_exclude": [
    "module",
    "function",
    "builtin_function_or_method",
    "instance",
    "_Feature"
   ],
   "window_display": false
  }
 },
 "nbformat": 4,
 "nbformat_minor": 5
}
